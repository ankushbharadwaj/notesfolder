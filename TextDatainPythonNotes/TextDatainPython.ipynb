{
 "cells": [
  {
   "cell_type": "markdown",
   "id": "cb126277-d2ec-410c-b747-119bbe47549b",
   "metadata": {},
   "source": [
    "# Getting Started with Text Data in Python\n",
    "## UC Love Data Week\n",
    "\n",
    "[Reader](https://ucdavisdatalab.github.io/workshop_getting_started_with_textual_data/index.html)\n",
    "\n",
    "[Recording #1](https://video.ucdavis.edu/media/Getting%20Started%20with%20Textual%20Data%20in%20Python%203-Part%20Series%20%E2%80%93%20Part%201%20of%203%20-%202022-02-14/1_hj51w6hn)\n",
    "\n",
    "### Going to start with some Python review to make sure I remember basics of how to work with text data"
   ]
  },
  {
   "cell_type": "code",
   "execution_count": 1,
   "id": "f9af411b-1e5a-45a9-b685-8f840e961ced",
   "metadata": {},
   "outputs": [],
   "source": [
    "with open(\"/Users/ankushbharadwaj/Desktop/GettingStartedwTextDatainPython/tm_workshop_data/session_one/shelley_frankenstein.txt\", 'r') as f:\n",
    "    frankenstein = f.read()"
   ]
  },
  {
   "cell_type": "markdown",
   "id": "f6303d5c-ef3e-4c7e-9456-0d29e55def7a",
   "metadata": {},
   "source": [
    "So for this above one, I tried moving the tm_workshop_data folder into the same folder as this .ipynb file and using a shorter path but that didn't work. Then I added Desktop/GettingStarted... but that didn't work either. This command didn't work until I found the full path for the text file by dragging it into terminal. "
   ]
  },
  {
   "cell_type": "code",
   "execution_count": 2,
   "id": "33059579-15ac-4ab7-82ee-eb19bf4e5cac",
   "metadata": {},
   "outputs": [
    {
     "data": {
      "text/plain": [
       "'Letter 1\\n\\n_To Mrs. Saville, England._\\n\\n\\nSt. Petersburgh, Dec. 11th, 17—.\\n\\n\\nYou will rejoice to hear that no disaster has accompanied the\\ncommencement of an enterprise which you have regarded with such evil\\nforebodings. I arrived here yesterday, and my first task is to assure\\nmy dear sister of my welfare and increasing confidence in the success\\nof my undertaking.\\n\\nI am already far north of London, and as I walk in the streets of\\nPetersburgh, I feel a cold northern breeze play upon my cheeks, whic'"
      ]
     },
     "execution_count": 2,
     "metadata": {},
     "output_type": "execute_result"
    }
   ],
   "source": [
    "frankenstein[:500]"
   ]
  },
  {
   "cell_type": "markdown",
   "id": "ff6b63c2-2a30-4c9d-8fa1-f770b3c0d814",
   "metadata": {},
   "source": [
    "The mode for the open() call is 'r' becasue we are reading in plain text data, and another option would be binary data or 'rb'. Plain text data is generally some kind of data that uses text characters that humans can read. "
   ]
  },
  {
   "cell_type": "code",
   "execution_count": 3,
   "id": "7334cfe4-47d8-4f50-ae33-fb37ece61ace",
   "metadata": {},
   "outputs": [
    {
     "name": "stdout",
     "output_type": "stream",
     "text": [
      "Letter 1\n",
      "\n",
      "_To Mrs. Saville, England._\n",
      "\n",
      "\n",
      "St. Petersburgh, Dec. 11th, 17—.\n",
      "\n",
      "\n",
      "You will rejoice to hear that no disaster has accompanied the\n",
      "commencement of an enterprise which you have regarded with such evil\n",
      "forebodings. I arrived here yesterday, and my first task is to assure\n",
      "my dear sister of my welfare and increasing confidence in the success\n",
      "of my undertaking.\n",
      "\n",
      "I am already far north of London, and as I walk in the streets of\n",
      "Petersburgh, I feel a cold northern breeze play upon my cheeks, whic\n"
     ]
    }
   ],
   "source": [
    "print(frankenstein[:500])"
   ]
  },
  {
   "cell_type": "markdown",
   "id": "bf408d56-a8eb-48cb-bdd0-0efe48c11211",
   "metadata": {},
   "source": [
    "Difference between last two outputs showcases the differences between print conventions and code conventions. \n",
    "\n",
    "An important point of note at this moment is that the text is just composed of characters, and this program at this moment doesn't distinguish between the start and end of words and see spaces as just another character that connects \"words\" in the text together. It's just a character jumble, along with your backslash characters like the newline character /n. \n",
    "\n",
    "Changing the program's perception of Frankenstein from a bunch of characters to a bunch of strings (or words) is called tokenizing, which is when we change a long stream of characters into groups of characters, or substrings, also called tokens. Tokens can be characters individually, but these tokens aren't helpful so we want our tokens to be something more meaningful like words. "
   ]
  },
  {
   "cell_type": "code",
   "execution_count": 4,
   "id": "1452edb3-357e-497f-b9fb-0a5ef80af025",
   "metadata": {},
   "outputs": [
    {
     "data": {
      "text/plain": [
       "['Letter',\n",
       " '1',\n",
       " '_To',\n",
       " 'Mrs.',\n",
       " 'Saville,',\n",
       " 'England._',\n",
       " 'St.',\n",
       " 'Petersburgh,',\n",
       " 'Dec.',\n",
       " '11th,',\n",
       " '17—.',\n",
       " 'You',\n",
       " 'will',\n",
       " 'rejoice',\n",
       " 'to']"
      ]
     },
     "execution_count": 4,
     "metadata": {},
     "output_type": "execute_result"
    }
   ],
   "source": [
    "doc = frankenstein.split()\n",
    "doc[:15]"
   ]
  },
  {
   "cell_type": "markdown",
   "id": "239b9563-caa9-480a-b8e3-e3c4fda01f08",
   "metadata": {},
   "source": [
    "The split() function isolates words based on a passed character that separates groups of words, which at default means that it will split on the whitespace character, since this is the default arguement. This also includes newline and tab characters, \\n and \\t. \n",
    "\n",
    "As we can see from the output in the previous line, this results in tokens of words. Now we can get a unique word count with a for loop. "
   ]
  },
  {
   "cell_type": "code",
   "execution_count": 5,
   "id": "3ab7ee89-1129-4b35-922a-29bd4a7bd172",
   "metadata": {},
   "outputs": [],
   "source": [
    "word_counts = dict()\n",
    "\n",
    "for word in doc:\n",
    "    if word not in word_counts.keys():\n",
    "        word_counts[word] = 1\n",
    "    else:\n",
    "        word_counts[word] += 1"
   ]
  },
  {
   "cell_type": "code",
   "execution_count": 6,
   "id": "27fdfeba-f321-4d4f-bec0-0ccb13a797bc",
   "metadata": {},
   "outputs": [
    {
     "name": "stdout",
     "output_type": "stream",
     "text": [
      "Total unique words:  11590\n"
     ]
    }
   ],
   "source": [
    "print(\"Total unique words: \", len(word_counts.keys()))"
   ]
  },
  {
   "cell_type": "code",
   "execution_count": 7,
   "id": "bdd24980-c40b-488e-b5c1-24e45e1bd6e1",
   "metadata": {},
   "outputs": [
    {
     "name": "stdout",
     "output_type": "stream",
     "text": [
      "Total unique words: 11590\n"
     ]
    }
   ],
   "source": [
    "print(\"Total unique words: \" f\"{len(word_counts.keys())}\")"
   ]
  },
  {
   "cell_type": "markdown",
   "id": "f9f5e154-6cf1-4920-8e6b-0618552a42b1",
   "metadata": {},
   "source": [
    "I did that second print just to put that format of printing back into my memory, this lets me print variables in a print statement in a different way, which could be useful sometime?\n",
    "\n",
    "Say we want to see the top words, this is what we'd do. "
   ]
  },
  {
   "cell_type": "code",
   "execution_count": 8,
   "id": "492ac032-f495-4318-8d1e-f2777438b323",
   "metadata": {},
   "outputs": [],
   "source": [
    "import pandas as pd"
   ]
  },
  {
   "cell_type": "code",
   "execution_count": 9,
   "id": "8235e187-afa6-4756-8843-5bc0e36d3c39",
   "metadata": {},
   "outputs": [
    {
     "data": {
      "text/html": [
       "<div>\n",
       "<style scoped>\n",
       "    .dataframe tbody tr th:only-of-type {\n",
       "        vertical-align: middle;\n",
       "    }\n",
       "\n",
       "    .dataframe tbody tr th {\n",
       "        vertical-align: top;\n",
       "    }\n",
       "\n",
       "    .dataframe thead th {\n",
       "        text-align: right;\n",
       "    }\n",
       "</style>\n",
       "<table border=\"1\" class=\"dataframe\">\n",
       "  <thead>\n",
       "    <tr style=\"text-align: right;\">\n",
       "      <th></th>\n",
       "      <th>Count</th>\n",
       "    </tr>\n",
       "  </thead>\n",
       "  <tbody>\n",
       "    <tr>\n",
       "      <th>the</th>\n",
       "      <td>3897</td>\n",
       "    </tr>\n",
       "    <tr>\n",
       "      <th>and</th>\n",
       "      <td>2903</td>\n",
       "    </tr>\n",
       "    <tr>\n",
       "      <th>I</th>\n",
       "      <td>2719</td>\n",
       "    </tr>\n",
       "    <tr>\n",
       "      <th>of</th>\n",
       "      <td>2634</td>\n",
       "    </tr>\n",
       "    <tr>\n",
       "      <th>to</th>\n",
       "      <td>2072</td>\n",
       "    </tr>\n",
       "    <tr>\n",
       "      <th>my</th>\n",
       "      <td>1631</td>\n",
       "    </tr>\n",
       "    <tr>\n",
       "      <th>a</th>\n",
       "      <td>1338</td>\n",
       "    </tr>\n",
       "    <tr>\n",
       "      <th>in</th>\n",
       "      <td>1071</td>\n",
       "    </tr>\n",
       "    <tr>\n",
       "      <th>was</th>\n",
       "      <td>992</td>\n",
       "    </tr>\n",
       "    <tr>\n",
       "      <th>that</th>\n",
       "      <td>974</td>\n",
       "    </tr>\n",
       "  </tbody>\n",
       "</table>\n",
       "</div>"
      ],
      "text/plain": [
       "      Count\n",
       "the    3897\n",
       "and    2903\n",
       "I      2719\n",
       "of     2634\n",
       "to     2072\n",
       "my     1631\n",
       "a      1338\n",
       "in     1071\n",
       "was     992\n",
       "that    974"
      ]
     },
     "execution_count": 9,
     "metadata": {},
     "output_type": "execute_result"
    }
   ],
   "source": [
    "df = pd.DataFrame.from_dict(word_counts, columns = ['Count'], orient = 'index')\n",
    "df = df.sort_values(ascending = False, by = 'Count')\n",
    "df.head(10)"
   ]
  },
  {
   "cell_type": "markdown",
   "id": "8aa9aa6f-4c5e-43b7-9fff-b7acd03609b8",
   "metadata": {},
   "source": [
    "This might still have duplicates, so just to check if there are:"
   ]
  },
  {
   "cell_type": "code",
   "execution_count": 10,
   "id": "c78c9936-15f5-4c73-852a-06103074dd64",
   "metadata": {},
   "outputs": [
    {
     "name": "stdout",
     "output_type": "stream",
     "text": [
      "      Count\n",
      "the   3897      Count\n",
      "The    255\n"
     ]
    }
   ],
   "source": [
    "print(f\" {df[df.index == 'the']} {df[df.index == 'The']}\")"
   ]
  },
  {
   "cell_type": "markdown",
   "id": "ec1a61f4-9c54-4b41-8847-eefc6d91a041",
   "metadata": {},
   "source": [
    "Not super sure why, but this `print(f\" {df['the']} {df['The']}\")` command didn't run, yet the above did. Just keep this in mind for the future if we can't access the values of a dataframe with indices that aren't numbers and are actually strings. \n",
    "\n",
    "Okay well we at least have one duplicate. Looking for more:"
   ]
  },
  {
   "cell_type": "code",
   "execution_count": 11,
   "id": "ac63c280-ab31-4e6e-8ccd-50f5e7bd7065",
   "metadata": {},
   "outputs": [
    {
     "data": {
      "text/html": [
       "<div>\n",
       "<style scoped>\n",
       "    .dataframe tbody tr th:only-of-type {\n",
       "        vertical-align: middle;\n",
       "    }\n",
       "\n",
       "    .dataframe tbody tr th {\n",
       "        vertical-align: top;\n",
       "    }\n",
       "\n",
       "    .dataframe thead th {\n",
       "        text-align: right;\n",
       "    }\n",
       "</style>\n",
       "<table border=\"1\" class=\"dataframe\">\n",
       "  <thead>\n",
       "    <tr style=\"text-align: right;\">\n",
       "      <th></th>\n",
       "      <th>Count</th>\n",
       "    </tr>\n",
       "  </thead>\n",
       "  <tbody>\n",
       "    <tr>\n",
       "      <th>the</th>\n",
       "      <td>3897</td>\n",
       "    </tr>\n",
       "    <tr>\n",
       "      <th>their</th>\n",
       "      <td>174</td>\n",
       "    </tr>\n",
       "    <tr>\n",
       "      <th>they</th>\n",
       "      <td>166</td>\n",
       "    </tr>\n",
       "    <tr>\n",
       "      <th>these</th>\n",
       "      <td>130</td>\n",
       "    </tr>\n",
       "    <tr>\n",
       "      <th>then</th>\n",
       "      <td>81</td>\n",
       "    </tr>\n",
       "    <tr>\n",
       "      <th>...</th>\n",
       "      <td>...</td>\n",
       "    </tr>\n",
       "    <tr>\n",
       "      <th>together;</th>\n",
       "      <td>1</td>\n",
       "    </tr>\n",
       "    <tr>\n",
       "      <th>thee.</th>\n",
       "      <td>1</td>\n",
       "    </tr>\n",
       "    <tr>\n",
       "      <th>thee?</th>\n",
       "      <td>1</td>\n",
       "    </tr>\n",
       "    <tr>\n",
       "      <th>other.</th>\n",
       "      <td>1</td>\n",
       "    </tr>\n",
       "    <tr>\n",
       "      <th>sister—the</th>\n",
       "      <td>1</td>\n",
       "    </tr>\n",
       "  </tbody>\n",
       "</table>\n",
       "<p>164 rows × 1 columns</p>\n",
       "</div>"
      ],
      "text/plain": [
       "            Count\n",
       "the          3897\n",
       "their         174\n",
       "they          166\n",
       "these         130\n",
       "then           81\n",
       "...           ...\n",
       "together;       1\n",
       "thee.           1\n",
       "thee?           1\n",
       "other.          1\n",
       "sister—the      1\n",
       "\n",
       "[164 rows x 1 columns]"
      ]
     },
     "execution_count": 11,
     "metadata": {},
     "output_type": "execute_result"
    }
   ],
   "source": [
    "df[df.index.str.contains(\"the\")]"
   ]
  },
  {
   "cell_type": "code",
   "execution_count": 12,
   "id": "a9726855-0cef-4bc8-80ce-59964bdff8c7",
   "metadata": {},
   "outputs": [
    {
     "data": {
      "text/html": [
       "<div>\n",
       "<style scoped>\n",
       "    .dataframe tbody tr th:only-of-type {\n",
       "        vertical-align: middle;\n",
       "    }\n",
       "\n",
       "    .dataframe tbody tr th {\n",
       "        vertical-align: top;\n",
       "    }\n",
       "\n",
       "    .dataframe thead th {\n",
       "        text-align: right;\n",
       "    }\n",
       "</style>\n",
       "<table border=\"1\" class=\"dataframe\">\n",
       "  <thead>\n",
       "    <tr style=\"text-align: right;\">\n",
       "      <th></th>\n",
       "      <th>Count</th>\n",
       "    </tr>\n",
       "  </thead>\n",
       "  <tbody>\n",
       "  </tbody>\n",
       "</table>\n",
       "</div>"
      ],
      "text/plain": [
       "Empty DataFrame\n",
       "Columns: [Count]\n",
       "Index: []"
      ]
     },
     "execution_count": 12,
     "metadata": {},
     "output_type": "execute_result"
    }
   ],
   "source": [
    "df[df.index == df.index.str.contains(\"the\")]"
   ]
  },
  {
   "cell_type": "markdown",
   "id": "73b07da7-ccca-4bf2-ad9c-24834a2ea7fb",
   "metadata": {},
   "source": [
    "Okay so the reason for the past few outputs being the way they are is kind of confusing to me at first, but I am guessing I have to subset dataframes with logical vectors, and I can't just subset by calling the index for the row that has information I want like I would do if the indices were numbered. \n",
    "\n",
    "There are other instances of \"the\" being read incorrectly, such as the last \"sister-the\". From this I will assume that there are others that we can't see due to the print format. \n",
    "\n",
    "The reason that we messed up is because we gave the program an incorrect definition of a word. We told the computer to make tokens separated by whitespaces, and that therefore words are strings that are separated by whitespaces, which doesnt' account for all the words in Frankenstein. Furthermore, when a computer compares words, it doesn't compare the meaning of the words like humans would and then decide whether or not they are the same word, the computer compares the words in a very literal character by character sense such that words with the same characters are the same words absolutely and words with different characters are definitely different characters.\n",
    "\n",
    "This gets into the concept of lexemes, which are the meanings that underlie groups of words and can be used to unite groups of words that a program would otherwise identify as different words. \n",
    "\n",
    "To get closer to lexemes, the count of words is combined with the context in which these words appear. These two can help find relationships between words and start to give us interpretations of the text. \n",
    "\n",
    "### For now though, the next step is exploring text cleaning options. \n",
    "\n",
    "First step is wanting to clean the text, removing punctuation and uppercase/lowercase, maybe even some spelling errors. Steps usually follow like:\n",
    "* word casing\n",
    "* punctuation\n",
    "* numerical characters\n",
    "* extra whitespaces\n",
    "* \"stop words\"\n",
    "\n",
    "This can be considered \"standard\" for most projects, but apparently there's a decent amount of variation in which steps we want to include depending on the data we're working with and the questions being asked. "
   ]
  },
  {
   "cell_type": "code",
   "execution_count": 13,
   "id": "5301edfe-91cb-469c-8b51-26e9696e84ff",
   "metadata": {},
   "outputs": [
    {
     "data": {
      "text/plain": [
       "'Letter 1\\n\\n_To Mrs. Saville, England._\\n\\n\\nSt. Petersburgh, Dec. 11th, 17—.\\n\\n\\nYou will rejoice to hear that no disaster has accompanied the\\ncommencement of an enterprise which you have regarded with such evil\\nforebodings. I arrived here yesterday, and my first task is to assure\\nmy dear sister of my welfare and increasing confidence in the success\\nof my undertaking.\\n\\nI am already far north of London, and as I walk in the streets of\\nPetersburgh, I feel a cold northern breeze play upon my cheeks, whic'"
      ]
     },
     "execution_count": 13,
     "metadata": {},
     "output_type": "execute_result"
    }
   ],
   "source": [
    "frankenstein[:500]"
   ]
  },
  {
   "cell_type": "code",
   "execution_count": 14,
   "id": "e3b2054d-67ea-42b4-b39f-309e32669cfd",
   "metadata": {},
   "outputs": [],
   "source": [
    "def count_words(doc):\n",
    "    doc = doc.split()\n",
    "    word_counts = dict.fromkeys(set(doc), 0)\n",
    "    for word in doc:\n",
    "        word_counts[word] += 1\n",
    "        \n",
    "    return word_counts"
   ]
  },
  {
   "cell_type": "markdown",
   "id": "2583644d-9d0e-4ebf-a8a1-8ce64b01be60",
   "metadata": {},
   "source": [
    "Alright I just copied this down, but I'm going to run through it line by line and see what it does. So this will take a document, then split it along the default whitespace, but not including the cleaning steps I talked about before. With this split - that I have already found has some problems, I make a set of it, which is a datatype that cannot contain duplicates (there's more to this and maybe after finishing this project **NOTE** check out the details differentiating datatypes because the usage here cuts out a couple lines of code real cleanly and I like it so maybe I can use more of them in the future). Making a set just means that fromkeys() takes a proper set of keys, and the 0 argument is the default value passed to all keys. So then word_counts is basically set up as the empty dict before I start counting the words, which is different than the previous set up, where I built up the dict while counting the words. With the non set doc, I just go thorugh that then and count up the words by accessing the appropriate value in the dict with each word. "
   ]
  },
  {
   "cell_type": "code",
   "execution_count": 15,
   "id": "1747ddf6-16c0-4a53-9afe-9c73bfa83b0b",
   "metadata": {},
   "outputs": [
    {
     "name": "stdout",
     "output_type": "stream",
     "text": [
      "Original word count:  11590\n"
     ]
    }
   ],
   "source": [
    "original_word_count = count_words(frankenstein) #this will give me a dict of incorrect word count, I know from before\n",
    "n_unique_words_original = len(original_word_count) #counting the number of keys, which is the set of the uncleaned split, so we will get a wrong answer here\n",
    "print(\"Original word count: \", n_unique_words_original)"
   ]
  },
  {
   "cell_type": "code",
   "execution_count": 16,
   "id": "dc0756fa-ce25-41b0-8cf2-d065a40c8119",
   "metadata": {},
   "outputs": [
    {
     "name": "stdout",
     "output_type": "stream",
     "text": [
      "Pre set word count (not unique):  74975\n"
     ]
    }
   ],
   "source": [
    "print(\"Pre set word count (not unique): \", len(frankenstein.split())) #just curious"
   ]
  },
  {
   "cell_type": "markdown",
   "id": "54dc497e-6506-46ec-bab6-a40fbeddf8c1",
   "metadata": {},
   "source": [
    "I first want to clean capitalization, and the way I'll do it, I'll \"collapse\" them together. This is a Hollywood way of saying I'll make everything lowercase."
   ]
  },
  {
   "cell_type": "code",
   "execution_count": 17,
   "id": "894a7e81-be82-4152-b310-2294ad824cb7",
   "metadata": {},
   "outputs": [],
   "source": [
    "cleaned = frankenstein.lower()"
   ]
  },
  {
   "cell_type": "code",
   "execution_count": 18,
   "id": "4b79cc7a-2e97-4697-9bdc-64884780c85c",
   "metadata": {},
   "outputs": [
    {
     "name": "stdout",
     "output_type": "stream",
     "text": [
      "Cleaned word count:  11219\n",
      "How many fewer words:  371\n"
     ]
    }
   ],
   "source": [
    "cleaned_word_count = count_words(cleaned) #get out a dict with hopefully fewer keys because The and the will be treated as the same\n",
    "n_unique_words_cleaned = len(cleaned_word_count) #again, this should be less than the previous answer, so I am expecting that\n",
    "\n",
    "print(\"Cleaned word count: \", n_unique_words_cleaned)\n",
    "print(\"How many fewer words: \", n_unique_words_original-n_unique_words_cleaned)"
   ]
  },
  {
   "cell_type": "code",
   "execution_count": 19,
   "id": "6750bb5f-32e5-46c8-8eac-469f83f4fb46",
   "metadata": {},
   "outputs": [
    {
     "data": {
      "text/plain": [
       "False"
      ]
     },
     "execution_count": 19,
     "metadata": {},
     "output_type": "execute_result"
    }
   ],
   "source": [
    "\"The\" in cleaned"
   ]
  },
  {
   "cell_type": "code",
   "execution_count": 20,
   "id": "bc360db5-42b3-4c84-bef6-984ec304464e",
   "metadata": {},
   "outputs": [
    {
     "data": {
      "text/plain": [
       "False"
      ]
     },
     "execution_count": 20,
     "metadata": {},
     "output_type": "execute_result"
    }
   ],
   "source": [
    "\"The\" in cleaned_word_count.keys()"
   ]
  },
  {
   "cell_type": "code",
   "execution_count": 21,
   "id": "3c4b2b9e-d98a-4866-a0bd-909e9e32c0f8",
   "metadata": {},
   "outputs": [
    {
     "data": {
      "text/plain": [
       "True"
      ]
     },
     "execution_count": 21,
     "metadata": {},
     "output_type": "execute_result"
    }
   ],
   "source": [
    "\"The\" in original_word_count.keys()"
   ]
  },
  {
   "cell_type": "markdown",
   "id": "19c56d98-3eaa-49c3-91d6-f1233b8008c7",
   "metadata": {},
   "source": [
    "So what the above few steps shows me is that \"The\" is not found in the new cleaned Frankenstein text and the resulting dictionary, showing that the lower() function worked. This is still found in the original Frankenstein text that wasn't cleaned and its resulting dictionary, and the only difference is lower(), so that's good. \n",
    "\n",
    "Next is to remove punctuation, and I'm going to work through an example sentence first where I use regular expressions, or regex. **NOTE** this was something that came up and Aktana and was one of the more fun things I worked on, so maybe look into this more I'm sure it's got applications if it's coming up in many different places.  "
   ]
  },
  {
   "cell_type": "code",
   "execution_count": 22,
   "id": "894bbe36-540f-4ff1-b21e-529ff545879e",
   "metadata": {},
   "outputs": [
    {
     "name": "stdout",
     "output_type": "stream",
     "text": [
      "Im a selftaught programmer\n"
     ]
    }
   ],
   "source": [
    "s = \"I'm a self-taught programmer.\"\n",
    "\n",
    "import re\n",
    "\n",
    "print(re.sub(r\"[^\\w\\s]\", \"\", s))"
   ]
  },
  {
   "cell_type": "markdown",
   "id": "8fda74b9-bd1e-49ed-b401-7ed98228d141",
   "metadata": {},
   "source": [
    "So I had to do a little looking up to figure this out, but I will need to do a lot [more](https://regexpattern.com/) to understand that first argument being passed, but the second argument is what will take the place of the pattern passed in the first argument, and the last argument is the string that is being acted upon. \n",
    "\n",
    "I feel like a problem with this though is that when I replace all of the punctuation with a nill space, I get non words like Im and selftaught when it would honestly make more sense to split it into I and m as well as self and taught. Even then, when I get a bunch of contractions, I can just look over them and know what the missing letters or proper full word is, because there aren't that many contractions really. Maybe under 15. I could make a dictionary to replace it all as well. I have half a mind to go and do that right now, but maybe just keep that plan in mind for later because I'm hungry and want to finish this section and get some food. \n",
    "\n",
    "The solution the seminar poses is to only really address the selftaught of it all, and do the cleaning in steps. I will first clean the - and replace all of them with a space, and then clean the rest and replace them with a nill space. "
   ]
  },
  {
   "cell_type": "code",
   "execution_count": 23,
   "id": "779696d3-63b2-4870-9e56-c16073bec345",
   "metadata": {},
   "outputs": [
    {
     "name": "stdout",
     "output_type": "stream",
     "text": [
      "Im a self taught programmer\n"
     ]
    }
   ],
   "source": [
    "s = re.sub(r\"-\", \" \", s)\n",
    "s = re.sub(r\"[^\\w\\s]\", \"\", s)\n",
    "print(s)"
   ]
  },
  {
   "cell_type": "markdown",
   "id": "f8f8a320-6839-4aba-b6d3-3fa54e45ed8f",
   "metadata": {},
   "source": [
    "The seminar is telling me that there's a difference between en dash and em dash, so I'm going to make sure I can type it out on this keyboard. "
   ]
  },
  {
   "cell_type": "code",
   "execution_count": 24,
   "id": "a79f8f29-e28f-4555-9535-d2e9f153c750",
   "metadata": {},
   "outputs": [
    {
     "data": {
      "text/plain": [
       "False"
      ]
     },
     "execution_count": 24,
     "metadata": {},
     "output_type": "execute_result"
    }
   ],
   "source": [
    "\"-\" == \"––\""
   ]
  },
  {
   "cell_type": "markdown",
   "id": "d4788bd0-068b-48d3-9a61-913eec725827",
   "metadata": {},
   "source": [
    "Yo okay I got it so en dash is just - boom and em dash is hold down OPTION and press -- twice but I didnt hold down OPTION okay I will this time –– boom there we go. It's just that apparently typesetters use –– for dates, and I'm working with Frankenstein. "
   ]
  },
  {
   "cell_type": "code",
   "execution_count": 25,
   "id": "a459acd8-90d9-4057-b781-5a18c18a4b0a",
   "metadata": {},
   "outputs": [
    {
     "name": "stdout",
     "output_type": "stream",
     "text": [
      "letter 1\n",
      "\n",
      "_to mrs saville england_\n",
      "\n",
      "\n",
      "st petersburgh dec 11th 17\n",
      "\n",
      "\n",
      "you will rejoice to hear that no disaster has accompanied the\n",
      "commencement of an enterprise which you have regarded with such evil\n",
      "forebodings i arrived here yesterday and my first task is to assure\n",
      "my dear sister of my welfare and increasing confidence in the success\n",
      "of my undertaking\n",
      "\n",
      "i am already far north of london and as i walk in the streets of\n",
      "petersburgh i feel a cold northern breeze play upon my cheeks which\n",
      "braces my ner\n"
     ]
    }
   ],
   "source": [
    "cleaned = re.sub(r\"[––]\", \" \", cleaned)\n",
    "cleaned = re.sub(r\"[^\\w\\s]\", \"\", cleaned)\n",
    "\n",
    "print(cleaned[:500])"
   ]
  },
  {
   "cell_type": "markdown",
   "id": "a4ee6410-539f-45b3-96c1-59a00026fb03",
   "metadata": {},
   "source": [
    "This goes to what I was saying earlier I need to learn about, but the ^\\w command apparently accesses everything that isn't a word character, which I assume just means alphabet, but it also includes numbers. But underscores, also called lowlines apparently, are for some reason categorized as word characters, so it's not removed. I need to remove those separately. "
   ]
  },
  {
   "cell_type": "code",
   "execution_count": 26,
   "id": "d00a9965-f370-4404-a20f-505a20488766",
   "metadata": {},
   "outputs": [
    {
     "name": "stdout",
     "output_type": "stream",
     "text": [
      "letter 1\n",
      "\n",
      "to mrs saville england\n",
      "\n",
      "\n",
      "st petersburgh dec 11th 17\n",
      "\n",
      "\n",
      "you will rejoice to hear that no disaster has accompanied the\n",
      "commencement of an enterprise which you have regarded with such evil\n",
      "forebodings i arrived here yesterday and my first task is to assure\n",
      "my dear sister of my welfare and increasing confidence in the success\n",
      "of my undertaking\n",
      "\n",
      "i am already far north of london and as i walk in the streets of\n",
      "petersburgh i feel a cold northern breeze play upon my cheeks which\n",
      "braces my nerve\n"
     ]
    }
   ],
   "source": [
    "cleaned = re.sub(r\"_\", \"\", cleaned)\n",
    "\n",
    "print(cleaned[:500])"
   ]
  },
  {
   "cell_type": "markdown",
   "id": "317784e6-5eeb-4575-97b3-37676d3945fc",
   "metadata": {},
   "source": [
    "Alright I am going to take a break now so I can eat something, but if I don't come back today just know I am at 3.1.3 Removing numbers. \n",
    "\n",
    "Okay I ate and I came back but I will probably leave in another 40 to eat some more again and call it for the night then as well. \n",
    "\n",
    "I am onto moving numbers. Using regex again. "
   ]
  },
  {
   "cell_type": "code",
   "execution_count": 27,
   "id": "eefea7f9-dc89-4152-83eb-f42a2bfe8674",
   "metadata": {},
   "outputs": [
    {
     "name": "stdout",
     "output_type": "stream",
     "text": [
      "Number of unique words now:  7138\n",
      "How many fewer words do I have:  4452\n"
     ]
    }
   ],
   "source": [
    "cleaned = re.sub(r\"[0-9]\", \"\", cleaned)\n",
    "\n",
    "cleaned_word_count = count_words(cleaned) #remember that this function takes the document and makes a dictionary from the set of the split document and counts the occurrences of each key in this dictionary\n",
    "n_unique_words_cleaned = len(cleaned_word_count) #and then we take the length of this dictionary so I can get the number of unique words, which should hopefully be less than even before\n",
    "\n",
    "print(\"Number of unique words now: \", n_unique_words_cleaned)\n",
    "print(\"How many fewer words do I have: \", n_unique_words_original-n_unique_words_cleaned)"
   ]
  },
  {
   "cell_type": "code",
   "execution_count": 28,
   "id": "2a50b567-c1d9-4ff0-9b5f-fb9ba1d814e2",
   "metadata": {},
   "outputs": [
    {
     "name": "stdout",
     "output_type": "stream",
     "text": [
      "letter \n",
      "\n",
      "to mrs saville england\n",
      "\n",
      "\n",
      "st petersburgh dec th \n",
      "\n",
      "\n",
      "you will rejoice to hear that no disaster has accompanied the\n",
      "commencement of an enterprise which you have regarded with such evil\n",
      "forebodings i arrived here yesterday and my first task is to assure\n",
      "my dear sister of my welfare and increasing confidence in the success\n",
      "of my undertaking\n",
      "\n",
      "i am already far north of london and as i walk in the streets of\n",
      "petersburgh i feel a cold northern breeze play upon my cheeks which\n",
      "braces my nerves and\n"
     ]
    }
   ],
   "source": [
    "print(cleaned[:500])"
   ]
  },
  {
   "cell_type": "markdown",
   "id": "23842cd0-2b4b-4734-9093-54401674fa8e",
   "metadata": {},
   "source": [
    "It seems like I have everything cleaned out, but the seminar has more words removed at this point than I do? I know that the em dash replace worked because there was one after the date in this first output, and it's not there anymore. I can't find the mistake, so I just have to assume it's code being weird, unless I run into a problem later, then at least I know it started to go awry around here. \n",
    "\n",
    "There are a lot of spaces and newline and tab characters, so I will use split() to get rid of them? This will give me a list though, not a big document of text. And didn't I split before, like way before when I was making the word_counts dictionary. Oh so what happened is when I replaced some of the special characters with spaces, there are probably more spaces introduced than before. But still, this step is kinda useless right, I could just use the same word_counts function as before. "
   ]
  },
  {
   "cell_type": "code",
   "execution_count": 29,
   "id": "2e552023-baa9-40c8-ab23-cff76ca47639",
   "metadata": {},
   "outputs": [
    {
     "data": {
      "text/html": [
       "<div>\n",
       "<style scoped>\n",
       "    .dataframe tbody tr th:only-of-type {\n",
       "        vertical-align: middle;\n",
       "    }\n",
       "\n",
       "    .dataframe tbody tr th {\n",
       "        vertical-align: top;\n",
       "    }\n",
       "\n",
       "    .dataframe thead th {\n",
       "        text-align: right;\n",
       "    }\n",
       "</style>\n",
       "<table border=\"1\" class=\"dataframe\">\n",
       "  <thead>\n",
       "    <tr style=\"text-align: right;\">\n",
       "      <th></th>\n",
       "      <th>Count</th>\n",
       "    </tr>\n",
       "  </thead>\n",
       "  <tbody>\n",
       "    <tr>\n",
       "      <th>the</th>\n",
       "      <td>4188</td>\n",
       "    </tr>\n",
       "    <tr>\n",
       "      <th>and</th>\n",
       "      <td>2970</td>\n",
       "    </tr>\n",
       "    <tr>\n",
       "      <th>i</th>\n",
       "      <td>2842</td>\n",
       "    </tr>\n",
       "    <tr>\n",
       "      <th>of</th>\n",
       "      <td>2639</td>\n",
       "    </tr>\n",
       "    <tr>\n",
       "      <th>to</th>\n",
       "      <td>2092</td>\n",
       "    </tr>\n",
       "    <tr>\n",
       "      <th>my</th>\n",
       "      <td>1773</td>\n",
       "    </tr>\n",
       "    <tr>\n",
       "      <th>a</th>\n",
       "      <td>1384</td>\n",
       "    </tr>\n",
       "    <tr>\n",
       "      <th>in</th>\n",
       "      <td>1127</td>\n",
       "    </tr>\n",
       "    <tr>\n",
       "      <th>was</th>\n",
       "      <td>1021</td>\n",
       "    </tr>\n",
       "    <tr>\n",
       "      <th>that</th>\n",
       "      <td>1014</td>\n",
       "    </tr>\n",
       "    <tr>\n",
       "      <th>me</th>\n",
       "      <td>864</td>\n",
       "    </tr>\n",
       "    <tr>\n",
       "      <th>had</th>\n",
       "      <td>686</td>\n",
       "    </tr>\n",
       "    <tr>\n",
       "      <th>but</th>\n",
       "      <td>685</td>\n",
       "    </tr>\n",
       "    <tr>\n",
       "      <th>with</th>\n",
       "      <td>666</td>\n",
       "    </tr>\n",
       "    <tr>\n",
       "      <th>he</th>\n",
       "      <td>604</td>\n",
       "    </tr>\n",
       "    <tr>\n",
       "      <th>you</th>\n",
       "      <td>572</td>\n",
       "    </tr>\n",
       "    <tr>\n",
       "      <th>which</th>\n",
       "      <td>558</td>\n",
       "    </tr>\n",
       "    <tr>\n",
       "      <th>it</th>\n",
       "      <td>546</td>\n",
       "    </tr>\n",
       "    <tr>\n",
       "      <th>his</th>\n",
       "      <td>533</td>\n",
       "    </tr>\n",
       "    <tr>\n",
       "      <th>as</th>\n",
       "      <td>526</td>\n",
       "    </tr>\n",
       "    <tr>\n",
       "      <th>not</th>\n",
       "      <td>508</td>\n",
       "    </tr>\n",
       "    <tr>\n",
       "      <th>for</th>\n",
       "      <td>496</td>\n",
       "    </tr>\n",
       "    <tr>\n",
       "      <th>on</th>\n",
       "      <td>460</td>\n",
       "    </tr>\n",
       "    <tr>\n",
       "      <th>by</th>\n",
       "      <td>460</td>\n",
       "    </tr>\n",
       "    <tr>\n",
       "      <th>this</th>\n",
       "      <td>401</td>\n",
       "    </tr>\n",
       "  </tbody>\n",
       "</table>\n",
       "</div>"
      ],
      "text/plain": [
       "       Count\n",
       "the     4188\n",
       "and     2970\n",
       "i       2842\n",
       "of      2639\n",
       "to      2092\n",
       "my      1773\n",
       "a       1384\n",
       "in      1127\n",
       "was     1021\n",
       "that    1014\n",
       "me       864\n",
       "had      686\n",
       "but      685\n",
       "with     666\n",
       "he       604\n",
       "you      572\n",
       "which    558\n",
       "it       546\n",
       "his      533\n",
       "as       526\n",
       "not      508\n",
       "for      496\n",
       "on       460\n",
       "by       460\n",
       "this     401"
      ]
     },
     "execution_count": 29,
     "metadata": {},
     "output_type": "execute_result"
    }
   ],
   "source": [
    "cleaned = cleaned.split()\n",
    "\n",
    "import pandas as pd\n",
    "\n",
    "cleaned_counts = pd.Series(cleaned).value_counts()\n",
    "pd.DataFrame(cleaned_counts, columns = ['Count']).head(25)"
   ]
  },
  {
   "cell_type": "markdown",
   "id": "97efa33c-4881-4a64-abec-d5efd4fc9925",
   "metadata": {},
   "source": [
    "Deictics are words that are \"hihgly dependent on the contexts in which they appear\". That really means nothing to me, but they're used to refer to things bascially. They are very present in most text and can be seen:"
   ]
  },
  {
   "cell_type": "code",
   "execution_count": 30,
   "id": "9e5968de-d74f-4c0e-9a30-7ee40374129b",
   "metadata": {},
   "outputs": [
    {
     "data": {
      "text/plain": [
       "<AxesSubplot:xlabel='Word', ylabel='Count'>"
      ]
     },
     "execution_count": 30,
     "metadata": {},
     "output_type": "execute_result"
    },
    {
     "data": {
      "image/png": "[encoded data removed]",
      "text/plain": [
       "<Figure size 1080x720 with 1 Axes>"
      ]
     },
     "metadata": {
      "needs_background": "light"
     },
     "output_type": "display_data"
    }
   ],
   "source": [
    "cleaned_counts.plot(figsize = (15,10), ylabel = \"Count\", xlabel = \"Word\")"
   ]
  },
  {
   "cell_type": "markdown",
   "id": "0639f2ae-773f-4d55-ab95-b5f9b64f768a",
   "metadata": {},
   "source": [
    "The x axis labels feel so goofy I did not know that series could be graphed even if they had an index of a string, I guess it makes sense that it's possible if they're just treated the same as if they had an index of numbers, but then the information held in the index with labels is pretty lost. \n",
    "\n",
    "Anyways this is meant to show that most of the words counted are concentrated in the top however many words most people use very constantly throughout their languages. "
   ]
  },
  {
   "cell_type": "code",
   "execution_count": 31,
   "id": "b59e9e22-82f8-4290-a0d4-ec81ceeac752",
   "metadata": {},
   "outputs": [
    {
     "data": {
      "text/plain": [
       "<AxesSubplot:xlabel='Word', ylabel='Count'>"
      ]
     },
     "execution_count": 31,
     "metadata": {},
     "output_type": "execute_result"
    },
    {
     "data": {
      "image/png": "[encoded data removed]",
      "text/plain": [
       "<Figure size 1080x720 with 1 Axes>"
      ]
     },
     "metadata": {
      "needs_background": "light"
     },
     "output_type": "display_data"
    }
   ],
   "source": [
    "cleaned_counts[:200].plot(figsize = (15,10), ylabel = \"Count\", xlabel = \"Word\")"
   ]
  },
  {
   "cell_type": "code",
   "execution_count": 32,
   "id": "4efcd708-5ace-4c6a-a3d1-ee25fb019a67",
   "metadata": {},
   "outputs": [
    {
     "name": "stdout",
     "output_type": "stream",
     "text": [
      "0.47732731931247996 0.55380591438027120.5973630831643002\n"
     ]
    }
   ],
   "source": [
    "total_words_after_cleaned = cleaned_counts.sum()\n",
    "words_in_top50 = cleaned_counts[:50].sum()\n",
    "words_in_top100 = cleaned_counts[:100].sum()\n",
    "words_in_top150 = cleaned_counts[:150].sum()\n",
    "\n",
    "print(f\"{words_in_top50/total_words_after_cleaned} {words_in_top100/total_words_after_cleaned}{words_in_top150/total_words_after_cleaned}\")"
   ]
  },
  {
   "cell_type": "markdown",
   "id": "a6ab3851-87d0-4773-af73-f68baae726c5",
   "metadata": {},
   "source": [
    "So what this shows me is that the 50 most common words account for 48% of the total words, the next 50 count fo about another 7%, the next 50 for about 4%, which is an insane drop off. \n",
    "\n",
    "Not only are some of these very common words skewing the data I am working with, words like the a its etc. don't really add much meaning to the document when analyzing it for meaning. Since I want to understand what Frankenstein is about, these words don't add much to that, and I should do with out them. \n",
    "\n",
    "Okay so these words are called stop words, and I can make my own list, but there are many that have been compiled by people doing research in NLP. "
   ]
  },
  {
   "cell_type": "code",
   "execution_count": 33,
   "id": "f91323c6-b734-45d5-be0e-b15a5ce3cff4",
   "metadata": {},
   "outputs": [
    {
     "name": "stdout",
     "output_type": "stream",
     "text": [
      "showing info https://raw.githubusercontent.com/nltk/nltk_data/gh-pages/index.xml\n"
     ]
    },
    {
     "data": {
      "text/plain": [
       "True"
      ]
     },
     "execution_count": 33,
     "metadata": {},
     "output_type": "execute_result"
    }
   ],
   "source": [
    "import nltk\n",
    "#nltk.download()"
   ]
  },
  {
   "cell_type": "code",
   "execution_count": 34,
   "id": "7ac42191-daa6-4fc0-895e-52a9568e3be1",
   "metadata": {},
   "outputs": [
    {
     "name": "stdout",
     "output_type": "stream",
     "text": [
      "Entries in NLTK 179 and Entries in GENSIM 337\n"
     ]
    }
   ],
   "source": [
    "from nltk.corpus import stopwords\n",
    "from gensim.parsing.preprocessing import STOPWORDS\n",
    "\n",
    "nltk_stopwords = stopwords.words('english')\n",
    "gensim_stopwords = list(STOPWORDS)\n",
    "\n",
    "print(f\"Entries in NLTK {len(nltk_stopwords)} and Entries in GENSIM {len(gensim_stopwords)}\")"
   ]
  },
  {
   "cell_type": "markdown",
   "id": "72f6d967-8c39-4d16-a8a0-a4abe6abdee9",
   "metadata": {},
   "source": [
    "Okay so I was having a problem with the call to NLTK for some reason, so I had to add the command in the cell above and I think all that did was let me update NLTK. "
   ]
  },
  {
   "cell_type": "code",
   "execution_count": 35,
   "id": "bbf65012-d9ff-4ebb-8a5d-e7df9cdcce62",
   "metadata": {},
   "outputs": [
    {
     "data": {
      "text/plain": [
       "['describe',\n",
       " 'amongst',\n",
       " 'ten',\n",
       " 'con',\n",
       " 'six',\n",
       " 'couldnt',\n",
       " 'become',\n",
       " 'two',\n",
       " 'fire',\n",
       " 'eleven']"
      ]
     },
     "execution_count": 35,
     "metadata": {},
     "output_type": "execute_result"
    }
   ],
   "source": [
    "list(set(gensim_stopwords).symmetric_difference(set(nltk_stopwords)))[:10]"
   ]
  },
  {
   "cell_type": "markdown",
   "id": "83edb41d-343e-4219-aa33-723dc42d37fd",
   "metadata": {},
   "source": [
    "This lets me see some of the stopwords that are in one set but not in the other set. Why does either set of mightn for example, and why does one consider this to be a stop word but the other doesn't. [This](https://www.programiz.com/python-programming/methods/set/symmetric_difference) helped me figure out how to find the difference between these two lists, because my other attempts weren't working and **NOTE** this is another good resource for learning about sets in Python. "
   ]
  },
  {
   "cell_type": "code",
   "execution_count": 36,
   "id": "12ff20fd-377c-42a0-bc61-3644bf6cf879",
   "metadata": {},
   "outputs": [
    {
     "data": {
      "text/plain": [
       "False"
      ]
     },
     "execution_count": 36,
     "metadata": {},
     "output_type": "execute_result"
    }
   ],
   "source": [
    "'mightn' in gensim_stopwords"
   ]
  },
  {
   "cell_type": "code",
   "execution_count": 37,
   "id": "a6d5f4c4-ff1b-4f91-bc61-6a5156e6f6f5",
   "metadata": {},
   "outputs": [
    {
     "data": {
      "text/plain": [
       "True"
      ]
     },
     "execution_count": 37,
     "metadata": {},
     "output_type": "execute_result"
    }
   ],
   "source": [
    "'mightn' in nltk_stopwords"
   ]
  },
  {
   "cell_type": "code",
   "execution_count": 38,
   "id": "4c716164-f004-4561-bf8a-7533ad57ad4d",
   "metadata": {},
   "outputs": [
    {
     "data": {
      "text/plain": [
       "['due',\n",
       " 'became',\n",
       " 'name',\n",
       " 'always',\n",
       " 'except',\n",
       " 'describe',\n",
       " 'amongst',\n",
       " 'ten',\n",
       " 'con',\n",
       " 'six']"
      ]
     },
     "execution_count": 38,
     "metadata": {},
     "output_type": "execute_result"
    }
   ],
   "source": [
    "list(set(gensim_stopwords) - set(nltk_stopwords))[:10]"
   ]
  },
  {
   "cell_type": "code",
   "execution_count": 39,
   "id": "61df2071-0c04-4aa9-8ccb-0fa34e068ba6",
   "metadata": {},
   "outputs": [
    {
     "data": {
      "text/plain": [
       "True"
      ]
     },
     "execution_count": 39,
     "metadata": {},
     "output_type": "execute_result"
    }
   ],
   "source": [
    "'inc' in gensim_stopwords"
   ]
  },
  {
   "cell_type": "markdown",
   "id": "a3ec3647-f8b3-402f-9962-0d48e9b17612",
   "metadata": {},
   "source": [
    "Okay now this shows, through an application of something I learned real quick about sets, which words are in GENSIM's stopwords but not NLTK's. I definitely learned some of this stuff in discrete math, so it shouldn't be too much effort to learn this again real quick. \n",
    "\n",
    "I am going to call it for the day at 3.1.5.2.\n",
    "\n",
    "---\n",
    "\n",
    "Picking back up, and where I left off was coping with the fact that stop lists are different, and using a stop list can be risky because there is a strong chance that some words that add meaning to the text will be removed. \n",
    "\n",
    "Regardless, the seminar encourages me to use the \"conservative\" NLTK list, and to also remove any two character, words, because these can be things like th from 17th or st from street. "
   ]
  },
  {
   "cell_type": "code",
   "execution_count": 42,
   "id": "75a5a20c-0739-4ec6-81f4-1d3aa9ae06ef",
   "metadata": {},
   "outputs": [
    {
     "data": {
      "text/html": [
       "<div>\n",
       "<style scoped>\n",
       "    .dataframe tbody tr th:only-of-type {\n",
       "        vertical-align: middle;\n",
       "    }\n",
       "\n",
       "    .dataframe tbody tr th {\n",
       "        vertical-align: top;\n",
       "    }\n",
       "\n",
       "    .dataframe thead th {\n",
       "        text-align: right;\n",
       "    }\n",
       "</style>\n",
       "<table border=\"1\" class=\"dataframe\">\n",
       "  <thead>\n",
       "    <tr style=\"text-align: right;\">\n",
       "      <th></th>\n",
       "      <th>0</th>\n",
       "    </tr>\n",
       "  </thead>\n",
       "  <tbody>\n",
       "    <tr>\n",
       "      <th>one</th>\n",
       "      <td>202</td>\n",
       "    </tr>\n",
       "    <tr>\n",
       "      <th>could</th>\n",
       "      <td>196</td>\n",
       "    </tr>\n",
       "    <tr>\n",
       "      <th>would</th>\n",
       "      <td>183</td>\n",
       "    </tr>\n",
       "    <tr>\n",
       "      <th>yet</th>\n",
       "      <td>152</td>\n",
       "    </tr>\n",
       "    <tr>\n",
       "      <th>man</th>\n",
       "      <td>131</td>\n",
       "    </tr>\n",
       "    <tr>\n",
       "      <th>upon</th>\n",
       "      <td>126</td>\n",
       "    </tr>\n",
       "    <tr>\n",
       "      <th>life</th>\n",
       "      <td>114</td>\n",
       "    </tr>\n",
       "    <tr>\n",
       "      <th>father</th>\n",
       "      <td>113</td>\n",
       "    </tr>\n",
       "    <tr>\n",
       "      <th>every</th>\n",
       "      <td>109</td>\n",
       "    </tr>\n",
       "    <tr>\n",
       "      <th>might</th>\n",
       "      <td>108</td>\n",
       "    </tr>\n",
       "  </tbody>\n",
       "</table>\n",
       "</div>"
      ],
      "text/plain": [
       "          0\n",
       "one     202\n",
       "could   196\n",
       "would   183\n",
       "yet     152\n",
       "man     131\n",
       "upon    126\n",
       "life    114\n",
       "father  113\n",
       "every   109\n",
       "might   108"
      ]
     },
     "execution_count": 42,
     "metadata": {},
     "output_type": "execute_result"
    }
   ],
   "source": [
    "stopwords_in_cleaned = cleaned_counts.index.isin(nltk_stopwords) #look at index of the series with unique words I made, find logical vector that tells me which index items are stopwords\n",
    "stopwords_removed_word_count = cleaned_counts[~stopwords_in_cleaned] #okay it's cool to know that ~ is not I thought it would be !\n",
    "stopwords_removed_word_count = stopwords_removed_word_count[stopwords_removed_word_count.index.str.len() > 2] \n",
    "pd.DataFrame(stopwords_removed_word_count).head(10)"
   ]
  },
  {
   "cell_type": "code",
   "execution_count": 43,
   "id": "cab2e8bd-9f4a-4a2c-a2ac-9d3d0e84f123",
   "metadata": {},
   "outputs": [
    {
     "data": {
      "text/plain": [
       "<AxesSubplot:xlabel='Word', ylabel='Count'>"
      ]
     },
     "execution_count": 43,
     "metadata": {},
     "output_type": "execute_result"
    },
    {
     "data": {
      "image/png": "[encoded data removed]",
      "text/plain": [
       "<Figure size 1080x720 with 1 Axes>"
      ]
     },
     "metadata": {
      "needs_background": "light"
     },
     "output_type": "display_data"
    }
   ],
   "source": [
    "stopwords_removed_word_count.plot(figsize = (15,10), ylabel = \"Count\", xlabel = \"Word\")"
   ]
  },
  {
   "cell_type": "markdown",
   "id": "d61d92af-18e1-4a26-9d2f-4837bc519f11",
   "metadata": {},
   "source": [
    "Before, the y axis ticks peaked at 4000, but it's just 200 now, and that is a pretty strong indiciation that a lot of words have been cut out of the count. "
   ]
  },
  {
   "cell_type": "code",
   "execution_count": 44,
   "id": "0b0e9c88-645a-4ff6-bfc1-1be008ee830f",
   "metadata": {},
   "outputs": [
    {
     "name": "stdout",
     "output_type": "stream",
     "text": [
      "0.13117665899892264 0.200739597589028320.2524531927903794\n"
     ]
    }
   ],
   "source": [
    "total_words_after_cleaned = stopwords_removed_word_count.sum()\n",
    "words_in_top50 = stopwords_removed_word_count[:50].sum()\n",
    "words_in_top100 = stopwords_removed_word_count[:100].sum()\n",
    "words_in_top150 = stopwords_removed_word_count[:150].sum()\n",
    "\n",
    "print(f\"{words_in_top50/total_words_after_cleaned} {words_in_top100/total_words_after_cleaned}{words_in_top150/total_words_after_cleaned}\")"
   ]
  },
  {
   "cell_type": "markdown",
   "id": "6fb34c2e-35b8-406c-ac1e-d1c593588f8c",
   "metadata": {},
   "source": [
    "And now looking at the proportion of total words taken up by the most common 50, next 50, and the next 50, it also seems like the total count of words isn't largely dictated by the first 50 most common words. It's still the highest proportion, which makes sense, but the next most common 50 words don't make up THAT much smaller of a proportion of the total words, especially compared to before. "
   ]
  },
  {
   "cell_type": "code",
   "execution_count": 45,
   "id": "bf27b4dc-4602-403f-9d4a-b563e83b58b3",
   "metadata": {},
   "outputs": [
    {
     "name": "stdout",
     "output_type": "stream",
     "text": [
      "Number of unique words now:  6994\n"
     ]
    }
   ],
   "source": [
    "print(\"Number of unique words now: \", len(stopwords_removed_word_count))"
   ]
  },
  {
   "cell_type": "code",
   "execution_count": 46,
   "id": "6ed01f90-5c3b-4a15-90c6-54c25e8c7af0",
   "metadata": {},
   "outputs": [
    {
     "data": {
      "text/plain": [
       "<AxesSubplot:xlabel='Word', ylabel='Count'>"
      ]
     },
     "execution_count": 46,
     "metadata": {},
     "output_type": "execute_result"
    },
    {
     "data": {
      "image/png": "[encoded data removed]",
      "text/plain": [
       "<Figure size 1080x720 with 1 Axes>"
      ]
     },
     "metadata": {
      "needs_background": "light"
     },
     "output_type": "display_data"
    }
   ],
   "source": [
    "stopwords_removed_word_count[:200].plot(figsize = (15,10), ylabel = \"Count\", xlabel = \"Word\")"
   ]
  },
  {
   "cell_type": "markdown",
   "id": "a7af704f-9599-43cf-9395-2386bda0b523",
   "metadata": {},
   "source": [
    "This seminar actually insists that NLTK is too conservative, and that I would want to remove more words, like one and yet. So I will be using another set of stopwords from something called Voyant."
   ]
  },
  {
   "cell_type": "code",
   "execution_count": 47,
   "id": "a7a579ee-12fa-4a6d-8e7a-9e2197fbb5dd",
   "metadata": {},
   "outputs": [
    {
     "data": {
      "text/html": [
       "<div>\n",
       "<style scoped>\n",
       "    .dataframe tbody tr th:only-of-type {\n",
       "        vertical-align: middle;\n",
       "    }\n",
       "\n",
       "    .dataframe tbody tr th {\n",
       "        vertical-align: top;\n",
       "    }\n",
       "\n",
       "    .dataframe thead th {\n",
       "        text-align: right;\n",
       "    }\n",
       "</style>\n",
       "<table border=\"1\" class=\"dataframe\">\n",
       "  <thead>\n",
       "    <tr style=\"text-align: right;\">\n",
       "      <th></th>\n",
       "      <th>0</th>\n",
       "    </tr>\n",
       "  </thead>\n",
       "  <tbody>\n",
       "    <tr>\n",
       "      <th>man</th>\n",
       "      <td>131</td>\n",
       "    </tr>\n",
       "    <tr>\n",
       "      <th>life</th>\n",
       "      <td>114</td>\n",
       "    </tr>\n",
       "    <tr>\n",
       "      <th>father</th>\n",
       "      <td>113</td>\n",
       "    </tr>\n",
       "    <tr>\n",
       "      <th>shall</th>\n",
       "      <td>105</td>\n",
       "    </tr>\n",
       "    <tr>\n",
       "      <th>eyes</th>\n",
       "      <td>104</td>\n",
       "    </tr>\n",
       "    <tr>\n",
       "      <th>said</th>\n",
       "      <td>102</td>\n",
       "    </tr>\n",
       "    <tr>\n",
       "      <th>time</th>\n",
       "      <td>98</td>\n",
       "    </tr>\n",
       "    <tr>\n",
       "      <th>saw</th>\n",
       "      <td>94</td>\n",
       "    </tr>\n",
       "    <tr>\n",
       "      <th>night</th>\n",
       "      <td>87</td>\n",
       "    </tr>\n",
       "    <tr>\n",
       "      <th>elizabeth</th>\n",
       "      <td>86</td>\n",
       "    </tr>\n",
       "  </tbody>\n",
       "</table>\n",
       "</div>"
      ],
      "text/plain": [
       "             0\n",
       "man        131\n",
       "life       114\n",
       "father     113\n",
       "shall      105\n",
       "eyes       104\n",
       "said       102\n",
       "time        98\n",
       "saw         94\n",
       "night       87\n",
       "elizabeth   86"
      ]
     },
     "execution_count": 47,
     "metadata": {},
     "output_type": "execute_result"
    }
   ],
   "source": [
    "with open(\"/Users/ankushbharadwaj/Desktop/GettingStartedwTextDatainPython/tm_workshop_data/voyant_stoplist.txt\", 'r') as f:\n",
    "    voyant_stopwords = f.read().split(\"\\n\")\n",
    "\n",
    "new_stopwords = set(nltk_stopwords).union(set(voyant_stopwords))\n",
    "\n",
    "stopwords_in_cleaned = cleaned_counts.index.isin(new_stopwords) #look at index of the series with unique words I made, find logical vector that tells me which index items are stopwords\n",
    "stopwords_removed_word_count = cleaned_counts[~stopwords_in_cleaned] #okay it's cool to know that ~ is not I thought it would be !\n",
    "stopwords_removed_word_count = stopwords_removed_word_count[stopwords_removed_word_count.index.str.len() > 2] \n",
    "pd.DataFrame(stopwords_removed_word_count).head(10)"
   ]
  },
  {
   "cell_type": "code",
   "execution_count": 48,
   "id": "e0f2e661-526a-42d6-8b47-05094cc40c45",
   "metadata": {},
   "outputs": [
    {
     "data": {
      "text/plain": [
       "<AxesSubplot:xlabel='Word', ylabel='Count'>"
      ]
     },
     "execution_count": 48,
     "metadata": {},
     "output_type": "execute_result"
    },
    {
     "data": {
      "image/png": "[encoded data removed]",
      "text/plain": [
       "<Figure size 1080x720 with 1 Axes>"
      ]
     },
     "metadata": {
      "needs_background": "light"
     },
     "output_type": "display_data"
    }
   ],
   "source": [
    "stopwords_removed_word_count.plot(figsize = (15,10), ylabel = \"Count\", xlabel = \"Word\")"
   ]
  },
  {
   "cell_type": "code",
   "execution_count": 49,
   "id": "bed2fda7-b386-4863-95a7-6b08a8732e29",
   "metadata": {},
   "outputs": [
    {
     "data": {
      "text/plain": [
       "<AxesSubplot:xlabel='Word', ylabel='Count'>"
      ]
     },
     "execution_count": 49,
     "metadata": {},
     "output_type": "execute_result"
    },
    {
     "data": {
      "image/png": "[encoded data removed]",
      "text/plain": [
       "<Figure size 1080x720 with 1 Axes>"
      ]
     },
     "metadata": {
      "needs_background": "light"
     },
     "output_type": "display_data"
    }
   ],
   "source": [
    "stopwords_removed_word_count[:200].plot(figsize = (15,10), ylabel = \"Count\", xlabel = \"Word\")"
   ]
  },
  {
   "cell_type": "code",
   "execution_count": 50,
   "id": "e43b6d57-3b7d-4735-84eb-9c7415dc37a4",
   "metadata": {},
   "outputs": [
    {
     "name": "stdout",
     "output_type": "stream",
     "text": [
      "Number of unique words now:  6863\n"
     ]
    }
   ],
   "source": [
    "print(\"Number of unique words now: \", len(stopwords_removed_word_count))"
   ]
  },
  {
   "cell_type": "code",
   "execution_count": 51,
   "id": "20e04f42-6556-4bd3-bd01-f2a113cb77fd",
   "metadata": {},
   "outputs": [
    {
     "data": {
      "text/html": [
       "<div>\n",
       "<style scoped>\n",
       "    .dataframe tbody tr th:only-of-type {\n",
       "        vertical-align: middle;\n",
       "    }\n",
       "\n",
       "    .dataframe tbody tr th {\n",
       "        vertical-align: top;\n",
       "    }\n",
       "\n",
       "    .dataframe thead th {\n",
       "        text-align: right;\n",
       "    }\n",
       "</style>\n",
       "<table border=\"1\" class=\"dataframe\">\n",
       "  <thead>\n",
       "    <tr style=\"text-align: right;\">\n",
       "      <th></th>\n",
       "      <th>0</th>\n",
       "    </tr>\n",
       "  </thead>\n",
       "  <tbody>\n",
       "    <tr>\n",
       "      <th>the</th>\n",
       "      <td>4188</td>\n",
       "    </tr>\n",
       "    <tr>\n",
       "      <th>and</th>\n",
       "      <td>2970</td>\n",
       "    </tr>\n",
       "    <tr>\n",
       "      <th>i</th>\n",
       "      <td>2842</td>\n",
       "    </tr>\n",
       "    <tr>\n",
       "      <th>of</th>\n",
       "      <td>2639</td>\n",
       "    </tr>\n",
       "    <tr>\n",
       "      <th>to</th>\n",
       "      <td>2092</td>\n",
       "    </tr>\n",
       "    <tr>\n",
       "      <th>my</th>\n",
       "      <td>1773</td>\n",
       "    </tr>\n",
       "    <tr>\n",
       "      <th>a</th>\n",
       "      <td>1384</td>\n",
       "    </tr>\n",
       "    <tr>\n",
       "      <th>in</th>\n",
       "      <td>1127</td>\n",
       "    </tr>\n",
       "    <tr>\n",
       "      <th>was</th>\n",
       "      <td>1021</td>\n",
       "    </tr>\n",
       "    <tr>\n",
       "      <th>that</th>\n",
       "      <td>1014</td>\n",
       "    </tr>\n",
       "  </tbody>\n",
       "</table>\n",
       "</div>"
      ],
      "text/plain": [
       "         0\n",
       "the   4188\n",
       "and   2970\n",
       "i     2842\n",
       "of    2639\n",
       "to    2092\n",
       "my    1773\n",
       "a     1384\n",
       "in    1127\n",
       "was   1021\n",
       "that  1014"
      ]
     },
     "execution_count": 51,
     "metadata": {},
     "output_type": "execute_result"
    }
   ],
   "source": [
    "pd.DataFrame(cleaned_counts).head(10)"
   ]
  },
  {
   "cell_type": "markdown",
   "id": "0b713a24-54b9-486a-adf5-c00b0533dbb3",
   "metadata": {},
   "source": [
    "Compare this to the previous dataframe that I output, and it's pretty clear that a lot ofthe words shown in this output don't add as much meaning to the text, despite their massive presence, compared to the words in the previous dataframe I output. "
   ]
  },
  {
   "cell_type": "markdown",
   "id": "fde57d87-a995-400d-8c47-147ae8c66a26",
   "metadata": {},
   "source": [
    "### I will finish cleaning with stemming and lemmatizing \n",
    "These operations transform words, they don't just remove words like the previous cleaning steps I have run. \n",
    "\n",
    "Stemming algorithms reduce words to root forms, such as running and ran and runs all into run or something like that. It also includes collapsing plurals and singulars into one word, which is something I'd imagine wouldn't be too difficult but then English constructs plurals in so many different ways that might be a lot of work to do by hand. \n",
    "\n",
    "To do this, I am going to start by using the Porter stemmer from NLTK. \n"
   ]
  },
  {
   "cell_type": "code",
   "execution_count": 52,
   "id": "ed4f5e6b-a268-4075-b54d-b8eb546a1c37",
   "metadata": {},
   "outputs": [],
   "source": [
    "from nltk.stem.porter import PorterStemmer\n",
    "stemmer = PorterStemmer()"
   ]
  },
  {
   "cell_type": "code",
   "execution_count": 54,
   "id": "76fdd095-b2c8-4c02-9c26-e1418a9b29f3",
   "metadata": {},
   "outputs": [
    {
     "name": "stdout",
     "output_type": "stream",
     "text": [
      "books ==> book\n",
      "having ==> have\n",
      "running ==> run\n",
      "complicated ==> complic\n",
      "complicity ==> complic\n",
      "malleability ==> malleabl\n"
     ]
    }
   ],
   "source": [
    "to_stem = 'books having running complicated complicity malleability'.split()\n",
    "for word in to_stem:\n",
    "    print(f\"{word} ==> {stemmer.stem(word)}\")"
   ]
  },
  {
   "cell_type": "markdown",
   "id": "b6dd0d8d-fe25-4a80-ade7-f60c55908ff5",
   "metadata": {},
   "source": [
    "The seminar keeps saying that stemming is rule based, which is what explains complicated complicity and malleability going to complic and malleabl instead of complex complicit and malleable for example. The point isn't to get to a word though, because these are very broad rules that are being applied to words, it is supposedly to get a more baggy term that contains more counts and reduce the number of unique words. But words that aren't related, like complicated and complicity, can become related because of this. Also, when I look at complic later, does that mean complex, or complicit? That's up to me, because that extra information was lost by the stemming. \n",
    "\n",
    "Lemmatizing can deal with this problem, but is more expensive. This isn't as reductive as stemming, it preserves more words, and it results in a readable word, not things like malleabl or complic. \n",
    "\n",
    "Lemmatizers, compared to stemmers, can do this really well because they get part of speech tags, or POS tags, that are attached to each word, and will be used to decide what new bag to put each word into. NLTK does provide something called dependency parsing which tags words. HOWEVER, these work better with stop words and some punctuation words. So if I want to lemmatize my text, I need to remember to do it before beginning the cleaning process. \n",
    "\n",
    "New workflow:\n",
    "* tokenize\n",
    "* assign POS\n",
    "* normalze casing\n",
    "* remove punctuation\n",
    "* no numerical characters\n",
    "* whitespaces\n",
    "* select out stopwords\n",
    "* lemmatize, because POS has been assigned"
   ]
  },
  {
   "cell_type": "code",
   "execution_count": 58,
   "id": "076e4fd4-2d1f-415b-ad56-71fc6f0a3470",
   "metadata": {},
   "outputs": [
    {
     "name": "stdout",
     "output_type": "stream",
     "text": [
      "['The', 'strong', 'coffee', ',', 'which', 'I', 'had', 'after', 'lunch', ',', 'was', '$', '3', '.', 'It', 'kept', 'me', 'going', 'the', 'rest', 'of', 'the', 'day', '.']\n"
     ]
    }
   ],
   "source": [
    "import nltk\n",
    "from nltk.tokenize import word_tokenize\n",
    "from nltk.stem import WordNetLemmatizer\n",
    "from nltk.corpus import wordnet\n",
    "\n",
    "sample_string = \"The strong coffee, which I had after lunch, was $3. It kept me going the rest of the day.\"\n",
    "tokenized = word_tokenize(sample_string)\n",
    "\n",
    "print(tokenized)"
   ]
  },
  {
   "cell_type": "code",
   "execution_count": 60,
   "id": "3fd177a0-efb2-409d-88b9-837b1e26069b",
   "metadata": {},
   "outputs": [
    {
     "name": "stdout",
     "output_type": "stream",
     "text": [
      "[('The', 'DT'), ('strong', 'JJ'), ('coffee', 'NN'), (',', ','), ('which', 'WDT'), ('I', 'PRP'), ('had', 'VBD'), ('after', 'IN'), ('lunch', 'NN'), (',', ','), ('was', 'VBD'), ('$', '$'), ('3', 'CD'), ('.', '.'), ('It', 'PRP'), ('kept', 'VBD'), ('me', 'PRP'), ('going', 'VBG'), ('the', 'DT'), ('rest', 'NN'), ('of', 'IN'), ('the', 'DT'), ('day', 'NN'), ('.', '.')]\n"
     ]
    }
   ],
   "source": [
    "tagged = nltk.pos_tag(tokenized) #gives a list of tuples\n",
    "print(tagged)"
   ]
  },
  {
   "cell_type": "code",
   "execution_count": 61,
   "id": "4f12f350-953a-4772-8873-db2e7cb75747",
   "metadata": {},
   "outputs": [
    {
     "data": {
      "text/html": [
       "<div>\n",
       "<style scoped>\n",
       "    .dataframe tbody tr th:only-of-type {\n",
       "        vertical-align: middle;\n",
       "    }\n",
       "\n",
       "    .dataframe tbody tr th {\n",
       "        vertical-align: top;\n",
       "    }\n",
       "\n",
       "    .dataframe thead th {\n",
       "        text-align: right;\n",
       "    }\n",
       "</style>\n",
       "<table border=\"1\" class=\"dataframe\">\n",
       "  <thead>\n",
       "    <tr style=\"text-align: right;\">\n",
       "      <th></th>\n",
       "      <th>Word</th>\n",
       "      <th>POS</th>\n",
       "    </tr>\n",
       "  </thead>\n",
       "  <tbody>\n",
       "    <tr>\n",
       "      <th>0</th>\n",
       "      <td>The</td>\n",
       "      <td>DT</td>\n",
       "    </tr>\n",
       "    <tr>\n",
       "      <th>1</th>\n",
       "      <td>strong</td>\n",
       "      <td>JJ</td>\n",
       "    </tr>\n",
       "    <tr>\n",
       "      <th>2</th>\n",
       "      <td>coffee</td>\n",
       "      <td>NN</td>\n",
       "    </tr>\n",
       "    <tr>\n",
       "      <th>3</th>\n",
       "      <td>,</td>\n",
       "      <td>,</td>\n",
       "    </tr>\n",
       "    <tr>\n",
       "      <th>4</th>\n",
       "      <td>which</td>\n",
       "      <td>WDT</td>\n",
       "    </tr>\n",
       "    <tr>\n",
       "      <th>5</th>\n",
       "      <td>I</td>\n",
       "      <td>PRP</td>\n",
       "    </tr>\n",
       "    <tr>\n",
       "      <th>6</th>\n",
       "      <td>had</td>\n",
       "      <td>VBD</td>\n",
       "    </tr>\n",
       "    <tr>\n",
       "      <th>7</th>\n",
       "      <td>after</td>\n",
       "      <td>IN</td>\n",
       "    </tr>\n",
       "    <tr>\n",
       "      <th>8</th>\n",
       "      <td>lunch</td>\n",
       "      <td>NN</td>\n",
       "    </tr>\n",
       "    <tr>\n",
       "      <th>9</th>\n",
       "      <td>,</td>\n",
       "      <td>,</td>\n",
       "    </tr>\n",
       "    <tr>\n",
       "      <th>10</th>\n",
       "      <td>was</td>\n",
       "      <td>VBD</td>\n",
       "    </tr>\n",
       "    <tr>\n",
       "      <th>11</th>\n",
       "      <td>$</td>\n",
       "      <td>$</td>\n",
       "    </tr>\n",
       "    <tr>\n",
       "      <th>12</th>\n",
       "      <td>3</td>\n",
       "      <td>CD</td>\n",
       "    </tr>\n",
       "    <tr>\n",
       "      <th>13</th>\n",
       "      <td>.</td>\n",
       "      <td>.</td>\n",
       "    </tr>\n",
       "    <tr>\n",
       "      <th>14</th>\n",
       "      <td>It</td>\n",
       "      <td>PRP</td>\n",
       "    </tr>\n",
       "    <tr>\n",
       "      <th>15</th>\n",
       "      <td>kept</td>\n",
       "      <td>VBD</td>\n",
       "    </tr>\n",
       "    <tr>\n",
       "      <th>16</th>\n",
       "      <td>me</td>\n",
       "      <td>PRP</td>\n",
       "    </tr>\n",
       "    <tr>\n",
       "      <th>17</th>\n",
       "      <td>going</td>\n",
       "      <td>VBG</td>\n",
       "    </tr>\n",
       "    <tr>\n",
       "      <th>18</th>\n",
       "      <td>the</td>\n",
       "      <td>DT</td>\n",
       "    </tr>\n",
       "    <tr>\n",
       "      <th>19</th>\n",
       "      <td>rest</td>\n",
       "      <td>NN</td>\n",
       "    </tr>\n",
       "    <tr>\n",
       "      <th>20</th>\n",
       "      <td>of</td>\n",
       "      <td>IN</td>\n",
       "    </tr>\n",
       "    <tr>\n",
       "      <th>21</th>\n",
       "      <td>the</td>\n",
       "      <td>DT</td>\n",
       "    </tr>\n",
       "    <tr>\n",
       "      <th>22</th>\n",
       "      <td>day</td>\n",
       "      <td>NN</td>\n",
       "    </tr>\n",
       "    <tr>\n",
       "      <th>23</th>\n",
       "      <td>.</td>\n",
       "      <td>.</td>\n",
       "    </tr>\n",
       "  </tbody>\n",
       "</table>\n",
       "</div>"
      ],
      "text/plain": [
       "      Word  POS\n",
       "0      The   DT\n",
       "1   strong   JJ\n",
       "2   coffee   NN\n",
       "3        ,    ,\n",
       "4    which  WDT\n",
       "5        I  PRP\n",
       "6      had  VBD\n",
       "7    after   IN\n",
       "8    lunch   NN\n",
       "9        ,    ,\n",
       "10     was  VBD\n",
       "11       $    $\n",
       "12       3   CD\n",
       "13       .    .\n",
       "14      It  PRP\n",
       "15    kept  VBD\n",
       "16      me  PRP\n",
       "17   going  VBG\n",
       "18     the   DT\n",
       "19    rest   NN\n",
       "20      of   IN\n",
       "21     the   DT\n",
       "22     day   NN\n",
       "23       .    ."
      ]
     },
     "execution_count": 61,
     "metadata": {},
     "output_type": "execute_result"
    }
   ],
   "source": [
    "tagged = pd.DataFrame(tagged, columns = [\"Word\", \"POS\"])\n",
    "tagged"
   ]
  },
  {
   "cell_type": "markdown",
   "id": "e665981e-5cbc-4b11-b876-0d7dffc3ae61",
   "metadata": {},
   "source": [
    "Now I am going to do the steps I said I would do up above after POS tagging. "
   ]
  },
  {
   "cell_type": "code",
   "execution_count": 67,
   "id": "b9f34461-228f-4069-a693-23c91e486d68",
   "metadata": {},
   "outputs": [
    {
     "data": {
      "text/html": [
       "<div>\n",
       "<style scoped>\n",
       "    .dataframe tbody tr th:only-of-type {\n",
       "        vertical-align: middle;\n",
       "    }\n",
       "\n",
       "    .dataframe tbody tr th {\n",
       "        vertical-align: top;\n",
       "    }\n",
       "\n",
       "    .dataframe thead th {\n",
       "        text-align: right;\n",
       "    }\n",
       "</style>\n",
       "<table border=\"1\" class=\"dataframe\">\n",
       "  <thead>\n",
       "    <tr style=\"text-align: right;\">\n",
       "      <th></th>\n",
       "      <th>Word</th>\n",
       "      <th>POS</th>\n",
       "    </tr>\n",
       "  </thead>\n",
       "  <tbody>\n",
       "    <tr>\n",
       "      <th>1</th>\n",
       "      <td>strong</td>\n",
       "      <td>JJ</td>\n",
       "    </tr>\n",
       "    <tr>\n",
       "      <th>2</th>\n",
       "      <td>coffee</td>\n",
       "      <td>NN</td>\n",
       "    </tr>\n",
       "    <tr>\n",
       "      <th>8</th>\n",
       "      <td>lunch</td>\n",
       "      <td>NN</td>\n",
       "    </tr>\n",
       "    <tr>\n",
       "      <th>15</th>\n",
       "      <td>kept</td>\n",
       "      <td>VBD</td>\n",
       "    </tr>\n",
       "    <tr>\n",
       "      <th>17</th>\n",
       "      <td>going</td>\n",
       "      <td>VBG</td>\n",
       "    </tr>\n",
       "    <tr>\n",
       "      <th>19</th>\n",
       "      <td>rest</td>\n",
       "      <td>NN</td>\n",
       "    </tr>\n",
       "    <tr>\n",
       "      <th>22</th>\n",
       "      <td>day</td>\n",
       "      <td>NN</td>\n",
       "    </tr>\n",
       "  </tbody>\n",
       "</table>\n",
       "</div>"
      ],
      "text/plain": [
       "      Word  POS\n",
       "1   strong   JJ\n",
       "2   coffee   NN\n",
       "8    lunch   NN\n",
       "15    kept  VBD\n",
       "17   going  VBG\n",
       "19    rest   NN\n",
       "22     day   NN"
      ]
     },
     "execution_count": 67,
     "metadata": {},
     "output_type": "execute_result"
    }
   ],
   "source": [
    "tagged['Word'] = tagged['Word'].str.lower()\n",
    "tagged = tagged[~tagged['Word'].isin([',', '$', '.'])]\n",
    "tagged = tagged[tagged['Word'].str.isalpha()]\n",
    "tagged = tagged[~tagged['Word'].isin(new_stopwords)]\n",
    "tagged"
   ]
  },
  {
   "cell_type": "markdown",
   "id": "c4344d55-3b16-40a0-8b08-f881883d83e8",
   "metadata": {},
   "source": [
    "Before continuing with the lemmatizer, the lemmatizer I will use is expecting different tags than what is in the POS column up above. I will need to write a function that will replace the POS column with a tag that the lemmatizer can actually understand. "
   ]
  },
  {
   "cell_type": "code",
   "execution_count": 71,
   "id": "a4026e18-60ae-4385-88ca-3aac28d30751",
   "metadata": {},
   "outputs": [
    {
     "data": {
      "text/html": [
       "<div>\n",
       "<style scoped>\n",
       "    .dataframe tbody tr th:only-of-type {\n",
       "        vertical-align: middle;\n",
       "    }\n",
       "\n",
       "    .dataframe tbody tr th {\n",
       "        vertical-align: top;\n",
       "    }\n",
       "\n",
       "    .dataframe thead th {\n",
       "        text-align: right;\n",
       "    }\n",
       "</style>\n",
       "<table border=\"1\" class=\"dataframe\">\n",
       "  <thead>\n",
       "    <tr style=\"text-align: right;\">\n",
       "      <th></th>\n",
       "      <th>Word</th>\n",
       "      <th>POS</th>\n",
       "      <th>New_pos</th>\n",
       "    </tr>\n",
       "  </thead>\n",
       "  <tbody>\n",
       "    <tr>\n",
       "      <th>1</th>\n",
       "      <td>strong</td>\n",
       "      <td>JJ</td>\n",
       "      <td>a</td>\n",
       "    </tr>\n",
       "    <tr>\n",
       "      <th>2</th>\n",
       "      <td>coffee</td>\n",
       "      <td>NN</td>\n",
       "      <td>n</td>\n",
       "    </tr>\n",
       "    <tr>\n",
       "      <th>8</th>\n",
       "      <td>lunch</td>\n",
       "      <td>NN</td>\n",
       "      <td>n</td>\n",
       "    </tr>\n",
       "    <tr>\n",
       "      <th>15</th>\n",
       "      <td>kept</td>\n",
       "      <td>VBD</td>\n",
       "      <td>v</td>\n",
       "    </tr>\n",
       "    <tr>\n",
       "      <th>17</th>\n",
       "      <td>going</td>\n",
       "      <td>VBG</td>\n",
       "      <td>v</td>\n",
       "    </tr>\n",
       "    <tr>\n",
       "      <th>19</th>\n",
       "      <td>rest</td>\n",
       "      <td>NN</td>\n",
       "      <td>n</td>\n",
       "    </tr>\n",
       "    <tr>\n",
       "      <th>22</th>\n",
       "      <td>day</td>\n",
       "      <td>NN</td>\n",
       "      <td>n</td>\n",
       "    </tr>\n",
       "  </tbody>\n",
       "</table>\n",
       "</div>"
      ],
      "text/plain": [
       "      Word  POS New_pos\n",
       "1   strong   JJ       a\n",
       "2   coffee   NN       n\n",
       "8    lunch   NN       n\n",
       "15    kept  VBD       v\n",
       "17   going  VBG       v\n",
       "19    rest   NN       n\n",
       "22     day   NN       n"
      ]
     },
     "execution_count": 71,
     "metadata": {},
     "output_type": "execute_result"
    }
   ],
   "source": [
    "lemmatizer = WordNetLemmatizer()\n",
    "\n",
    "def convert_tag(tag):\n",
    "    if tag.startswith('J'):\n",
    "        tag = wordnet.ADJ\n",
    "    elif tag.startswith('V'):\n",
    "        tag = wordnet.VERB\n",
    "    elif tag.startswith('N'):\n",
    "        tag = wordnet.NOUN\n",
    "    elif tag.startswith('R'):\n",
    "        tag = wordnet.ADV\n",
    "    else:\n",
    "        tag = ''\n",
    "    return tag\n",
    "\n",
    "tagged['New_pos'] = tagged['POS'].apply(convert_tag)\n",
    "tagged"
   ]
  },
  {
   "cell_type": "code",
   "execution_count": 72,
   "id": "a1b54393-0d24-48f1-b5c1-43b2dda770f3",
   "metadata": {},
   "outputs": [
    {
     "data": {
      "text/html": [
       "<div>\n",
       "<style scoped>\n",
       "    .dataframe tbody tr th:only-of-type {\n",
       "        vertical-align: middle;\n",
       "    }\n",
       "\n",
       "    .dataframe tbody tr th {\n",
       "        vertical-align: top;\n",
       "    }\n",
       "\n",
       "    .dataframe thead th {\n",
       "        text-align: right;\n",
       "    }\n",
       "</style>\n",
       "<table border=\"1\" class=\"dataframe\">\n",
       "  <thead>\n",
       "    <tr style=\"text-align: right;\">\n",
       "      <th></th>\n",
       "      <th>Word</th>\n",
       "      <th>POS</th>\n",
       "      <th>New_pos</th>\n",
       "      <th>Lemmatized</th>\n",
       "    </tr>\n",
       "  </thead>\n",
       "  <tbody>\n",
       "    <tr>\n",
       "      <th>1</th>\n",
       "      <td>strong</td>\n",
       "      <td>JJ</td>\n",
       "      <td>a</td>\n",
       "      <td>strong</td>\n",
       "    </tr>\n",
       "    <tr>\n",
       "      <th>2</th>\n",
       "      <td>coffee</td>\n",
       "      <td>NN</td>\n",
       "      <td>n</td>\n",
       "      <td>coffee</td>\n",
       "    </tr>\n",
       "    <tr>\n",
       "      <th>8</th>\n",
       "      <td>lunch</td>\n",
       "      <td>NN</td>\n",
       "      <td>n</td>\n",
       "      <td>lunch</td>\n",
       "    </tr>\n",
       "    <tr>\n",
       "      <th>15</th>\n",
       "      <td>kept</td>\n",
       "      <td>VBD</td>\n",
       "      <td>v</td>\n",
       "      <td>keep</td>\n",
       "    </tr>\n",
       "    <tr>\n",
       "      <th>17</th>\n",
       "      <td>going</td>\n",
       "      <td>VBG</td>\n",
       "      <td>v</td>\n",
       "      <td>go</td>\n",
       "    </tr>\n",
       "    <tr>\n",
       "      <th>19</th>\n",
       "      <td>rest</td>\n",
       "      <td>NN</td>\n",
       "      <td>n</td>\n",
       "      <td>rest</td>\n",
       "    </tr>\n",
       "    <tr>\n",
       "      <th>22</th>\n",
       "      <td>day</td>\n",
       "      <td>NN</td>\n",
       "      <td>n</td>\n",
       "      <td>day</td>\n",
       "    </tr>\n",
       "  </tbody>\n",
       "</table>\n",
       "</div>"
      ],
      "text/plain": [
       "      Word  POS New_pos Lemmatized\n",
       "1   strong   JJ       a     strong\n",
       "2   coffee   NN       n     coffee\n",
       "8    lunch   NN       n      lunch\n",
       "15    kept  VBD       v       keep\n",
       "17   going  VBG       v         go\n",
       "19    rest   NN       n       rest\n",
       "22     day   NN       n        day"
      ]
     },
     "execution_count": 72,
     "metadata": {},
     "output_type": "execute_result"
    }
   ],
   "source": [
    "def lemmatize_word(word, new_pos):\n",
    "    if new_pos != '': #i guess this step is supposed to take care of steps where a new POS is not applied, just in case that's something that happens\n",
    "        lemma = lemmatizer.lemmatize(word, pos = new_pos) \n",
    "    else: #assuming that there are no problems in the new POS being generated\n",
    "        lemma = lemmatizer.lemmatize(word)\n",
    "    return lemma\n",
    "\n",
    "tagged['Lemmatized'] = tagged.apply(lambda row: lemmatize_word(row['Word'], row['New_pos']), axis = 1)\n",
    "tagged"
   ]
  },
  {
   "cell_type": "markdown",
   "id": "4da828db-ec43-438f-9f77-f2810d7f3627",
   "metadata": {},
   "source": [
    "### Cleaning is done, but the last step left is chunking\n",
    "Instead of tokenization breaking the text into individual words, chunking will break the text into groups of words, and this will give me information on phrases that are used. These groups of words are called n-grams, where n is the number of words that are included in each n-gram. "
   ]
  },
  {
   "cell_type": "code",
   "execution_count": 73,
   "id": "71992717-f011-424f-9b7e-8c152ffde196",
   "metadata": {},
   "outputs": [
    {
     "data": {
      "text/plain": [
       "['letter',\n",
       " 'to',\n",
       " 'mrs',\n",
       " 'saville',\n",
       " 'england',\n",
       " 'st',\n",
       " 'petersburgh',\n",
       " 'dec',\n",
       " 'th',\n",
       " 'you',\n",
       " 'will',\n",
       " 'rejoice',\n",
       " 'to',\n",
       " 'hear',\n",
       " 'that']"
      ]
     },
     "execution_count": 73,
     "metadata": {},
     "output_type": "execute_result"
    }
   ],
   "source": [
    "cleaned[:15]"
   ]
  },
  {
   "cell_type": "markdown",
   "id": "c9d8a41d-68f7-401a-b76c-749f6e78f1bc",
   "metadata": {},
   "source": [
    "This still has stopwords, just no punctuation, numbers, and whitespaces. "
   ]
  },
  {
   "cell_type": "code",
   "execution_count": 74,
   "id": "a7c0c17d-0c73-4220-a2bd-8b98feb78cf3",
   "metadata": {},
   "outputs": [
    {
     "data": {
      "text/plain": [
       "0           letter\n",
       "2              mrs\n",
       "3          saville\n",
       "4          england\n",
       "6      petersburgh\n",
       "7              dec\n",
       "11         rejoice\n",
       "13            hear\n",
       "16        disaster\n",
       "18     accompanied\n",
       "20    commencement\n",
       "23      enterprise\n",
       "27        regarded\n",
       "30            evil\n",
       "31     forebodings\n",
       "dtype: object"
      ]
     },
     "execution_count": 74,
     "metadata": {},
     "output_type": "execute_result"
    }
   ],
   "source": [
    "cleaned = pd.Series(cleaned)\n",
    "stopwords_in_cleaned = cleaned.isin(new_stopwords)\n",
    "stopwords_cleaned = cleaned[~stopwords_in_cleaned]\n",
    "stopwords_cleaned = stopwords_cleaned[stopwords_cleaned.str.len() > 2] #don't need to do .index.str here because in the previous instance, this series was one of value counts, but here it's just the text\n",
    "\n",
    "stopwords_cleaned[:15]"
   ]
  },
  {
   "cell_type": "code",
   "execution_count": 75,
   "id": "4187faec-41bf-4004-ba6e-89feac55640d",
   "metadata": {},
   "outputs": [
    {
     "data": {
      "text/html": [
       "<div>\n",
       "<style scoped>\n",
       "    .dataframe tbody tr th:only-of-type {\n",
       "        vertical-align: middle;\n",
       "    }\n",
       "\n",
       "    .dataframe tbody tr th {\n",
       "        vertical-align: top;\n",
       "    }\n",
       "\n",
       "    .dataframe thead th {\n",
       "        text-align: right;\n",
       "    }\n",
       "</style>\n",
       "<table border=\"1\" class=\"dataframe\">\n",
       "  <thead>\n",
       "    <tr style=\"text-align: right;\">\n",
       "      <th></th>\n",
       "      <th>Word</th>\n",
       "      <th>Pair</th>\n",
       "    </tr>\n",
       "  </thead>\n",
       "  <tbody>\n",
       "    <tr>\n",
       "      <th>0</th>\n",
       "      <td>letter</td>\n",
       "      <td>mrs</td>\n",
       "    </tr>\n",
       "    <tr>\n",
       "      <th>1</th>\n",
       "      <td>mrs</td>\n",
       "      <td>saville</td>\n",
       "    </tr>\n",
       "    <tr>\n",
       "      <th>2</th>\n",
       "      <td>saville</td>\n",
       "      <td>england</td>\n",
       "    </tr>\n",
       "    <tr>\n",
       "      <th>3</th>\n",
       "      <td>england</td>\n",
       "      <td>petersburgh</td>\n",
       "    </tr>\n",
       "    <tr>\n",
       "      <th>4</th>\n",
       "      <td>petersburgh</td>\n",
       "      <td>dec</td>\n",
       "    </tr>\n",
       "    <tr>\n",
       "      <th>5</th>\n",
       "      <td>dec</td>\n",
       "      <td>rejoice</td>\n",
       "    </tr>\n",
       "    <tr>\n",
       "      <th>6</th>\n",
       "      <td>rejoice</td>\n",
       "      <td>hear</td>\n",
       "    </tr>\n",
       "    <tr>\n",
       "      <th>7</th>\n",
       "      <td>hear</td>\n",
       "      <td>disaster</td>\n",
       "    </tr>\n",
       "    <tr>\n",
       "      <th>8</th>\n",
       "      <td>disaster</td>\n",
       "      <td>accompanied</td>\n",
       "    </tr>\n",
       "    <tr>\n",
       "      <th>9</th>\n",
       "      <td>accompanied</td>\n",
       "      <td>commencement</td>\n",
       "    </tr>\n",
       "  </tbody>\n",
       "</table>\n",
       "</div>"
      ],
      "text/plain": [
       "          Word          Pair\n",
       "0       letter           mrs\n",
       "1          mrs       saville\n",
       "2      saville       england\n",
       "3      england   petersburgh\n",
       "4  petersburgh           dec\n",
       "5          dec       rejoice\n",
       "6      rejoice          hear\n",
       "7         hear      disaster\n",
       "8     disaster   accompanied\n",
       "9  accompanied  commencement"
      ]
     },
     "execution_count": 75,
     "metadata": {},
     "output_type": "execute_result"
    }
   ],
   "source": [
    "from nltk import collocations\n",
    "bigram_measures = collocations.BigramAssocMeasures() #generate \"scores\", but im told literally nothing about what the seminar wants me to quantify even\n",
    "bigram_finder = collocations.BigramCollocationFinder.from_words(stopwords_cleaned)\n",
    "\n",
    "freq = bigram_finder.ngram_fd #this helps me get raw bigram counts, or frequency distribution, but I dont even use the BigramAssocMeasures for this?? lol\n",
    "bigram_freq = pd.DataFrame(freq.keys(), columns = ['Word', 'Pair'])\n",
    "bigram_freq.head(10)"
   ]
  },
  {
   "cell_type": "code",
   "execution_count": 76,
   "id": "950b9480-e6e6-458a-a076-dca0dd67521f",
   "metadata": {},
   "outputs": [
    {
     "data": {
      "text/plain": [
       "FreqDist({('old', 'man'): 32, ('native', 'country'): 15, ('natural', 'philosophy'): 14, ('taken', 'place'): 13, ('fellow', 'creatures'): 11, ('dear', 'victor'): 10, ('long', 'time'): 9, ('short', 'time'): 9, ('young', 'man'): 9, ('life', 'death'): 8, ...})"
      ]
     },
     "execution_count": 76,
     "metadata": {},
     "output_type": "execute_result"
    }
   ],
   "source": [
    "freq"
   ]
  },
  {
   "cell_type": "markdown",
   "id": "77f36b3c-6845-4b00-a367-1b054fa3968b",
   "metadata": {},
   "source": [
    "Okay so freq gives me a dictionary where the keys are the pair, or a tuple, and the values are the score given to this tuple of bigrams for whatever I am scoring right now. "
   ]
  },
  {
   "cell_type": "code",
   "execution_count": 77,
   "id": "31568bed-5e7a-402e-a3fa-bc83f523843f",
   "metadata": {},
   "outputs": [
    {
     "data": {
      "text/html": [
       "<div>\n",
       "<style scoped>\n",
       "    .dataframe tbody tr th:only-of-type {\n",
       "        vertical-align: middle;\n",
       "    }\n",
       "\n",
       "    .dataframe tbody tr th {\n",
       "        vertical-align: top;\n",
       "    }\n",
       "\n",
       "    .dataframe thead th {\n",
       "        text-align: right;\n",
       "    }\n",
       "</style>\n",
       "<table border=\"1\" class=\"dataframe\">\n",
       "  <thead>\n",
       "    <tr style=\"text-align: right;\">\n",
       "      <th></th>\n",
       "      <th>Pair</th>\n",
       "      <th>Value</th>\n",
       "    </tr>\n",
       "    <tr>\n",
       "      <th>Word</th>\n",
       "      <th></th>\n",
       "      <th></th>\n",
       "    </tr>\n",
       "  </thead>\n",
       "  <tbody>\n",
       "    <tr>\n",
       "      <th>old</th>\n",
       "      <td>man</td>\n",
       "      <td>32</td>\n",
       "    </tr>\n",
       "    <tr>\n",
       "      <th>native</th>\n",
       "      <td>country</td>\n",
       "      <td>15</td>\n",
       "    </tr>\n",
       "    <tr>\n",
       "      <th>natural</th>\n",
       "      <td>philosophy</td>\n",
       "      <td>14</td>\n",
       "    </tr>\n",
       "    <tr>\n",
       "      <th>taken</th>\n",
       "      <td>place</td>\n",
       "      <td>13</td>\n",
       "    </tr>\n",
       "    <tr>\n",
       "      <th>fellow</th>\n",
       "      <td>creatures</td>\n",
       "      <td>11</td>\n",
       "    </tr>\n",
       "    <tr>\n",
       "      <th>dear</th>\n",
       "      <td>victor</td>\n",
       "      <td>10</td>\n",
       "    </tr>\n",
       "    <tr>\n",
       "      <th>young</th>\n",
       "      <td>man</td>\n",
       "      <td>9</td>\n",
       "    </tr>\n",
       "    <tr>\n",
       "      <th>short</th>\n",
       "      <td>time</td>\n",
       "      <td>9</td>\n",
       "    </tr>\n",
       "    <tr>\n",
       "      <th>long</th>\n",
       "      <td>time</td>\n",
       "      <td>9</td>\n",
       "    </tr>\n",
       "    <tr>\n",
       "      <th>poor</th>\n",
       "      <td>girl</td>\n",
       "      <td>8</td>\n",
       "    </tr>\n",
       "  </tbody>\n",
       "</table>\n",
       "</div>"
      ],
      "text/plain": [
       "               Pair  Value\n",
       "Word                      \n",
       "old             man     32\n",
       "native      country     15\n",
       "natural  philosophy     14\n",
       "taken         place     13\n",
       "fellow    creatures     11\n",
       "dear         victor     10\n",
       "young           man      9\n",
       "short          time      9\n",
       "long           time      9\n",
       "poor           girl      8"
      ]
     },
     "execution_count": 77,
     "metadata": {},
     "output_type": "execute_result"
    }
   ],
   "source": [
    "bigram_freq = bigram_freq.set_index('Word')\n",
    "bigram_freq['Value'] = freq.values()\n",
    "bigram_freq = bigram_freq.sort_values(\"Value\", ascending = False)\n",
    "bigram_freq.head(10)"
   ]
  },
  {
   "cell_type": "markdown",
   "id": "18c42ff1-158e-4ee2-b4ee-a5f8dcda5464",
   "metadata": {},
   "source": [
    "The next thing I am curious about is how unique some of these phrases are. Maybe that's not the best explanation, it's more like \"are these two words something that stick together all the time or do they switch up and stick around with other words as well\". For example something like man isn't unique to old man, because even young man is on this list. However, creatures? Creatures might associate more often with fellow than most other words, so there's some correlation between saying fellow and then following up w creatures, or some reason that creatures are preceded with fellow rather than any other word. \n",
    "\n",
    "This is done with pointwise mutual information scores, PMI, which measures the association strength of a pair of outcomes. So essentially breaking that down, it measures how strongly related or associated two outcomes are, without knowing the underlying process for generating these two outcomes. \"In our case, the higher the score, the more likely a given bigram pair will be with respect to other bigrams in which the two words of the present one appear\" is a pretty ugly sentence they put in this seminar imo. "
   ]
  },
  {
   "cell_type": "code",
   "execution_count": 81,
   "id": "5b21e41d-24e2-497e-8647-c541355e9356",
   "metadata": {},
   "outputs": [
    {
     "data": {
      "text/plain": [
       "[(('achieve', 'treading'), 14.890121748737435),\n",
       " (('acti', 'fettered'), 14.890121748737435),\n",
       " (('adams', 'supplication'), 14.890121748737435),\n",
       " (('adrift', 'homeless'), 14.890121748737435),\n",
       " (('advocate', 'stated'), 14.890121748737435),\n",
       " (('agents', 'creators'), 14.890121748737435),\n",
       " (('aggravation', 'infamy'), 14.890121748737435),\n",
       " (('agile', 'subsist'), 14.890121748737435),\n",
       " (('alterations', 'tranquilly'), 14.890121748737435),\n",
       " (('american', 'hemisphere'), 14.890121748737435)]"
      ]
     },
     "execution_count": 81,
     "metadata": {},
     "output_type": "execute_result"
    }
   ],
   "source": [
    "bigram_pmi = bigram_finder.score_ngrams(bigram_measures.pmi)\n",
    "bigram_pmi[:10]"
   ]
  },
  {
   "cell_type": "markdown",
   "id": "f49eb4ee-a7af-4937-af17-d52069768a2a",
   "metadata": {},
   "source": [
    "So this outputs a similar type of file as the previous time, except this time instead of a dictionary, I get a list of tuples, where the first item of the tuple is another tuple which includes the bigram, which corresponds to the score, the second item of the tuple. "
   ]
  },
  {
   "cell_type": "code",
   "execution_count": 83,
   "id": "95050a84-f184-4daf-8e85-280fb666fde1",
   "metadata": {},
   "outputs": [
    {
     "data": {
      "text/html": [
       "<div>\n",
       "<style scoped>\n",
       "    .dataframe tbody tr th:only-of-type {\n",
       "        vertical-align: middle;\n",
       "    }\n",
       "\n",
       "    .dataframe tbody tr th {\n",
       "        vertical-align: top;\n",
       "    }\n",
       "\n",
       "    .dataframe thead th {\n",
       "        text-align: right;\n",
       "    }\n",
       "</style>\n",
       "<table border=\"1\" class=\"dataframe\">\n",
       "  <thead>\n",
       "    <tr style=\"text-align: right;\">\n",
       "      <th></th>\n",
       "      <th>Bigrams</th>\n",
       "      <th>PMI</th>\n",
       "    </tr>\n",
       "  </thead>\n",
       "  <tbody>\n",
       "    <tr>\n",
       "      <th>0</th>\n",
       "      <td>(achieve, treading)</td>\n",
       "      <td>14.890122</td>\n",
       "    </tr>\n",
       "    <tr>\n",
       "      <th>1</th>\n",
       "      <td>(acti, fettered)</td>\n",
       "      <td>14.890122</td>\n",
       "    </tr>\n",
       "    <tr>\n",
       "      <th>2</th>\n",
       "      <td>(adams, supplication)</td>\n",
       "      <td>14.890122</td>\n",
       "    </tr>\n",
       "    <tr>\n",
       "      <th>3</th>\n",
       "      <td>(adrift, homeless)</td>\n",
       "      <td>14.890122</td>\n",
       "    </tr>\n",
       "    <tr>\n",
       "      <th>4</th>\n",
       "      <td>(advocate, stated)</td>\n",
       "      <td>14.890122</td>\n",
       "    </tr>\n",
       "    <tr>\n",
       "      <th>5</th>\n",
       "      <td>(agents, creators)</td>\n",
       "      <td>14.890122</td>\n",
       "    </tr>\n",
       "    <tr>\n",
       "      <th>6</th>\n",
       "      <td>(aggravation, infamy)</td>\n",
       "      <td>14.890122</td>\n",
       "    </tr>\n",
       "    <tr>\n",
       "      <th>7</th>\n",
       "      <td>(agile, subsist)</td>\n",
       "      <td>14.890122</td>\n",
       "    </tr>\n",
       "    <tr>\n",
       "      <th>8</th>\n",
       "      <td>(alterations, tranquilly)</td>\n",
       "      <td>14.890122</td>\n",
       "    </tr>\n",
       "    <tr>\n",
       "      <th>9</th>\n",
       "      <td>(american, hemisphere)</td>\n",
       "      <td>14.890122</td>\n",
       "    </tr>\n",
       "  </tbody>\n",
       "</table>\n",
       "</div>"
      ],
      "text/plain": [
       "                     Bigrams        PMI\n",
       "0        (achieve, treading)  14.890122\n",
       "1           (acti, fettered)  14.890122\n",
       "2      (adams, supplication)  14.890122\n",
       "3         (adrift, homeless)  14.890122\n",
       "4         (advocate, stated)  14.890122\n",
       "5         (agents, creators)  14.890122\n",
       "6      (aggravation, infamy)  14.890122\n",
       "7           (agile, subsist)  14.890122\n",
       "8  (alterations, tranquilly)  14.890122\n",
       "9     (american, hemisphere)  14.890122"
      ]
     },
     "execution_count": 83,
     "metadata": {},
     "output_type": "execute_result"
    }
   ],
   "source": [
    "pmi_df = pd.DataFrame(bigram_pmi, columns = ['Bigrams', 'PMI'])\n",
    "pmi_df.head(10)"
   ]
  },
  {
   "cell_type": "code",
   "execution_count": 84,
   "id": "6ec98e64-8d65-4bd3-84ac-d78e595d0591",
   "metadata": {},
   "outputs": [
    {
     "data": {
      "text/html": [
       "<div>\n",
       "<style scoped>\n",
       "    .dataframe tbody tr th:only-of-type {\n",
       "        vertical-align: middle;\n",
       "    }\n",
       "\n",
       "    .dataframe tbody tr th {\n",
       "        vertical-align: top;\n",
       "    }\n",
       "\n",
       "    .dataframe thead th {\n",
       "        text-align: right;\n",
       "    }\n",
       "</style>\n",
       "<table border=\"1\" class=\"dataframe\">\n",
       "  <thead>\n",
       "    <tr style=\"text-align: right;\">\n",
       "      <th></th>\n",
       "      <th>Bigrams</th>\n",
       "      <th>PMI</th>\n",
       "      <th>Word</th>\n",
       "      <th>Pair</th>\n",
       "    </tr>\n",
       "  </thead>\n",
       "  <tbody>\n",
       "    <tr>\n",
       "      <th>0</th>\n",
       "      <td>(achieve, treading)</td>\n",
       "      <td>14.890122</td>\n",
       "      <td>achieve</td>\n",
       "      <td>treading</td>\n",
       "    </tr>\n",
       "    <tr>\n",
       "      <th>1</th>\n",
       "      <td>(acti, fettered)</td>\n",
       "      <td>14.890122</td>\n",
       "      <td>acti</td>\n",
       "      <td>fettered</td>\n",
       "    </tr>\n",
       "    <tr>\n",
       "      <th>2</th>\n",
       "      <td>(adams, supplication)</td>\n",
       "      <td>14.890122</td>\n",
       "      <td>adams</td>\n",
       "      <td>supplication</td>\n",
       "    </tr>\n",
       "    <tr>\n",
       "      <th>3</th>\n",
       "      <td>(adrift, homeless)</td>\n",
       "      <td>14.890122</td>\n",
       "      <td>adrift</td>\n",
       "      <td>homeless</td>\n",
       "    </tr>\n",
       "    <tr>\n",
       "      <th>4</th>\n",
       "      <td>(advocate, stated)</td>\n",
       "      <td>14.890122</td>\n",
       "      <td>advocate</td>\n",
       "      <td>stated</td>\n",
       "    </tr>\n",
       "    <tr>\n",
       "      <th>...</th>\n",
       "      <td>...</td>\n",
       "      <td>...</td>\n",
       "      <td>...</td>\n",
       "      <td>...</td>\n",
       "    </tr>\n",
       "    <tr>\n",
       "      <th>28979</th>\n",
       "      <td>(said, man)</td>\n",
       "      <td>1.184273</td>\n",
       "      <td>said</td>\n",
       "      <td>man</td>\n",
       "    </tr>\n",
       "    <tr>\n",
       "      <th>28980</th>\n",
       "      <td>(man, eyes)</td>\n",
       "      <td>1.156259</td>\n",
       "      <td>man</td>\n",
       "      <td>eyes</td>\n",
       "    </tr>\n",
       "    <tr>\n",
       "      <th>28981</th>\n",
       "      <td>(man, shall)</td>\n",
       "      <td>1.142453</td>\n",
       "      <td>man</td>\n",
       "      <td>shall</td>\n",
       "    </tr>\n",
       "    <tr>\n",
       "      <th>28982</th>\n",
       "      <td>(shall, man)</td>\n",
       "      <td>1.142453</td>\n",
       "      <td>shall</td>\n",
       "      <td>man</td>\n",
       "    </tr>\n",
       "    <tr>\n",
       "      <th>28983</th>\n",
       "      <td>(man, father)</td>\n",
       "      <td>1.036520</td>\n",
       "      <td>man</td>\n",
       "      <td>father</td>\n",
       "    </tr>\n",
       "  </tbody>\n",
       "</table>\n",
       "<p>28984 rows × 4 columns</p>\n",
       "</div>"
      ],
      "text/plain": [
       "                     Bigrams        PMI      Word          Pair\n",
       "0        (achieve, treading)  14.890122   achieve      treading\n",
       "1           (acti, fettered)  14.890122      acti      fettered\n",
       "2      (adams, supplication)  14.890122     adams  supplication\n",
       "3         (adrift, homeless)  14.890122    adrift      homeless\n",
       "4         (advocate, stated)  14.890122  advocate        stated\n",
       "...                      ...        ...       ...           ...\n",
       "28979            (said, man)   1.184273      said           man\n",
       "28980            (man, eyes)   1.156259       man          eyes\n",
       "28981           (man, shall)   1.142453       man         shall\n",
       "28982           (shall, man)   1.142453     shall           man\n",
       "28983          (man, father)   1.036520       man        father\n",
       "\n",
       "[28984 rows x 4 columns]"
      ]
     },
     "execution_count": 84,
     "metadata": {},
     "output_type": "execute_result"
    }
   ],
   "source": [
    "pmi_df['Word'] = pmi_df['Bigrams'].apply(lambda x: x[0])\n",
    "pmi_df['Pair'] = pmi_df['Bigrams'].apply(lambda x: x[1])\n",
    "pmi_df"
   ]
  },
  {
   "cell_type": "code",
   "execution_count": 86,
   "id": "1df6d766-1f1e-49c3-9e5d-90170a243938",
   "metadata": {},
   "outputs": [
    {
     "data": {
      "text/html": [
       "<div>\n",
       "<style scoped>\n",
       "    .dataframe tbody tr th:only-of-type {\n",
       "        vertical-align: middle;\n",
       "    }\n",
       "\n",
       "    .dataframe tbody tr th {\n",
       "        vertical-align: top;\n",
       "    }\n",
       "\n",
       "    .dataframe thead th {\n",
       "        text-align: right;\n",
       "    }\n",
       "</style>\n",
       "<table border=\"1\" class=\"dataframe\">\n",
       "  <thead>\n",
       "    <tr style=\"text-align: right;\">\n",
       "      <th></th>\n",
       "      <th>PMI</th>\n",
       "      <th>Pair</th>\n",
       "    </tr>\n",
       "    <tr>\n",
       "      <th>Word</th>\n",
       "      <th></th>\n",
       "      <th></th>\n",
       "    </tr>\n",
       "  </thead>\n",
       "  <tbody>\n",
       "    <tr>\n",
       "      <th>achieve</th>\n",
       "      <td>14.890122</td>\n",
       "      <td>treading</td>\n",
       "    </tr>\n",
       "    <tr>\n",
       "      <th>acti</th>\n",
       "      <td>14.890122</td>\n",
       "      <td>fettered</td>\n",
       "    </tr>\n",
       "    <tr>\n",
       "      <th>adams</th>\n",
       "      <td>14.890122</td>\n",
       "      <td>supplication</td>\n",
       "    </tr>\n",
       "    <tr>\n",
       "      <th>adrift</th>\n",
       "      <td>14.890122</td>\n",
       "      <td>homeless</td>\n",
       "    </tr>\n",
       "    <tr>\n",
       "      <th>advocate</th>\n",
       "      <td>14.890122</td>\n",
       "      <td>stated</td>\n",
       "    </tr>\n",
       "    <tr>\n",
       "      <th>...</th>\n",
       "      <td>...</td>\n",
       "      <td>...</td>\n",
       "    </tr>\n",
       "    <tr>\n",
       "      <th>said</th>\n",
       "      <td>1.184273</td>\n",
       "      <td>man</td>\n",
       "    </tr>\n",
       "    <tr>\n",
       "      <th>man</th>\n",
       "      <td>1.156259</td>\n",
       "      <td>eyes</td>\n",
       "    </tr>\n",
       "    <tr>\n",
       "      <th>man</th>\n",
       "      <td>1.142453</td>\n",
       "      <td>shall</td>\n",
       "    </tr>\n",
       "    <tr>\n",
       "      <th>shall</th>\n",
       "      <td>1.142453</td>\n",
       "      <td>man</td>\n",
       "    </tr>\n",
       "    <tr>\n",
       "      <th>man</th>\n",
       "      <td>1.036520</td>\n",
       "      <td>father</td>\n",
       "    </tr>\n",
       "  </tbody>\n",
       "</table>\n",
       "<p>28984 rows × 2 columns</p>\n",
       "</div>"
      ],
      "text/plain": [
       "                PMI          Pair\n",
       "Word                             \n",
       "achieve   14.890122      treading\n",
       "acti      14.890122      fettered\n",
       "adams     14.890122  supplication\n",
       "adrift    14.890122      homeless\n",
       "advocate  14.890122        stated\n",
       "...             ...           ...\n",
       "said       1.184273           man\n",
       "man        1.156259          eyes\n",
       "man        1.142453         shall\n",
       "shall      1.142453           man\n",
       "man        1.036520        father\n",
       "\n",
       "[28984 rows x 2 columns]"
      ]
     },
     "execution_count": 86,
     "metadata": {},
     "output_type": "execute_result"
    }
   ],
   "source": [
    "pmi_df.drop(columns = ['Bigrams'], inplace = True)\n",
    "pmi_df.set_index('Word', inplace = True)\n",
    "pmi_df"
   ]
  },
  {
   "cell_type": "code",
   "execution_count": 87,
   "id": "08683425-2d6e-4a60-a3ce-f9506adb35ff",
   "metadata": {},
   "outputs": [
    {
     "data": {
      "text/html": [
       "<div>\n",
       "<style scoped>\n",
       "    .dataframe tbody tr th:only-of-type {\n",
       "        vertical-align: middle;\n",
       "    }\n",
       "\n",
       "    .dataframe tbody tr th {\n",
       "        vertical-align: top;\n",
       "    }\n",
       "\n",
       "    .dataframe thead th {\n",
       "        text-align: right;\n",
       "    }\n",
       "</style>\n",
       "<table border=\"1\" class=\"dataframe\">\n",
       "  <thead>\n",
       "    <tr style=\"text-align: right;\">\n",
       "      <th></th>\n",
       "      <th>PMI</th>\n",
       "      <th>Pair</th>\n",
       "    </tr>\n",
       "    <tr>\n",
       "      <th>Word</th>\n",
       "      <th></th>\n",
       "      <th></th>\n",
       "    </tr>\n",
       "  </thead>\n",
       "  <tbody>\n",
       "    <tr>\n",
       "      <th>achieve</th>\n",
       "      <td>14.890122</td>\n",
       "      <td>treading</td>\n",
       "    </tr>\n",
       "    <tr>\n",
       "      <th>acti</th>\n",
       "      <td>14.890122</td>\n",
       "      <td>fettered</td>\n",
       "    </tr>\n",
       "    <tr>\n",
       "      <th>adams</th>\n",
       "      <td>14.890122</td>\n",
       "      <td>supplication</td>\n",
       "    </tr>\n",
       "    <tr>\n",
       "      <th>adrift</th>\n",
       "      <td>14.890122</td>\n",
       "      <td>homeless</td>\n",
       "    </tr>\n",
       "    <tr>\n",
       "      <th>advocate</th>\n",
       "      <td>14.890122</td>\n",
       "      <td>stated</td>\n",
       "    </tr>\n",
       "    <tr>\n",
       "      <th>agents</th>\n",
       "      <td>14.890122</td>\n",
       "      <td>creators</td>\n",
       "    </tr>\n",
       "    <tr>\n",
       "      <th>aggravation</th>\n",
       "      <td>14.890122</td>\n",
       "      <td>infamy</td>\n",
       "    </tr>\n",
       "    <tr>\n",
       "      <th>agile</th>\n",
       "      <td>14.890122</td>\n",
       "      <td>subsist</td>\n",
       "    </tr>\n",
       "    <tr>\n",
       "      <th>alterations</th>\n",
       "      <td>14.890122</td>\n",
       "      <td>tranquilly</td>\n",
       "    </tr>\n",
       "    <tr>\n",
       "      <th>american</th>\n",
       "      <td>14.890122</td>\n",
       "      <td>hemisphere</td>\n",
       "    </tr>\n",
       "    <tr>\n",
       "      <th>amid</th>\n",
       "      <td>14.890122</td>\n",
       "      <td>pauses</td>\n",
       "    </tr>\n",
       "    <tr>\n",
       "      <th>amusements</th>\n",
       "      <td>14.890122</td>\n",
       "      <td>illsuited</td>\n",
       "    </tr>\n",
       "    <tr>\n",
       "      <th>analysing</th>\n",
       "      <td>14.890122</td>\n",
       "      <td>minutiae</td>\n",
       "    </tr>\n",
       "    <tr>\n",
       "      <th>anchor</th>\n",
       "      <td>14.890122</td>\n",
       "      <td>holding</td>\n",
       "    </tr>\n",
       "    <tr>\n",
       "      <th>andes</th>\n",
       "      <td>14.890122</td>\n",
       "      <td>precipitated</td>\n",
       "    </tr>\n",
       "    <tr>\n",
       "      <th>angrily</th>\n",
       "      <td>14.890122</td>\n",
       "      <td>reiterating</td>\n",
       "    </tr>\n",
       "    <tr>\n",
       "      <th>apartments</th>\n",
       "      <td>14.890122</td>\n",
       "      <td>gallery</td>\n",
       "    </tr>\n",
       "    <tr>\n",
       "      <th>appreciate</th>\n",
       "      <td>14.890122</td>\n",
       "      <td>extraordinary</td>\n",
       "    </tr>\n",
       "    <tr>\n",
       "      <th>armada</th>\n",
       "      <td>14.890122</td>\n",
       "      <td>gravesend</td>\n",
       "    </tr>\n",
       "    <tr>\n",
       "      <th>arrested</th>\n",
       "      <td>14.890122</td>\n",
       "      <td>paddling</td>\n",
       "    </tr>\n",
       "    <tr>\n",
       "      <th>arrow</th>\n",
       "      <td>14.890122</td>\n",
       "      <td>pierced</td>\n",
       "    </tr>\n",
       "    <tr>\n",
       "      <th>arthur</th>\n",
       "      <td>14.890122</td>\n",
       "      <td>chivalrous</td>\n",
       "    </tr>\n",
       "    <tr>\n",
       "      <th>aspired</th>\n",
       "      <td>14.890122</td>\n",
       "      <td>omnipotence</td>\n",
       "    </tr>\n",
       "    <tr>\n",
       "      <th>assurance</th>\n",
       "      <td>14.890122</td>\n",
       "      <td>acquittal</td>\n",
       "    </tr>\n",
       "    <tr>\n",
       "      <th>attach</th>\n",
       "      <td>14.890122</td>\n",
       "      <td>fervently</td>\n",
       "    </tr>\n",
       "  </tbody>\n",
       "</table>\n",
       "</div>"
      ],
      "text/plain": [
       "                   PMI           Pair\n",
       "Word                                 \n",
       "achieve      14.890122       treading\n",
       "acti         14.890122       fettered\n",
       "adams        14.890122   supplication\n",
       "adrift       14.890122       homeless\n",
       "advocate     14.890122         stated\n",
       "agents       14.890122       creators\n",
       "aggravation  14.890122         infamy\n",
       "agile        14.890122        subsist\n",
       "alterations  14.890122     tranquilly\n",
       "american     14.890122     hemisphere\n",
       "amid         14.890122         pauses\n",
       "amusements   14.890122      illsuited\n",
       "analysing    14.890122       minutiae\n",
       "anchor       14.890122        holding\n",
       "andes        14.890122   precipitated\n",
       "angrily      14.890122    reiterating\n",
       "apartments   14.890122        gallery\n",
       "appreciate   14.890122  extraordinary\n",
       "armada       14.890122      gravesend\n",
       "arrested     14.890122       paddling\n",
       "arrow        14.890122        pierced\n",
       "arthur       14.890122     chivalrous\n",
       "aspired      14.890122    omnipotence\n",
       "assurance    14.890122      acquittal\n",
       "attach       14.890122      fervently"
      ]
     },
     "execution_count": 87,
     "metadata": {},
     "output_type": "execute_result"
    }
   ],
   "source": [
    "pmi_df[:25]"
   ]
  },
  {
   "cell_type": "code",
   "execution_count": 88,
   "id": "54380c66-ccac-4274-8f1c-4e4669c5264e",
   "metadata": {},
   "outputs": [
    {
     "data": {
      "text/html": [
       "<div>\n",
       "<style scoped>\n",
       "    .dataframe tbody tr th:only-of-type {\n",
       "        vertical-align: middle;\n",
       "    }\n",
       "\n",
       "    .dataframe tbody tr th {\n",
       "        vertical-align: top;\n",
       "    }\n",
       "\n",
       "    .dataframe thead th {\n",
       "        text-align: right;\n",
       "    }\n",
       "</style>\n",
       "<table border=\"1\" class=\"dataframe\">\n",
       "  <thead>\n",
       "    <tr style=\"text-align: right;\">\n",
       "      <th></th>\n",
       "      <th>PMI</th>\n",
       "      <th>Pair</th>\n",
       "    </tr>\n",
       "    <tr>\n",
       "      <th>Word</th>\n",
       "      <th></th>\n",
       "      <th></th>\n",
       "    </tr>\n",
       "  </thead>\n",
       "  <tbody>\n",
       "    <tr>\n",
       "      <th>elizabeth</th>\n",
       "      <td>1.849147</td>\n",
       "      <td>time</td>\n",
       "    </tr>\n",
       "    <tr>\n",
       "      <th>thought</th>\n",
       "      <td>1.847778</td>\n",
       "      <td>life</td>\n",
       "    </tr>\n",
       "    <tr>\n",
       "      <th>heart</th>\n",
       "      <td>1.822015</td>\n",
       "      <td>father</td>\n",
       "    </tr>\n",
       "    <tr>\n",
       "      <th>death</th>\n",
       "      <td>1.809304</td>\n",
       "      <td>life</td>\n",
       "    </tr>\n",
       "    <tr>\n",
       "      <th>eyes</th>\n",
       "      <td>1.780291</td>\n",
       "      <td>mind</td>\n",
       "    </tr>\n",
       "    <tr>\n",
       "      <th>eyes</th>\n",
       "      <td>1.746739</td>\n",
       "      <td>night</td>\n",
       "    </tr>\n",
       "    <tr>\n",
       "      <th>time</th>\n",
       "      <td>1.720823</td>\n",
       "      <td>saw</td>\n",
       "    </tr>\n",
       "    <tr>\n",
       "      <th>man</th>\n",
       "      <td>1.608771</td>\n",
       "      <td>feelings</td>\n",
       "    </tr>\n",
       "    <tr>\n",
       "      <th>eyes</th>\n",
       "      <td>1.574972</td>\n",
       "      <td>time</td>\n",
       "    </tr>\n",
       "    <tr>\n",
       "      <th>shall</th>\n",
       "      <td>1.561166</td>\n",
       "      <td>time</td>\n",
       "    </tr>\n",
       "    <tr>\n",
       "      <th>time</th>\n",
       "      <td>1.561166</td>\n",
       "      <td>shall</td>\n",
       "    </tr>\n",
       "    <tr>\n",
       "      <th>father</th>\n",
       "      <td>1.515354</td>\n",
       "      <td>saw</td>\n",
       "    </tr>\n",
       "    <tr>\n",
       "      <th>life</th>\n",
       "      <td>1.502643</td>\n",
       "      <td>saw</td>\n",
       "    </tr>\n",
       "    <tr>\n",
       "      <th>eyes</th>\n",
       "      <td>1.489242</td>\n",
       "      <td>eyes</td>\n",
       "    </tr>\n",
       "    <tr>\n",
       "      <th>eyes</th>\n",
       "      <td>1.475437</td>\n",
       "      <td>shall</td>\n",
       "    </tr>\n",
       "    <tr>\n",
       "      <th>said</th>\n",
       "      <td>1.397517</td>\n",
       "      <td>father</td>\n",
       "    </tr>\n",
       "    <tr>\n",
       "      <th>man</th>\n",
       "      <td>1.302110</td>\n",
       "      <td>saw</td>\n",
       "    </tr>\n",
       "    <tr>\n",
       "      <th>saw</th>\n",
       "      <td>1.302110</td>\n",
       "      <td>man</td>\n",
       "    </tr>\n",
       "    <tr>\n",
       "      <th>father</th>\n",
       "      <td>1.249764</td>\n",
       "      <td>father</td>\n",
       "    </tr>\n",
       "    <tr>\n",
       "      <th>life</th>\n",
       "      <td>1.237053</td>\n",
       "      <td>father</td>\n",
       "    </tr>\n",
       "    <tr>\n",
       "      <th>said</th>\n",
       "      <td>1.184273</td>\n",
       "      <td>man</td>\n",
       "    </tr>\n",
       "    <tr>\n",
       "      <th>man</th>\n",
       "      <td>1.156259</td>\n",
       "      <td>eyes</td>\n",
       "    </tr>\n",
       "    <tr>\n",
       "      <th>man</th>\n",
       "      <td>1.142453</td>\n",
       "      <td>shall</td>\n",
       "    </tr>\n",
       "    <tr>\n",
       "      <th>shall</th>\n",
       "      <td>1.142453</td>\n",
       "      <td>man</td>\n",
       "    </tr>\n",
       "    <tr>\n",
       "      <th>man</th>\n",
       "      <td>1.036520</td>\n",
       "      <td>father</td>\n",
       "    </tr>\n",
       "  </tbody>\n",
       "</table>\n",
       "</div>"
      ],
      "text/plain": [
       "                PMI      Pair\n",
       "Word                         \n",
       "elizabeth  1.849147      time\n",
       "thought    1.847778      life\n",
       "heart      1.822015    father\n",
       "death      1.809304      life\n",
       "eyes       1.780291      mind\n",
       "eyes       1.746739     night\n",
       "time       1.720823       saw\n",
       "man        1.608771  feelings\n",
       "eyes       1.574972      time\n",
       "shall      1.561166      time\n",
       "time       1.561166     shall\n",
       "father     1.515354       saw\n",
       "life       1.502643       saw\n",
       "eyes       1.489242      eyes\n",
       "eyes       1.475437     shall\n",
       "said       1.397517    father\n",
       "man        1.302110       saw\n",
       "saw        1.302110       man\n",
       "father     1.249764    father\n",
       "life       1.237053    father\n",
       "said       1.184273       man\n",
       "man        1.156259      eyes\n",
       "man        1.142453     shall\n",
       "shall      1.142453       man\n",
       "man        1.036520    father"
      ]
     },
     "execution_count": 88,
     "metadata": {},
     "output_type": "execute_result"
    }
   ],
   "source": [
    "pmi_df[-25:]"
   ]
  },
  {
   "cell_type": "markdown",
   "id": "4825680f-2460-41aa-a103-cc9fa843ec9b",
   "metadata": {},
   "source": [
    "What this shows me is that there are a lot of words and pairs at the bottom of this dataframe that can be combined, and are combined, with many other words to make many possible bigrams that have either of these words. On the other hand, there are no repeats at the top of the dataframe, showing that the higher scores of these bigrams is related to how often the words that compose these bigrams show up in other bigrams.\n",
    "\n",
    "Okay, so there's still three more chapters left, but I am going to take a little break to eat something and go for a walk before coming back and finishing them.\n",
    "\n",
    "-- \n",
    "\n",
    "I took kind of a long break because there are so many chapters left and my head is feeling pretty tired. \n",
    "\n",
    "### Analyzing a corpus - or collection - of texts, not just one\n",
    "\n",
    "Looking at a text in the context of others, by for example comparing Frankenstein to other similar novels, either by genre, era, author, etc., would show me not only qualities of Frankenstein, but qualities that Frankenstein either holds alone or shares with other novels. \n",
    "\n",
    "The seminar is going to have me use about 380 obituaries from NYT, which is pretty dark, and instead of reading all of that in at once, I will be loading in a file manifest first."
   ]
  },
  {
   "cell_type": "code",
   "execution_count": 89,
   "id": "4d469cf9-7131-454a-b3a5-004cdde6b00a",
   "metadata": {},
   "outputs": [
    {
     "data": {
      "text/html": [
       "<div>\n",
       "<style scoped>\n",
       "    .dataframe tbody tr th:only-of-type {\n",
       "        vertical-align: middle;\n",
       "    }\n",
       "\n",
       "    .dataframe tbody tr th {\n",
       "        vertical-align: top;\n",
       "    }\n",
       "\n",
       "    .dataframe thead th {\n",
       "        text-align: right;\n",
       "    }\n",
       "</style>\n",
       "<table border=\"1\" class=\"dataframe\">\n",
       "  <thead>\n",
       "    <tr style=\"text-align: right;\">\n",
       "      <th></th>\n",
       "      <th>NAME</th>\n",
       "      <th>YEAR</th>\n",
       "      <th>FILE_NAME</th>\n",
       "    </tr>\n",
       "  </thead>\n",
       "  <tbody>\n",
       "    <tr>\n",
       "      <th>0</th>\n",
       "      <td>Ada Lovelace</td>\n",
       "      <td>1852</td>\n",
       "      <td>000.txt</td>\n",
       "    </tr>\n",
       "    <tr>\n",
       "      <th>1</th>\n",
       "      <td>Robert E Lee</td>\n",
       "      <td>1870</td>\n",
       "      <td>001.txt</td>\n",
       "    </tr>\n",
       "    <tr>\n",
       "      <th>2</th>\n",
       "      <td>Andrew Johnson</td>\n",
       "      <td>1875</td>\n",
       "      <td>002.txt</td>\n",
       "    </tr>\n",
       "    <tr>\n",
       "      <th>3</th>\n",
       "      <td>Bedford Forrest</td>\n",
       "      <td>1877</td>\n",
       "      <td>003.txt</td>\n",
       "    </tr>\n",
       "    <tr>\n",
       "      <th>4</th>\n",
       "      <td>Lucretia Mott</td>\n",
       "      <td>1880</td>\n",
       "      <td>004.txt</td>\n",
       "    </tr>\n",
       "    <tr>\n",
       "      <th>5</th>\n",
       "      <td>Charles Darwin</td>\n",
       "      <td>1882</td>\n",
       "      <td>005.txt</td>\n",
       "    </tr>\n",
       "    <tr>\n",
       "      <th>6</th>\n",
       "      <td>Ulysses Grant</td>\n",
       "      <td>1885</td>\n",
       "      <td>006.txt</td>\n",
       "    </tr>\n",
       "    <tr>\n",
       "      <th>7</th>\n",
       "      <td>Mary Ewing Outerbridge</td>\n",
       "      <td>1886</td>\n",
       "      <td>007.txt</td>\n",
       "    </tr>\n",
       "    <tr>\n",
       "      <th>8</th>\n",
       "      <td>Emma Lazarus</td>\n",
       "      <td>1887</td>\n",
       "      <td>008.txt</td>\n",
       "    </tr>\n",
       "    <tr>\n",
       "      <th>9</th>\n",
       "      <td>Louisa M Alcott</td>\n",
       "      <td>1888</td>\n",
       "      <td>009.txt</td>\n",
       "    </tr>\n",
       "  </tbody>\n",
       "</table>\n",
       "</div>"
      ],
      "text/plain": [
       "                     NAME  YEAR FILE_NAME\n",
       "0            Ada Lovelace  1852   000.txt\n",
       "1            Robert E Lee  1870   001.txt\n",
       "2          Andrew Johnson  1875   002.txt\n",
       "3         Bedford Forrest  1877   003.txt\n",
       "4           Lucretia Mott  1880   004.txt\n",
       "5          Charles Darwin  1882   005.txt\n",
       "6           Ulysses Grant  1885   006.txt\n",
       "7  Mary Ewing Outerbridge  1886   007.txt\n",
       "8            Emma Lazarus  1887   008.txt\n",
       "9         Louisa M Alcott  1888   009.txt"
      ]
     },
     "execution_count": 89,
     "metadata": {},
     "output_type": "execute_result"
    }
   ],
   "source": [
    "import pandas as pd\n",
    "manifest = pd.read_csv(\"/Users/ankushbharadwaj/Desktop/GettingStartedwTextDatainPython/tm_workshop_data/session_two/manifest.csv\", index_col = 0)\n",
    "manifest['YEAR'] = pd.to_datetime(manifest['YEAR'], format = \"%Y\").dt.year\n",
    "            \n",
    "manifest.head(10)"
   ]
  },
  {
   "cell_type": "code",
   "execution_count": 91,
   "id": "078e68da-a785-48ed-aefc-c66ffe4a74a6",
   "metadata": {},
   "outputs": [
    {
     "name": "stdout",
     "output_type": "stream",
     "text": [
      "Number of obits:  379\n",
      "Number of unique obits:  378\n"
     ]
    }
   ],
   "source": [
    "print(\"Number of obits: \", len(manifest))\n",
    "print(\"Number of unique obits: \", manifest['NAME'].nunique())"
   ]
  },
  {
   "cell_type": "code",
   "execution_count": 92,
   "id": "ab77e571-c163-4657-8bac-70bd737bae63",
   "metadata": {},
   "outputs": [
    {
     "name": "stdout",
     "output_type": "stream",
     "text": [
      "range(1852, 2012, 5)\n",
      "1852\n",
      "2007\n"
     ]
    }
   ],
   "source": [
    "date_range = range(manifest['YEAR'].min(), manifest['YEAR'].max()+5, 5)\n",
    "print(date_range)\n",
    "print(manifest['YEAR'].min())\n",
    "print(manifest['YEAR'].max())"
   ]
  },
  {
   "cell_type": "code",
   "execution_count": 93,
   "id": "4fb508cb-2eec-4c6e-8fd3-8ebddbb87ec2",
   "metadata": {},
   "outputs": [
    {
     "data": {
      "text/plain": [
       "YEAR\n",
       "1852     1\n",
       "1870     1\n",
       "1875     1\n",
       "1877     1\n",
       "1880     1\n",
       "        ..\n",
       "1997     3\n",
       "1998    10\n",
       "1999     3\n",
       "2000     3\n",
       "2007     1\n",
       "Name: NAME, Length: 108, dtype: int64"
      ]
     },
     "execution_count": 93,
     "metadata": {},
     "output_type": "execute_result"
    }
   ],
   "source": [
    "obits_each_year = manifest.groupby('YEAR')['NAME'].count()\n",
    "obits_each_year"
   ]
  },
  {
   "cell_type": "code",
   "execution_count": 94,
   "id": "b72de779-cae7-4af7-8297-676077e25468",
   "metadata": {},
   "outputs": [
    {
     "data": {
      "text/plain": [
       "<AxesSubplot:title={'center':'Number of Obits/Year'}, xlabel='Year', ylabel='Count'>"
      ]
     },
     "execution_count": 94,
     "metadata": {},
     "output_type": "execute_result"
    },
    {
     "data": {
      "image/png": "[encoded data removed]",
      "text/plain": [
       "<Figure size 1080x360 with 1 Axes>"
      ]
     },
     "metadata": {
      "needs_background": "light"
     },
     "output_type": "display_data"
    }
   ],
   "source": [
    "obits_each_year.plot(figsize = (15,5), title = 'Number of Obits/Year', xlabel = 'Year', ylabel = 'Count', xticks = date_range, yticks = range(0,15), rot = 45)"
   ]
  },
  {
   "cell_type": "markdown",
   "id": "8d50262a-4083-45f1-b5d0-8b7c1856564e",
   "metadata": {},
   "source": [
    "The direction to take now is to clean all of the text files of all the obituaries. The steps needed are to resolve casing, remove punctuation and formatting (extra whitespaces) and numbers, and get rid of stopwords. I do not need to lemmatization, since this dataset was already lemmatized beforehand since it's an intense task. "
   ]
  },
  {
   "cell_type": "code",
   "execution_count": 95,
   "id": "56cf1a99-c234-4da4-92be-8f7807fc968e",
   "metadata": {},
   "outputs": [],
   "source": [
    "import re\n",
    "\n",
    "with open(\"/Users/ankushbharadwaj/Desktop/GettingStartedwTextDatainPython/tm_workshop_data/voyant_stoplist.txt\", 'r') as f:\n",
    "    stopwords = f.read().split(\"\\n\")\n",
    "    \n",
    "def to_lower(doc):\n",
    "    return doc.lower()\n",
    "\n",
    "def remove_punctuation(doc):\n",
    "    doc = re.sub(r\"[-]|[–]|[_]\", \" \", doc)\n",
    "    doc = re.sub(r\"[^\\w\\s]\", \"\", doc)\n",
    "    return doc\n",
    "\n",
    "def remove_digits(doc):\n",
    "    return re.sub(r\"[0-9]\", \"\", doc)\n",
    "\n",
    "def remove_whitespaces(doc):\n",
    "    return re.sub(r\"\\s+\", \" \", doc)\n",
    "\n",
    "def remove_stop_words(doc):\n",
    "    doc = doc.split()\n",
    "    doc = [token for token in doc if token not in stopwords]\n",
    "    doc = [token for token in doc if len(token) > 2]\n",
    "    doc = ' '.join(doc)\n",
    "    return doc\n",
    "\n",
    "def clean(doc):\n",
    "    lowercase = to_lower(doc)\n",
    "    no_punct = remove_punctuation(lowercase)\n",
    "    no_digits = remove_digits(no_punct)\n",
    "    no_ws = remove_whitespaces(no_digits)\n",
    "    no_stopwords = remove_stop_words(no_ws)\n",
    "    return no_stopwords"
   ]
  },
  {
   "cell_type": "markdown",
   "id": "19a88933-6bdf-4f2b-90b3-d7cceb5f4bbd",
   "metadata": {},
   "source": [
    "Now that I have all the functions I will use to do my cleaning set up, I can proceeed with the cleaning. Before, I need to know what I will be doing with the cleaned data, which is that I will add each cleaned obituary, which will be a long string at the end of the `clean()` function, to a list in the order that they are found. "
   ]
  },
  {
   "cell_type": "code",
   "execution_count": 97,
   "id": "b8eea6e7-f036-44cd-887a-b40b00dee65f",
   "metadata": {},
   "outputs": [],
   "source": [
    "indir = \"/Users/ankushbharadwaj/Desktop/GettingStartedwTextDatainPython/tm_workshop_data/session_two/input/\"\n",
    "corpus = []\n",
    "\n",
    "for title in manifest.index:\n",
    "    filepath = indir + manifest.loc[title, 'FILE_NAME']\n",
    "    with open(filepath, 'r') as f:\n",
    "        text = f.read()\n",
    "        cleaned = clean(text)\n",
    "        corpus.append(cleaned)                                    "
   ]
  },
  {
   "cell_type": "code",
   "execution_count": 99,
   "id": "fd21888d-347a-4b20-a987-4e03c7cbc810",
   "metadata": {},
   "outputs": [
    {
     "data": {
      "text/plain": [
       "True"
      ]
     },
     "execution_count": 99,
     "metadata": {},
     "output_type": "execute_result"
    }
   ],
   "source": [
    "len(corpus) == len(manifest)"
   ]
  },
  {
   "cell_type": "markdown",
   "id": "03d34e8d-2c69-4dcc-b853-a581cc214c78",
   "metadata": {},
   "source": [
    "While the manifest includes cursory information like the name of the textfile, date of the obit, and obit name, the corpus includes none of this information and instead contains the cleaned textual data from the manifest file. \n",
    "\n",
    "Just like the pointwise mutual information scores that relates each word or set of words with each other, I need something that realtes each text to each other. \n",
    "### Doing this will build a Document Term Matrix (DTM)\n",
    "This is a matrix that contains the frequences of all the terms in a corpus such that each row is a document and each column is a term and the cells are populated by a measure of how often the word of that column appears in the document of that row. \n",
    "\n",
    "This is an example of a DTM made for a set of three documents:\n",
    "* I like cats. Do you?\n",
    "* I only like dogs. And you?\n",
    "* I like cats and dogs."
   ]
  },
  {
   "cell_type": "code",
   "execution_count": 100,
   "id": "3ff074d1-f281-4292-baa4-4e86a1f989b3",
   "metadata": {},
   "outputs": [
    {
     "data": {
      "text/html": [
       "<div>\n",
       "<style scoped>\n",
       "    .dataframe tbody tr th:only-of-type {\n",
       "        vertical-align: middle;\n",
       "    }\n",
       "\n",
       "    .dataframe tbody tr th {\n",
       "        vertical-align: top;\n",
       "    }\n",
       "\n",
       "    .dataframe thead th {\n",
       "        text-align: right;\n",
       "    }\n",
       "</style>\n",
       "<table border=\"1\" class=\"dataframe\">\n",
       "  <thead>\n",
       "    <tr style=\"text-align: right;\">\n",
       "      <th></th>\n",
       "      <th>i</th>\n",
       "      <th>only</th>\n",
       "      <th>like</th>\n",
       "      <th>cats</th>\n",
       "      <th>and</th>\n",
       "      <th>dogs</th>\n",
       "      <th>do</th>\n",
       "      <th>you</th>\n",
       "    </tr>\n",
       "  </thead>\n",
       "  <tbody>\n",
       "    <tr>\n",
       "      <th>D1</th>\n",
       "      <td>1</td>\n",
       "      <td>0</td>\n",
       "      <td>1</td>\n",
       "      <td>1</td>\n",
       "      <td>0</td>\n",
       "      <td>0</td>\n",
       "      <td>1</td>\n",
       "      <td>1</td>\n",
       "    </tr>\n",
       "    <tr>\n",
       "      <th>D2</th>\n",
       "      <td>1</td>\n",
       "      <td>1</td>\n",
       "      <td>1</td>\n",
       "      <td>0</td>\n",
       "      <td>1</td>\n",
       "      <td>1</td>\n",
       "      <td>0</td>\n",
       "      <td>1</td>\n",
       "    </tr>\n",
       "    <tr>\n",
       "      <th>D3</th>\n",
       "      <td>1</td>\n",
       "      <td>0</td>\n",
       "      <td>1</td>\n",
       "      <td>1</td>\n",
       "      <td>1</td>\n",
       "      <td>1</td>\n",
       "      <td>0</td>\n",
       "      <td>0</td>\n",
       "    </tr>\n",
       "  </tbody>\n",
       "</table>\n",
       "</div>"
      ],
      "text/plain": [
       "    i  only  like  cats  and  dogs  do  you\n",
       "D1  1     0     1     1    0     0   1    1\n",
       "D2  1     1     1     0    1     1   0    1\n",
       "D3  1     0     1     1    1     1   0    0"
      ]
     },
     "execution_count": 100,
     "metadata": {},
     "output_type": "execute_result"
    }
   ],
   "source": [
    "example_corpus = [[1, 0, 1, 1, 0, 0, 1, 1],\n",
    "                  [1, 1, 1, 0, 1, 1, 0, 1],\n",
    "                  [1, 0, 1, 1, 1, 1, 0, 0]]\n",
    "\n",
    "example_dtm = pd.DataFrame(example_corpus, \n",
    "                           index = ['D1', 'D2', 'D3'], \n",
    "                           columns = ['i', 'only', 'like', 'cats', 'and', 'dogs', 'do', 'you']\n",
    "                          )\n",
    "\n",
    "example_dtm"
   ]
  },
  {
   "cell_type": "markdown",
   "id": "dcba53d1-eeed-40fd-8440-510e837b0b64",
   "metadata": {},
   "source": [
    "This is sick because I can really easily see what terms show up in what documents and which documents have similar groups of terms, and honeslty much much more. \n",
    "\n",
    "Okay, now I am going to do this for the actual data I'm using. "
   ]
  },
  {
   "cell_type": "code",
   "execution_count": 102,
   "id": "8e70ba73-d469-406b-85e7-e27856ebe89d",
   "metadata": {},
   "outputs": [
    {
     "data": {
      "text/plain": [
       "<10x32548 sparse matrix of type '<class 'numpy.int64'>'\n",
       "\twith 8336 stored elements in Compressed Sparse Row format>"
      ]
     },
     "execution_count": 102,
     "metadata": {},
     "output_type": "execute_result"
    }
   ],
   "source": [
    "from sklearn.feature_extraction.text import CountVectorizer\n",
    "count_vectorizer = CountVectorizer()\n",
    "vectorized_corpus = count_vectorizer.fit_transform(corpus)\n",
    "\n",
    "vectorized_corpus[:10]"
   ]
  },
  {
   "cell_type": "markdown",
   "id": "e428742a-f375-477b-a888-a80fb1d176d7",
   "metadata": {},
   "source": [
    "Alright so `count_vectorizer.fit_transform` returns whats called a sparse matrix, which has mostly 0s and is this way to save space. Normally, these are two calls I can do on this to get some information."
   ]
  },
  {
   "cell_type": "code",
   "execution_count": 103,
   "id": "c25801b6-8c39-434b-aaf2-1fc4a39e9c9c",
   "metadata": {},
   "outputs": [
    {
     "name": "stdout",
     "output_type": "stream",
     "text": [
      "Number of documents/rows:  379\n",
      "Number of terms/columns:  32548\n"
     ]
    }
   ],
   "source": [
    "print(\"Number of documents/rows: \", vectorized_corpus.shape[0])\n",
    "print(\"Number of terms/columns: \", vectorized_corpus.shape[1])"
   ]
  },
  {
   "cell_type": "markdown",
   "id": "359e4e63-8315-48e5-85ee-8a1fcb91fc6c",
   "metadata": {},
   "source": [
    "Seminar is telling me that this is a small corpus, so I can make it a dataframe and check it out. "
   ]
  },
  {
   "cell_type": "code",
   "execution_count": 104,
   "id": "1ff5ce15-be7a-4e15-909a-78c6a16902e8",
   "metadata": {},
   "outputs": [
    {
     "data": {
      "text/html": [
       "<div>\n",
       "<style scoped>\n",
       "    .dataframe tbody tr th:only-of-type {\n",
       "        vertical-align: middle;\n",
       "    }\n",
       "\n",
       "    .dataframe tbody tr th {\n",
       "        vertical-align: top;\n",
       "    }\n",
       "\n",
       "    .dataframe thead th {\n",
       "        text-align: right;\n",
       "    }\n",
       "</style>\n",
       "<table border=\"1\" class=\"dataframe\">\n",
       "  <thead>\n",
       "    <tr style=\"text-align: right;\">\n",
       "      <th></th>\n",
       "      <th>100</th>\n",
       "      <th>101</th>\n",
       "      <th>102</th>\n",
       "      <th>103</th>\n",
       "      <th>104</th>\n",
       "      <th>105</th>\n",
       "      <th>106</th>\n",
       "      <th>107</th>\n",
       "      <th>108</th>\n",
       "      <th>109</th>\n",
       "      <th>110</th>\n",
       "      <th>111</th>\n",
       "      <th>112</th>\n",
       "      <th>113</th>\n",
       "      <th>114</th>\n",
       "    </tr>\n",
       "  </thead>\n",
       "  <tbody>\n",
       "    <tr>\n",
       "      <th>0</th>\n",
       "      <td>0</td>\n",
       "      <td>0</td>\n",
       "      <td>0</td>\n",
       "      <td>0</td>\n",
       "      <td>0</td>\n",
       "      <td>0</td>\n",
       "      <td>0</td>\n",
       "      <td>0</td>\n",
       "      <td>0</td>\n",
       "      <td>2</td>\n",
       "      <td>0</td>\n",
       "      <td>0</td>\n",
       "      <td>0</td>\n",
       "      <td>0</td>\n",
       "      <td>0</td>\n",
       "    </tr>\n",
       "    <tr>\n",
       "      <th>1</th>\n",
       "      <td>0</td>\n",
       "      <td>0</td>\n",
       "      <td>0</td>\n",
       "      <td>0</td>\n",
       "      <td>0</td>\n",
       "      <td>0</td>\n",
       "      <td>0</td>\n",
       "      <td>0</td>\n",
       "      <td>0</td>\n",
       "      <td>0</td>\n",
       "      <td>0</td>\n",
       "      <td>0</td>\n",
       "      <td>0</td>\n",
       "      <td>0</td>\n",
       "      <td>0</td>\n",
       "    </tr>\n",
       "    <tr>\n",
       "      <th>2</th>\n",
       "      <td>0</td>\n",
       "      <td>0</td>\n",
       "      <td>0</td>\n",
       "      <td>0</td>\n",
       "      <td>0</td>\n",
       "      <td>0</td>\n",
       "      <td>0</td>\n",
       "      <td>0</td>\n",
       "      <td>0</td>\n",
       "      <td>0</td>\n",
       "      <td>0</td>\n",
       "      <td>0</td>\n",
       "      <td>0</td>\n",
       "      <td>0</td>\n",
       "      <td>0</td>\n",
       "    </tr>\n",
       "    <tr>\n",
       "      <th>3</th>\n",
       "      <td>0</td>\n",
       "      <td>0</td>\n",
       "      <td>0</td>\n",
       "      <td>0</td>\n",
       "      <td>1</td>\n",
       "      <td>0</td>\n",
       "      <td>0</td>\n",
       "      <td>0</td>\n",
       "      <td>0</td>\n",
       "      <td>0</td>\n",
       "      <td>0</td>\n",
       "      <td>0</td>\n",
       "      <td>0</td>\n",
       "      <td>0</td>\n",
       "      <td>0</td>\n",
       "    </tr>\n",
       "    <tr>\n",
       "      <th>4</th>\n",
       "      <td>0</td>\n",
       "      <td>0</td>\n",
       "      <td>0</td>\n",
       "      <td>0</td>\n",
       "      <td>0</td>\n",
       "      <td>0</td>\n",
       "      <td>0</td>\n",
       "      <td>0</td>\n",
       "      <td>0</td>\n",
       "      <td>0</td>\n",
       "      <td>0</td>\n",
       "      <td>0</td>\n",
       "      <td>0</td>\n",
       "      <td>0</td>\n",
       "      <td>0</td>\n",
       "    </tr>\n",
       "  </tbody>\n",
       "</table>\n",
       "</div>"
      ],
      "text/plain": [
       "   100  101  102  103  104  105  106  107  108  109  110  111  112  113  114\n",
       "0    0    0    0    0    0    0    0    0    0    2    0    0    0    0    0\n",
       "1    0    0    0    0    0    0    0    0    0    0    0    0    0    0    0\n",
       "2    0    0    0    0    0    0    0    0    0    0    0    0    0    0    0\n",
       "3    0    0    0    0    1    0    0    0    0    0    0    0    0    0    0\n",
       "4    0    0    0    0    0    0    0    0    0    0    0    0    0    0    0"
      ]
     },
     "execution_count": 104,
     "metadata": {},
     "output_type": "execute_result"
    }
   ],
   "source": [
    "dtm = pd.DataFrame(vectorized_corpus.toarray())\n",
    "dtm.iloc[:5, 100:115]"
   ]
  },
  {
   "cell_type": "markdown",
   "id": "1feae211-d89b-4228-995a-511e15ba6770",
   "metadata": {},
   "source": [
    "Even though this doesn't have useful information in the row and column names, it's really easy to add this on with the manifest and some methods attached to CountVectorizer()."
   ]
  },
  {
   "cell_type": "code",
   "execution_count": 105,
   "id": "d8694f34-1922-4005-af26-681d1792752e",
   "metadata": {},
   "outputs": [
    {
     "data": {
      "text/html": [
       "<div>\n",
       "<style scoped>\n",
       "    .dataframe tbody tr th:only-of-type {\n",
       "        vertical-align: middle;\n",
       "    }\n",
       "\n",
       "    .dataframe tbody tr th {\n",
       "        vertical-align: top;\n",
       "    }\n",
       "\n",
       "    .dataframe thead th {\n",
       "        text-align: right;\n",
       "    }\n",
       "</style>\n",
       "<table border=\"1\" class=\"dataframe\">\n",
       "  <thead>\n",
       "    <tr style=\"text-align: right;\">\n",
       "      <th></th>\n",
       "      <th>absorb</th>\n",
       "      <th>absorbed</th>\n",
       "      <th>absorption</th>\n",
       "      <th>abstain</th>\n",
       "      <th>abstemious</th>\n",
       "      <th>abstemiousness</th>\n",
       "      <th>abstention</th>\n",
       "      <th>abstinence</th>\n",
       "      <th>abstinent</th>\n",
       "      <th>abstract</th>\n",
       "      <th>abstraction</th>\n",
       "      <th>abstractions</th>\n",
       "      <th>abstracts</th>\n",
       "      <th>abstruse</th>\n",
       "      <th>absurd</th>\n",
       "    </tr>\n",
       "    <tr>\n",
       "      <th>NAME</th>\n",
       "      <th></th>\n",
       "      <th></th>\n",
       "      <th></th>\n",
       "      <th></th>\n",
       "      <th></th>\n",
       "      <th></th>\n",
       "      <th></th>\n",
       "      <th></th>\n",
       "      <th></th>\n",
       "      <th></th>\n",
       "      <th></th>\n",
       "      <th></th>\n",
       "      <th></th>\n",
       "      <th></th>\n",
       "      <th></th>\n",
       "    </tr>\n",
       "  </thead>\n",
       "  <tbody>\n",
       "    <tr>\n",
       "      <th>Ada Lovelace</th>\n",
       "      <td>0</td>\n",
       "      <td>0</td>\n",
       "      <td>0</td>\n",
       "      <td>0</td>\n",
       "      <td>0</td>\n",
       "      <td>0</td>\n",
       "      <td>0</td>\n",
       "      <td>0</td>\n",
       "      <td>0</td>\n",
       "      <td>2</td>\n",
       "      <td>0</td>\n",
       "      <td>0</td>\n",
       "      <td>0</td>\n",
       "      <td>0</td>\n",
       "      <td>0</td>\n",
       "    </tr>\n",
       "    <tr>\n",
       "      <th>Robert E Lee</th>\n",
       "      <td>0</td>\n",
       "      <td>0</td>\n",
       "      <td>0</td>\n",
       "      <td>0</td>\n",
       "      <td>0</td>\n",
       "      <td>0</td>\n",
       "      <td>0</td>\n",
       "      <td>0</td>\n",
       "      <td>0</td>\n",
       "      <td>0</td>\n",
       "      <td>0</td>\n",
       "      <td>0</td>\n",
       "      <td>0</td>\n",
       "      <td>0</td>\n",
       "      <td>0</td>\n",
       "    </tr>\n",
       "    <tr>\n",
       "      <th>Andrew Johnson</th>\n",
       "      <td>0</td>\n",
       "      <td>0</td>\n",
       "      <td>0</td>\n",
       "      <td>0</td>\n",
       "      <td>0</td>\n",
       "      <td>0</td>\n",
       "      <td>0</td>\n",
       "      <td>0</td>\n",
       "      <td>0</td>\n",
       "      <td>0</td>\n",
       "      <td>0</td>\n",
       "      <td>0</td>\n",
       "      <td>0</td>\n",
       "      <td>0</td>\n",
       "      <td>0</td>\n",
       "    </tr>\n",
       "    <tr>\n",
       "      <th>Bedford Forrest</th>\n",
       "      <td>0</td>\n",
       "      <td>0</td>\n",
       "      <td>0</td>\n",
       "      <td>0</td>\n",
       "      <td>1</td>\n",
       "      <td>0</td>\n",
       "      <td>0</td>\n",
       "      <td>0</td>\n",
       "      <td>0</td>\n",
       "      <td>0</td>\n",
       "      <td>0</td>\n",
       "      <td>0</td>\n",
       "      <td>0</td>\n",
       "      <td>0</td>\n",
       "      <td>0</td>\n",
       "    </tr>\n",
       "    <tr>\n",
       "      <th>Lucretia Mott</th>\n",
       "      <td>0</td>\n",
       "      <td>0</td>\n",
       "      <td>0</td>\n",
       "      <td>0</td>\n",
       "      <td>0</td>\n",
       "      <td>0</td>\n",
       "      <td>0</td>\n",
       "      <td>0</td>\n",
       "      <td>0</td>\n",
       "      <td>0</td>\n",
       "      <td>0</td>\n",
       "      <td>0</td>\n",
       "      <td>0</td>\n",
       "      <td>0</td>\n",
       "      <td>0</td>\n",
       "    </tr>\n",
       "  </tbody>\n",
       "</table>\n",
       "</div>"
      ],
      "text/plain": [
       "                 absorb  absorbed  absorption  abstain  abstemious  \\\n",
       "NAME                                                                 \n",
       "Ada Lovelace          0         0           0        0           0   \n",
       "Robert E Lee          0         0           0        0           0   \n",
       "Andrew Johnson        0         0           0        0           0   \n",
       "Bedford Forrest       0         0           0        0           1   \n",
       "Lucretia Mott         0         0           0        0           0   \n",
       "\n",
       "                 abstemiousness  abstention  abstinence  abstinent  abstract  \\\n",
       "NAME                                                                           \n",
       "Ada Lovelace                  0           0           0          0         2   \n",
       "Robert E Lee                  0           0           0          0         0   \n",
       "Andrew Johnson                0           0           0          0         0   \n",
       "Bedford Forrest               0           0           0          0         0   \n",
       "Lucretia Mott                 0           0           0          0         0   \n",
       "\n",
       "                 abstraction  abstractions  abstracts  abstruse  absurd  \n",
       "NAME                                                                     \n",
       "Ada Lovelace               0             0          0         0       0  \n",
       "Robert E Lee               0             0          0         0       0  \n",
       "Andrew Johnson             0             0          0         0       0  \n",
       "Bedford Forrest            0             0          0         0       0  \n",
       "Lucretia Mott              0             0          0         0       0  "
      ]
     },
     "execution_count": 105,
     "metadata": {},
     "output_type": "execute_result"
    }
   ],
   "source": [
    "dtm.columns = count_vectorizer.get_feature_names_out()\n",
    "dtm.index = manifest['NAME']\n",
    "dtm.iloc[:5, 100:115]"
   ]
  },
  {
   "cell_type": "markdown",
   "id": "4e4d114d-b4c5-4ae9-aa18-ec7a7be31110",
   "metadata": {},
   "source": [
    "### With a nice representation of the corpus, I can analyze it now\n",
    "First, I will count the number of tokens in each text, and assign the result to the manifest data. "
   ]
  },
  {
   "cell_type": "code",
   "execution_count": 106,
   "id": "fd536c8c-2dce-4c86-87eb-89370957f415",
   "metadata": {},
   "outputs": [
    {
     "data": {
      "text/html": [
       "<div>\n",
       "<style scoped>\n",
       "    .dataframe tbody tr th:only-of-type {\n",
       "        vertical-align: middle;\n",
       "    }\n",
       "\n",
       "    .dataframe tbody tr th {\n",
       "        vertical-align: top;\n",
       "    }\n",
       "\n",
       "    .dataframe thead th {\n",
       "        text-align: right;\n",
       "    }\n",
       "</style>\n",
       "<table border=\"1\" class=\"dataframe\">\n",
       "  <thead>\n",
       "    <tr style=\"text-align: right;\">\n",
       "      <th></th>\n",
       "      <th>NAME</th>\n",
       "      <th>YEAR</th>\n",
       "      <th>FILE_NAME</th>\n",
       "      <th>num_tokens</th>\n",
       "    </tr>\n",
       "  </thead>\n",
       "  <tbody>\n",
       "    <tr>\n",
       "      <th>0</th>\n",
       "      <td>Ada Lovelace</td>\n",
       "      <td>1852</td>\n",
       "      <td>000.txt</td>\n",
       "      <td>502</td>\n",
       "    </tr>\n",
       "    <tr>\n",
       "      <th>1</th>\n",
       "      <td>Robert E Lee</td>\n",
       "      <td>1870</td>\n",
       "      <td>001.txt</td>\n",
       "      <td>638</td>\n",
       "    </tr>\n",
       "    <tr>\n",
       "      <th>2</th>\n",
       "      <td>Andrew Johnson</td>\n",
       "      <td>1875</td>\n",
       "      <td>002.txt</td>\n",
       "      <td>1405</td>\n",
       "    </tr>\n",
       "    <tr>\n",
       "      <th>3</th>\n",
       "      <td>Bedford Forrest</td>\n",
       "      <td>1877</td>\n",
       "      <td>003.txt</td>\n",
       "      <td>1038</td>\n",
       "    </tr>\n",
       "    <tr>\n",
       "      <th>4</th>\n",
       "      <td>Lucretia Mott</td>\n",
       "      <td>1880</td>\n",
       "      <td>004.txt</td>\n",
       "      <td>150</td>\n",
       "    </tr>\n",
       "    <tr>\n",
       "      <th>5</th>\n",
       "      <td>Charles Darwin</td>\n",
       "      <td>1882</td>\n",
       "      <td>005.txt</td>\n",
       "      <td>915</td>\n",
       "    </tr>\n",
       "    <tr>\n",
       "      <th>6</th>\n",
       "      <td>Ulysses Grant</td>\n",
       "      <td>1885</td>\n",
       "      <td>006.txt</td>\n",
       "      <td>17550</td>\n",
       "    </tr>\n",
       "    <tr>\n",
       "      <th>7</th>\n",
       "      <td>Mary Ewing Outerbridge</td>\n",
       "      <td>1886</td>\n",
       "      <td>007.txt</td>\n",
       "      <td>443</td>\n",
       "    </tr>\n",
       "    <tr>\n",
       "      <th>8</th>\n",
       "      <td>Emma Lazarus</td>\n",
       "      <td>1887</td>\n",
       "      <td>008.txt</td>\n",
       "      <td>396</td>\n",
       "    </tr>\n",
       "    <tr>\n",
       "      <th>9</th>\n",
       "      <td>Louisa M Alcott</td>\n",
       "      <td>1888</td>\n",
       "      <td>009.txt</td>\n",
       "      <td>503</td>\n",
       "    </tr>\n",
       "  </tbody>\n",
       "</table>\n",
       "</div>"
      ],
      "text/plain": [
       "                     NAME  YEAR FILE_NAME  num_tokens\n",
       "0            Ada Lovelace  1852   000.txt         502\n",
       "1            Robert E Lee  1870   001.txt         638\n",
       "2          Andrew Johnson  1875   002.txt        1405\n",
       "3         Bedford Forrest  1877   003.txt        1038\n",
       "4           Lucretia Mott  1880   004.txt         150\n",
       "5          Charles Darwin  1882   005.txt         915\n",
       "6           Ulysses Grant  1885   006.txt       17550\n",
       "7  Mary Ewing Outerbridge  1886   007.txt         443\n",
       "8            Emma Lazarus  1887   008.txt         396\n",
       "9         Louisa M Alcott  1888   009.txt         503"
      ]
     },
     "execution_count": 106,
     "metadata": {},
     "output_type": "execute_result"
    }
   ],
   "source": [
    "import numpy as np\n",
    "manifest['num_tokens'] = dtm.apply(sum, axis = 1).values #should give total word count except without any words removed, but not unique word count\n",
    "manifest.head(10)"
   ]
  },
  {
   "cell_type": "code",
   "execution_count": 107,
   "id": "2b6f0eb1-e4ba-411c-9661-38868f4fbe05",
   "metadata": {},
   "outputs": [
    {
     "data": {
      "text/html": [
       "<div>\n",
       "<style scoped>\n",
       "    .dataframe tbody tr th:only-of-type {\n",
       "        vertical-align: middle;\n",
       "    }\n",
       "\n",
       "    .dataframe tbody tr th {\n",
       "        vertical-align: top;\n",
       "    }\n",
       "\n",
       "    .dataframe thead th {\n",
       "        text-align: right;\n",
       "    }\n",
       "</style>\n",
       "<table border=\"1\" class=\"dataframe\">\n",
       "  <thead>\n",
       "    <tr style=\"text-align: right;\">\n",
       "      <th></th>\n",
       "      <th>NAME</th>\n",
       "      <th>YEAR</th>\n",
       "      <th>FILE_NAME</th>\n",
       "      <th>num_tokens</th>\n",
       "    </tr>\n",
       "  </thead>\n",
       "  <tbody>\n",
       "    <tr>\n",
       "      <th>0</th>\n",
       "      <td>Ulysses Grant</td>\n",
       "      <td>1885</td>\n",
       "      <td>006.txt</td>\n",
       "      <td>17550</td>\n",
       "    </tr>\n",
       "    <tr>\n",
       "      <th>1</th>\n",
       "      <td>Queen Victoria</td>\n",
       "      <td>1901</td>\n",
       "      <td>017.txt</td>\n",
       "      <td>7211</td>\n",
       "    </tr>\n",
       "    <tr>\n",
       "      <th>2</th>\n",
       "      <td>Adolph S Ochs</td>\n",
       "      <td>1935</td>\n",
       "      <td>068.txt</td>\n",
       "      <td>6441</td>\n",
       "    </tr>\n",
       "    <tr>\n",
       "      <th>3</th>\n",
       "      <td>Adolf Hitler</td>\n",
       "      <td>1945</td>\n",
       "      <td>097.txt</td>\n",
       "      <td>6330</td>\n",
       "    </tr>\n",
       "    <tr>\n",
       "      <th>4</th>\n",
       "      <td>Mao Tse Tung</td>\n",
       "      <td>1976</td>\n",
       "      <td>242.txt</td>\n",
       "      <td>5849</td>\n",
       "    </tr>\n",
       "    <tr>\n",
       "      <th>5</th>\n",
       "      <td>Harry S Truman</td>\n",
       "      <td>1945</td>\n",
       "      <td>093.txt</td>\n",
       "      <td>4904</td>\n",
       "    </tr>\n",
       "    <tr>\n",
       "      <th>6</th>\n",
       "      <td>Pablo Picasso</td>\n",
       "      <td>1973</td>\n",
       "      <td>228.txt</td>\n",
       "      <td>3718</td>\n",
       "    </tr>\n",
       "    <tr>\n",
       "      <th>7</th>\n",
       "      <td>Indira Gandhi</td>\n",
       "      <td>1984</td>\n",
       "      <td>282.txt</td>\n",
       "      <td>3467</td>\n",
       "    </tr>\n",
       "    <tr>\n",
       "      <th>8</th>\n",
       "      <td>Richard Nixon</td>\n",
       "      <td>1994</td>\n",
       "      <td>345.txt</td>\n",
       "      <td>3459</td>\n",
       "    </tr>\n",
       "    <tr>\n",
       "      <th>9</th>\n",
       "      <td>Joseph Pulitzer</td>\n",
       "      <td>1911</td>\n",
       "      <td>030.txt</td>\n",
       "      <td>3407</td>\n",
       "    </tr>\n",
       "  </tbody>\n",
       "</table>\n",
       "</div>"
      ],
      "text/plain": [
       "              NAME  YEAR FILE_NAME  num_tokens\n",
       "0    Ulysses Grant  1885   006.txt       17550\n",
       "1   Queen Victoria  1901   017.txt        7211\n",
       "2    Adolph S Ochs  1935   068.txt        6441\n",
       "3     Adolf Hitler  1945   097.txt        6330\n",
       "4     Mao Tse Tung  1976   242.txt        5849\n",
       "5   Harry S Truman  1945   093.txt        4904\n",
       "6    Pablo Picasso  1973   228.txt        3718\n",
       "7    Indira Gandhi  1984   282.txt        3467\n",
       "8    Richard Nixon  1994   345.txt        3459\n",
       "9  Joseph Pulitzer  1911   030.txt        3407"
      ]
     },
     "execution_count": 107,
     "metadata": {},
     "output_type": "execute_result"
    }
   ],
   "source": [
    "manifest_plotter = manifest.sort_values('num_tokens', ascending = False).reset_index(drop = True)\n",
    "manifest_plotter.head(10)"
   ]
  },
  {
   "cell_type": "code",
   "execution_count": 110,
   "id": "321d86b2-9b5a-4648-bda0-792deae0c224",
   "metadata": {},
   "outputs": [
    {
     "data": {
      "image/png": "[encoded data removed]",
      "text/plain": [
       "<Figure size 1080x360 with 1 Axes>"
      ]
     },
     "metadata": {
      "needs_background": "light"
     },
     "output_type": "display_data"
    }
   ],
   "source": [
    "ax = manifest_plotter.plot.bar(figsize = (15,5), y = 'num_tokens', legend = False, xticks = manifest_plotter[::15].index)\n",
    "ax.set_xticklabels(manifest_plotter[::15]['NAME']);"
   ]
  },
  {
   "cell_type": "markdown",
   "id": "251484bc-a798-41bc-9d9a-6b16fb587e2c",
   "metadata": {},
   "source": [
    "The `;` after `ax.set_xticklabels...` is there to suppress any print output from this command, like there'd be some lines of print output above the plot normally, but it's been removed. \n",
    "\n",
    "Unique words are also called types, so counting unique words can be said like counting types. Anyways that's the next step. "
   ]
  },
  {
   "cell_type": "code",
   "execution_count": 112,
   "id": "b0f292c2-c449-41aa-8604-a5151f8adaa5",
   "metadata": {},
   "outputs": [
    {
     "data": {
      "text/html": [
       "<div>\n",
       "<style scoped>\n",
       "    .dataframe tbody tr th:only-of-type {\n",
       "        vertical-align: middle;\n",
       "    }\n",
       "\n",
       "    .dataframe tbody tr th {\n",
       "        vertical-align: top;\n",
       "    }\n",
       "\n",
       "    .dataframe thead th {\n",
       "        text-align: right;\n",
       "    }\n",
       "</style>\n",
       "<table border=\"1\" class=\"dataframe\">\n",
       "  <thead>\n",
       "    <tr style=\"text-align: right;\">\n",
       "      <th></th>\n",
       "      <th>NAME</th>\n",
       "      <th>YEAR</th>\n",
       "      <th>FILE_NAME</th>\n",
       "      <th>num_tokens</th>\n",
       "      <th>num_types</th>\n",
       "    </tr>\n",
       "  </thead>\n",
       "  <tbody>\n",
       "    <tr>\n",
       "      <th>0</th>\n",
       "      <td>Ada Lovelace</td>\n",
       "      <td>1852</td>\n",
       "      <td>000.txt</td>\n",
       "      <td>502</td>\n",
       "      <td>340</td>\n",
       "    </tr>\n",
       "    <tr>\n",
       "      <th>1</th>\n",
       "      <td>Robert E Lee</td>\n",
       "      <td>1870</td>\n",
       "      <td>001.txt</td>\n",
       "      <td>638</td>\n",
       "      <td>427</td>\n",
       "    </tr>\n",
       "    <tr>\n",
       "      <th>2</th>\n",
       "      <td>Andrew Johnson</td>\n",
       "      <td>1875</td>\n",
       "      <td>002.txt</td>\n",
       "      <td>1405</td>\n",
       "      <td>806</td>\n",
       "    </tr>\n",
       "    <tr>\n",
       "      <th>3</th>\n",
       "      <td>Bedford Forrest</td>\n",
       "      <td>1877</td>\n",
       "      <td>003.txt</td>\n",
       "      <td>1038</td>\n",
       "      <td>633</td>\n",
       "    </tr>\n",
       "    <tr>\n",
       "      <th>4</th>\n",
       "      <td>Lucretia Mott</td>\n",
       "      <td>1880</td>\n",
       "      <td>004.txt</td>\n",
       "      <td>150</td>\n",
       "      <td>113</td>\n",
       "    </tr>\n",
       "    <tr>\n",
       "      <th>5</th>\n",
       "      <td>Charles Darwin</td>\n",
       "      <td>1882</td>\n",
       "      <td>005.txt</td>\n",
       "      <td>915</td>\n",
       "      <td>614</td>\n",
       "    </tr>\n",
       "    <tr>\n",
       "      <th>6</th>\n",
       "      <td>Ulysses Grant</td>\n",
       "      <td>1885</td>\n",
       "      <td>006.txt</td>\n",
       "      <td>17550</td>\n",
       "      <td>4441</td>\n",
       "    </tr>\n",
       "    <tr>\n",
       "      <th>7</th>\n",
       "      <td>Mary Ewing Outerbridge</td>\n",
       "      <td>1886</td>\n",
       "      <td>007.txt</td>\n",
       "      <td>443</td>\n",
       "      <td>288</td>\n",
       "    </tr>\n",
       "    <tr>\n",
       "      <th>8</th>\n",
       "      <td>Emma Lazarus</td>\n",
       "      <td>1887</td>\n",
       "      <td>008.txt</td>\n",
       "      <td>396</td>\n",
       "      <td>324</td>\n",
       "    </tr>\n",
       "    <tr>\n",
       "      <th>9</th>\n",
       "      <td>Louisa M Alcott</td>\n",
       "      <td>1888</td>\n",
       "      <td>009.txt</td>\n",
       "      <td>503</td>\n",
       "      <td>350</td>\n",
       "    </tr>\n",
       "  </tbody>\n",
       "</table>\n",
       "</div>"
      ],
      "text/plain": [
       "                     NAME  YEAR FILE_NAME  num_tokens  num_types\n",
       "0            Ada Lovelace  1852   000.txt         502        340\n",
       "1            Robert E Lee  1870   001.txt         638        427\n",
       "2          Andrew Johnson  1875   002.txt        1405        806\n",
       "3         Bedford Forrest  1877   003.txt        1038        633\n",
       "4           Lucretia Mott  1880   004.txt         150        113\n",
       "5          Charles Darwin  1882   005.txt         915        614\n",
       "6           Ulysses Grant  1885   006.txt       17550       4441\n",
       "7  Mary Ewing Outerbridge  1886   007.txt         443        288\n",
       "8            Emma Lazarus  1887   008.txt         396        324\n",
       "9         Louisa M Alcott  1888   009.txt         503        350"
      ]
     },
     "execution_count": 112,
     "metadata": {},
     "output_type": "execute_result"
    }
   ],
   "source": [
    "manifest['num_types'] = dtm.apply(np.count_nonzero, axis = 1).values #should give total word count except without any words removed, but not unique word count\n",
    "manifest.head(10)"
   ]
  },
  {
   "cell_type": "markdown",
   "id": "95dc7aa3-9a38-4be1-a2b0-655a10175cd5",
   "metadata": {},
   "source": [
    "Alright so I got in my head a little on this, but the previous apply that used sum took a sum across the row, which meant I got out the total number of words in that row. This np.count_nonzero function counts the number of elements in this row that aren't 0, but doesn't sum them up. So for Ada Lovelace, her obit had 502 total words, but seems like only 340 were unique words and some were said multiple times in her obit.\n",
    "\n",
    "Now, I can measure lexical diversity, and I will be using type token ratio, TTR, which shows \"how much the vocabulary of a text varies over its tokens\". That's a really really really bad explanation. The metric is essentially number of unique words / number of total words, which gives me a measure of how many unique words there are relative to the total number of words in this text, which then tells me how many different words this text uses, or its lexical diversity. This is nearly impossible to find organically, but a text with TTR of 100 never repeats a word. "
   ]
  },
  {
   "cell_type": "code",
   "execution_count": 113,
   "id": "236af4d4-a877-46c0-8781-5703e721dfc5",
   "metadata": {},
   "outputs": [
    {
     "data": {
      "text/html": [
       "<div>\n",
       "<style scoped>\n",
       "    .dataframe tbody tr th:only-of-type {\n",
       "        vertical-align: middle;\n",
       "    }\n",
       "\n",
       "    .dataframe tbody tr th {\n",
       "        vertical-align: top;\n",
       "    }\n",
       "\n",
       "    .dataframe thead th {\n",
       "        text-align: right;\n",
       "    }\n",
       "</style>\n",
       "<table border=\"1\" class=\"dataframe\">\n",
       "  <thead>\n",
       "    <tr style=\"text-align: right;\">\n",
       "      <th></th>\n",
       "      <th>NAME</th>\n",
       "      <th>YEAR</th>\n",
       "      <th>FILE_NAME</th>\n",
       "      <th>num_tokens</th>\n",
       "      <th>num_types</th>\n",
       "      <th>TTR</th>\n",
       "    </tr>\n",
       "  </thead>\n",
       "  <tbody>\n",
       "    <tr>\n",
       "      <th>0</th>\n",
       "      <td>Ada Lovelace</td>\n",
       "      <td>1852</td>\n",
       "      <td>000.txt</td>\n",
       "      <td>502</td>\n",
       "      <td>340</td>\n",
       "      <td>67.729084</td>\n",
       "    </tr>\n",
       "    <tr>\n",
       "      <th>1</th>\n",
       "      <td>Robert E Lee</td>\n",
       "      <td>1870</td>\n",
       "      <td>001.txt</td>\n",
       "      <td>638</td>\n",
       "      <td>427</td>\n",
       "      <td>66.927900</td>\n",
       "    </tr>\n",
       "    <tr>\n",
       "      <th>2</th>\n",
       "      <td>Andrew Johnson</td>\n",
       "      <td>1875</td>\n",
       "      <td>002.txt</td>\n",
       "      <td>1405</td>\n",
       "      <td>806</td>\n",
       "      <td>57.366548</td>\n",
       "    </tr>\n",
       "    <tr>\n",
       "      <th>3</th>\n",
       "      <td>Bedford Forrest</td>\n",
       "      <td>1877</td>\n",
       "      <td>003.txt</td>\n",
       "      <td>1038</td>\n",
       "      <td>633</td>\n",
       "      <td>60.982659</td>\n",
       "    </tr>\n",
       "    <tr>\n",
       "      <th>4</th>\n",
       "      <td>Lucretia Mott</td>\n",
       "      <td>1880</td>\n",
       "      <td>004.txt</td>\n",
       "      <td>150</td>\n",
       "      <td>113</td>\n",
       "      <td>75.333333</td>\n",
       "    </tr>\n",
       "    <tr>\n",
       "      <th>5</th>\n",
       "      <td>Charles Darwin</td>\n",
       "      <td>1882</td>\n",
       "      <td>005.txt</td>\n",
       "      <td>915</td>\n",
       "      <td>614</td>\n",
       "      <td>67.103825</td>\n",
       "    </tr>\n",
       "    <tr>\n",
       "      <th>6</th>\n",
       "      <td>Ulysses Grant</td>\n",
       "      <td>1885</td>\n",
       "      <td>006.txt</td>\n",
       "      <td>17550</td>\n",
       "      <td>4441</td>\n",
       "      <td>25.304843</td>\n",
       "    </tr>\n",
       "    <tr>\n",
       "      <th>7</th>\n",
       "      <td>Mary Ewing Outerbridge</td>\n",
       "      <td>1886</td>\n",
       "      <td>007.txt</td>\n",
       "      <td>443</td>\n",
       "      <td>288</td>\n",
       "      <td>65.011287</td>\n",
       "    </tr>\n",
       "    <tr>\n",
       "      <th>8</th>\n",
       "      <td>Emma Lazarus</td>\n",
       "      <td>1887</td>\n",
       "      <td>008.txt</td>\n",
       "      <td>396</td>\n",
       "      <td>324</td>\n",
       "      <td>81.818182</td>\n",
       "    </tr>\n",
       "    <tr>\n",
       "      <th>9</th>\n",
       "      <td>Louisa M Alcott</td>\n",
       "      <td>1888</td>\n",
       "      <td>009.txt</td>\n",
       "      <td>503</td>\n",
       "      <td>350</td>\n",
       "      <td>69.582505</td>\n",
       "    </tr>\n",
       "  </tbody>\n",
       "</table>\n",
       "</div>"
      ],
      "text/plain": [
       "                     NAME  YEAR FILE_NAME  num_tokens  num_types        TTR\n",
       "0            Ada Lovelace  1852   000.txt         502        340  67.729084\n",
       "1            Robert E Lee  1870   001.txt         638        427  66.927900\n",
       "2          Andrew Johnson  1875   002.txt        1405        806  57.366548\n",
       "3         Bedford Forrest  1877   003.txt        1038        633  60.982659\n",
       "4           Lucretia Mott  1880   004.txt         150        113  75.333333\n",
       "5          Charles Darwin  1882   005.txt         915        614  67.103825\n",
       "6           Ulysses Grant  1885   006.txt       17550       4441  25.304843\n",
       "7  Mary Ewing Outerbridge  1886   007.txt         443        288  65.011287\n",
       "8            Emma Lazarus  1887   008.txt         396        324  81.818182\n",
       "9         Louisa M Alcott  1888   009.txt         503        350  69.582505"
      ]
     },
     "execution_count": 113,
     "metadata": {},
     "output_type": "execute_result"
    }
   ],
   "source": [
    "manifest['TTR'] = manifest['num_types']/manifest['num_tokens'] * 100\n",
    "manifest.head(10)"
   ]
  },
  {
   "cell_type": "code",
   "execution_count": 114,
   "id": "dc68c372-6075-4103-8311-3c8fd44a265e",
   "metadata": {},
   "outputs": [
    {
     "data": {
      "image/png": "[encoded data removed]",
      "text/plain": [
       "<Figure size 1080x360 with 1 Axes>"
      ]
     },
     "metadata": {
      "needs_background": "light"
     },
     "output_type": "display_data"
    }
   ],
   "source": [
    "manifest_plotter = manifest.sort_values('TTR', ascending = False).reset_index(drop = True)\n",
    "ax = manifest_plotter.plot.bar(figsize = (15,5), y = 'TTR', legend = False, xticks = manifest_plotter[::15].index)\n",
    "ax.set_xticklabels(manifest_plotter[::15]['NAME']);"
   ]
  },
  {
   "cell_type": "markdown",
   "id": "3d2ce0b2-2dff-45bb-a425-945ea56da80d",
   "metadata": {},
   "source": [
    "### The next set of metrics will look at term frequency"
   ]
  },
  {
   "cell_type": "code",
   "execution_count": 116,
   "id": "7edc6744-df81-43bf-b309-08a20e804287",
   "metadata": {},
   "outputs": [
    {
     "data": {
      "text/plain": [
       "aachen       3\n",
       "aahs         1\n",
       "aane         1\n",
       "aarau        1\n",
       "aaron       10\n",
       "            ..\n",
       "zula         2\n",
       "zululand     3\n",
       "zurich      31\n",
       "zvai         1\n",
       "zwilich      1\n",
       "Length: 32548, dtype: int64"
      ]
     },
     "execution_count": 116,
     "metadata": {},
     "output_type": "execute_result"
    }
   ],
   "source": [
    "dtm.sum() #gives me the number of times each term appeared in the corpus as a whole"
   ]
  },
  {
   "cell_type": "code",
   "execution_count": 118,
   "id": "a7b09571-b7fe-413f-a464-563e933f6dba",
   "metadata": {},
   "outputs": [
    {
     "data": {
      "text/plain": [
       "NAME\n",
       "Ada Lovelace           502\n",
       "Robert E Lee           638\n",
       "Andrew Johnson        1405\n",
       "Bedford Forrest       1038\n",
       "Lucretia Mott          150\n",
       "                      ... \n",
       "King Hussein          2617\n",
       "Pierre Trudeau        1574\n",
       "Elliot Richardson      668\n",
       "Charles M Schulz      2441\n",
       "Karen Sparck Jones     570\n",
       "Length: 379, dtype: int64"
      ]
     },
     "execution_count": 118,
     "metadata": {},
     "output_type": "execute_result"
    }
   ],
   "source": [
    "dtm.sum(axis = 1) #this wasn't part of the seminar but I just wanted to see it"
   ]
  },
  {
   "cell_type": "code",
   "execution_count": 119,
   "id": "a5bd8772-a8b0-4a5a-a357-7579f940267b",
   "metadata": {},
   "outputs": [
    {
     "data": {
      "text/plain": [
       "year         3657\n",
       "say          2630\n",
       "new          2350\n",
       "make         2234\n",
       "time         2153\n",
       "work         1739\n",
       "become       1641\n",
       "life         1556\n",
       "war          1505\n",
       "president    1503\n",
       "dtype: int64"
      ]
     },
     "execution_count": 119,
     "metadata": {},
     "output_type": "execute_result"
    }
   ],
   "source": [
    "dtm.sum().sort_values(ascending = False).head(10)"
   ]
  },
  {
   "cell_type": "code",
   "execution_count": 120,
   "id": "d71d3586-072b-4787-807d-15df696f8cbc",
   "metadata": {},
   "outputs": [
    {
     "data": {
      "text/plain": [
       "karol          1\n",
       "karp           1\n",
       "karrafa        1\n",
       "kars           1\n",
       "kashevaroff    1\n",
       "kasino         1\n",
       "kassarjian     1\n",
       "kasserine      1\n",
       "kathiawar      1\n",
       "zwilich        1\n",
       "dtype: int64"
      ]
     },
     "execution_count": 120,
     "metadata": {},
     "output_type": "execute_result"
    }
   ],
   "source": [
    "dtm.sum().sort_values(ascending = False).tail(10)"
   ]
  },
  {
   "cell_type": "markdown",
   "id": "caec1105-b8c2-4812-82e9-8eea4798bdfe",
   "metadata": {},
   "source": [
    "Theres a word for terms that are only said once, and this seminar doesn't hesitate to tell me that htey can speak multiple languages because it's called hapax legomenon and it's told to me like something important that everyone in the industry knows about. "
   ]
  },
  {
   "cell_type": "code",
   "execution_count": 122,
   "id": "ef33357d-b924-4c6c-a87f-313d11f3e713",
   "metadata": {},
   "outputs": [
    {
     "name": "stdout",
     "output_type": "stream",
     "text": [
      "13004 exist in this corpus\n",
      "Which is  0.3995329974191963 of the words in the corpus\n"
     ]
    }
   ],
   "source": [
    "hapaxes = dtm.sum()[dtm.sum() == 1]\n",
    "print(f\"{len(hapaxes)} exist in this corpus\")\n",
    "print(\"Which is \", len(hapaxes)/len(dtm.T), \"of the words in the corpus\")"
   ]
  },
  {
   "cell_type": "code",
   "execution_count": 123,
   "id": "952d632d-f00d-4011-9224-68920533c5d6",
   "metadata": {},
   "outputs": [
    {
     "data": {
      "text/plain": [
       "53.0"
      ]
     },
     "execution_count": 123,
     "metadata": {},
     "output_type": "execute_result"
    }
   ],
   "source": [
    "dtm.sum().quantile(.95)"
   ]
  },
  {
   "cell_type": "markdown",
   "id": "3e26baaa-dcfc-44d5-beb2-7068ad207c0a",
   "metadata": {},
   "source": [
    "This last command tells me what the 95th quantile of the `dtm.sum()` command is, which tells me that this is the value of 53, meaning that words that occur more than 53 times in the entire corpus are above the 95th quantile. "
   ]
  },
  {
   "cell_type": "code",
   "execution_count": 124,
   "id": "9ee7fb8c-af20-4f17-893a-b39191c9029d",
   "metadata": {},
   "outputs": [
    {
     "data": {
      "text/plain": [
       "1611"
      ]
     },
     "execution_count": 124,
     "metadata": {},
     "output_type": "execute_result"
    }
   ],
   "source": [
    "len(dtm.sum()[dtm.sum() > 53.0])"
   ]
  },
  {
   "cell_type": "markdown",
   "id": "29fa7cca-1e58-4a40-a18c-2d63a97c3a1d",
   "metadata": {},
   "source": [
    "Now THIS tells me how many unique words are above the 95th quantile. "
   ]
  },
  {
   "cell_type": "code",
   "execution_count": 125,
   "id": "10687ccf-0716-43ff-83a3-1e8e275b4e31",
   "metadata": {},
   "outputs": [
    {
     "data": {
      "text/plain": [
       "<AxesSubplot:>"
      ]
     },
     "execution_count": 125,
     "metadata": {},
     "output_type": "execute_result"
    },
    {
     "data": {
      "image/png": "[encoded data removed]",
      "text/plain": [
       "<Figure size 1080x720 with 1 Axes>"
      ]
     },
     "metadata": {
      "needs_background": "light"
     },
     "output_type": "display_data"
    }
   ],
   "source": [
    "dtm.sum().sort_values(ascending = False).plot(figsize = (15,10))"
   ]
  },
  {
   "cell_type": "markdown",
   "id": "b047232d-2858-4ab1-bc08-5a8b3e92418d",
   "metadata": {},
   "source": [
    "This looks like a plot from before and apparently it's something called a Zipfian distribution which stems from [Zipf's Law](https://en.wikipedia.org/wiki/Zipf%27s_law) **NOTE** and this really began being applied in computational linguistics so that's cool. \n",
    "\n",
    "The problem I am facing here is that there are some words that are over represented maybe? But I don't necessarily want to remove year, because that might be important to an obit's meaning. So what I want to find is a metric that controls for the increased frequency of very common words instead of just regular frequency, because as I have established, regular frequency results in skewed data that overepresents a few words as having more of an impact or play in the corpus than they might actually.\n",
    "\n",
    "The answer is to weight scores with tf-idf scores. Even typing idf is tiring it's **FREE PALESTINE** until death baby. This stands for term frequency inverse document frequency, which is a score that has the term frequency and then the inverse (or 1/...) document frequency. The name document frequency could give me more, but it means how many documents the term appears within. By including the inverse document frequency part, terms that are very frequent in a document have their score reduced proportional to how many other documents this term appears in. What this means is that the tf-idf score tells me how important each term is to the meaning of the document. "
   ]
  },
  {
   "cell_type": "code",
   "execution_count": 126,
   "id": "da3a19e5-2468-4c6d-b3a2-2d55c3e50dad",
   "metadata": {},
   "outputs": [
    {
     "data": {
      "text/plain": [
       "<379x32548 sparse matrix of type '<class 'numpy.float64'>'\n",
       "\twith 252160 stored elements in Compressed Sparse Row format>"
      ]
     },
     "execution_count": 126,
     "metadata": {},
     "output_type": "execute_result"
    }
   ],
   "source": [
    "from sklearn.feature_extraction.text import TfidfVectorizer\n",
    "tfidf_vectorizer = TfidfVectorizer()\n",
    "vectorized_with_tfidf = tfidf_vectorizer.fit_transform(corpus)\n",
    "vectorized_with_tfidf"
   ]
  },
  {
   "cell_type": "code",
   "execution_count": 127,
   "id": "d95a504f-bf9f-4e5e-a9d4-6b1c06f50bd6",
   "metadata": {},
   "outputs": [
    {
     "data": {
      "text/html": [
       "<div>\n",
       "<style scoped>\n",
       "    .dataframe tbody tr th:only-of-type {\n",
       "        vertical-align: middle;\n",
       "    }\n",
       "\n",
       "    .dataframe tbody tr th {\n",
       "        vertical-align: top;\n",
       "    }\n",
       "\n",
       "    .dataframe thead th {\n",
       "        text-align: right;\n",
       "    }\n",
       "</style>\n",
       "<table border=\"1\" class=\"dataframe\">\n",
       "  <thead>\n",
       "    <tr style=\"text-align: right;\">\n",
       "      <th></th>\n",
       "      <th>absorb</th>\n",
       "      <th>absorbed</th>\n",
       "      <th>absorption</th>\n",
       "      <th>abstain</th>\n",
       "      <th>abstemious</th>\n",
       "      <th>abstemiousness</th>\n",
       "      <th>abstention</th>\n",
       "      <th>abstinence</th>\n",
       "      <th>abstinent</th>\n",
       "      <th>abstract</th>\n",
       "      <th>abstraction</th>\n",
       "      <th>abstractions</th>\n",
       "      <th>abstracts</th>\n",
       "      <th>abstruse</th>\n",
       "      <th>absurd</th>\n",
       "    </tr>\n",
       "    <tr>\n",
       "      <th>NAME</th>\n",
       "      <th></th>\n",
       "      <th></th>\n",
       "      <th></th>\n",
       "      <th></th>\n",
       "      <th></th>\n",
       "      <th></th>\n",
       "      <th></th>\n",
       "      <th></th>\n",
       "      <th></th>\n",
       "      <th></th>\n",
       "      <th></th>\n",
       "      <th></th>\n",
       "      <th></th>\n",
       "      <th></th>\n",
       "      <th></th>\n",
       "    </tr>\n",
       "  </thead>\n",
       "  <tbody>\n",
       "    <tr>\n",
       "      <th>Ada Lovelace</th>\n",
       "      <td>0.0</td>\n",
       "      <td>0.0</td>\n",
       "      <td>0.0</td>\n",
       "      <td>0.0</td>\n",
       "      <td>0.000000</td>\n",
       "      <td>0.0</td>\n",
       "      <td>0.0</td>\n",
       "      <td>0.0</td>\n",
       "      <td>0.0</td>\n",
       "      <td>0.055834</td>\n",
       "      <td>0.0</td>\n",
       "      <td>0.0</td>\n",
       "      <td>0.0</td>\n",
       "      <td>0.0</td>\n",
       "      <td>0.0</td>\n",
       "    </tr>\n",
       "    <tr>\n",
       "      <th>Robert E Lee</th>\n",
       "      <td>0.0</td>\n",
       "      <td>0.0</td>\n",
       "      <td>0.0</td>\n",
       "      <td>0.0</td>\n",
       "      <td>0.000000</td>\n",
       "      <td>0.0</td>\n",
       "      <td>0.0</td>\n",
       "      <td>0.0</td>\n",
       "      <td>0.0</td>\n",
       "      <td>0.000000</td>\n",
       "      <td>0.0</td>\n",
       "      <td>0.0</td>\n",
       "      <td>0.0</td>\n",
       "      <td>0.0</td>\n",
       "      <td>0.0</td>\n",
       "    </tr>\n",
       "    <tr>\n",
       "      <th>Andrew Johnson</th>\n",
       "      <td>0.0</td>\n",
       "      <td>0.0</td>\n",
       "      <td>0.0</td>\n",
       "      <td>0.0</td>\n",
       "      <td>0.000000</td>\n",
       "      <td>0.0</td>\n",
       "      <td>0.0</td>\n",
       "      <td>0.0</td>\n",
       "      <td>0.0</td>\n",
       "      <td>0.000000</td>\n",
       "      <td>0.0</td>\n",
       "      <td>0.0</td>\n",
       "      <td>0.0</td>\n",
       "      <td>0.0</td>\n",
       "      <td>0.0</td>\n",
       "    </tr>\n",
       "    <tr>\n",
       "      <th>Bedford Forrest</th>\n",
       "      <td>0.0</td>\n",
       "      <td>0.0</td>\n",
       "      <td>0.0</td>\n",
       "      <td>0.0</td>\n",
       "      <td>0.023602</td>\n",
       "      <td>0.0</td>\n",
       "      <td>0.0</td>\n",
       "      <td>0.0</td>\n",
       "      <td>0.0</td>\n",
       "      <td>0.000000</td>\n",
       "      <td>0.0</td>\n",
       "      <td>0.0</td>\n",
       "      <td>0.0</td>\n",
       "      <td>0.0</td>\n",
       "      <td>0.0</td>\n",
       "    </tr>\n",
       "    <tr>\n",
       "      <th>Lucretia Mott</th>\n",
       "      <td>0.0</td>\n",
       "      <td>0.0</td>\n",
       "      <td>0.0</td>\n",
       "      <td>0.0</td>\n",
       "      <td>0.000000</td>\n",
       "      <td>0.0</td>\n",
       "      <td>0.0</td>\n",
       "      <td>0.0</td>\n",
       "      <td>0.0</td>\n",
       "      <td>0.000000</td>\n",
       "      <td>0.0</td>\n",
       "      <td>0.0</td>\n",
       "      <td>0.0</td>\n",
       "      <td>0.0</td>\n",
       "      <td>0.0</td>\n",
       "    </tr>\n",
       "  </tbody>\n",
       "</table>\n",
       "</div>"
      ],
      "text/plain": [
       "                 absorb  absorbed  absorption  abstain  abstemious  \\\n",
       "NAME                                                                 \n",
       "Ada Lovelace        0.0       0.0         0.0      0.0    0.000000   \n",
       "Robert E Lee        0.0       0.0         0.0      0.0    0.000000   \n",
       "Andrew Johnson      0.0       0.0         0.0      0.0    0.000000   \n",
       "Bedford Forrest     0.0       0.0         0.0      0.0    0.023602   \n",
       "Lucretia Mott       0.0       0.0         0.0      0.0    0.000000   \n",
       "\n",
       "                 abstemiousness  abstention  abstinence  abstinent  abstract  \\\n",
       "NAME                                                                           \n",
       "Ada Lovelace                0.0         0.0         0.0        0.0  0.055834   \n",
       "Robert E Lee                0.0         0.0         0.0        0.0  0.000000   \n",
       "Andrew Johnson              0.0         0.0         0.0        0.0  0.000000   \n",
       "Bedford Forrest             0.0         0.0         0.0        0.0  0.000000   \n",
       "Lucretia Mott               0.0         0.0         0.0        0.0  0.000000   \n",
       "\n",
       "                 abstraction  abstractions  abstracts  abstruse  absurd  \n",
       "NAME                                                                     \n",
       "Ada Lovelace             0.0           0.0        0.0       0.0     0.0  \n",
       "Robert E Lee             0.0           0.0        0.0       0.0     0.0  \n",
       "Andrew Johnson           0.0           0.0        0.0       0.0     0.0  \n",
       "Bedford Forrest          0.0           0.0        0.0       0.0     0.0  \n",
       "Lucretia Mott            0.0           0.0        0.0       0.0     0.0  "
      ]
     },
     "execution_count": 127,
     "metadata": {},
     "output_type": "execute_result"
    }
   ],
   "source": [
    "tfidf_df = pd.DataFrame(vectorized_with_tfidf.toarray(), \n",
    "                        index = manifest['NAME'], \n",
    "                        columns = tfidf_vectorizer.get_feature_names_out() #this function pretty litty, get_feature_names_out() i mean\n",
    "                       )\n",
    "tfidf_df.iloc[:5, 100:115]"
   ]
  },
  {
   "cell_type": "code",
   "execution_count": 128,
   "id": "4fe11c39-3f06-425c-a0a2-fe0ff793cbed",
   "metadata": {},
   "outputs": [
    {
     "data": {
      "text/plain": [
       "<AxesSubplot:>"
      ]
     },
     "execution_count": 128,
     "metadata": {},
     "output_type": "execute_result"
    },
    {
     "data": {
      "image/png": "[encoded data removed]",
      "text/plain": [
       "<Figure size 1080x720 with 1 Axes>"
      ]
     },
     "metadata": {
      "needs_background": "light"
     },
     "output_type": "display_data"
    }
   ],
   "source": [
    "tfidf_df.sum().sort_values(ascending = False).plot(figsize = (15,10))"
   ]
  },
  {
   "cell_type": "code",
   "execution_count": 129,
   "id": "026477d4-22a1-4ef8-86f6-8476e452bc38",
   "metadata": {},
   "outputs": [
    {
     "data": {
      "text/plain": [
       "year         3657\n",
       "say          2630\n",
       "new          2350\n",
       "make         2234\n",
       "time         2153\n",
       "work         1739\n",
       "become       1641\n",
       "life         1556\n",
       "war          1505\n",
       "president    1503\n",
       "dtype: int64"
      ]
     },
     "execution_count": 129,
     "metadata": {},
     "output_type": "execute_result"
    }
   ],
   "source": [
    "dtm.sum().sort_values(ascending = False).head(10) #from before"
   ]
  },
  {
   "cell_type": "code",
   "execution_count": 131,
   "id": "4df8f15f-d84a-403c-a367-1ffed9939c09",
   "metadata": {},
   "outputs": [
    {
     "data": {
      "text/plain": [
       "year         14.225657\n",
       "say          10.228583\n",
       "miss          9.847273\n",
       "new           9.228323\n",
       "make          8.481269\n",
       "time          8.181256\n",
       "work          7.918881\n",
       "president     7.393490\n",
       "write         6.995420\n",
       "life          6.894825\n",
       "dtype: float64"
      ]
     },
     "execution_count": 131,
     "metadata": {},
     "output_type": "execute_result"
    }
   ],
   "source": [
    "tfidf_df.sum().sort_values(ascending = False).head(10)"
   ]
  },
  {
   "cell_type": "markdown",
   "id": "1ea88482-2777-4747-bfdb-7ed70121e10f",
   "metadata": {},
   "source": [
    "Generally, raw counts will give me more information about general nouns and verbs, while tf-idf scores tells me what proper nouns the text relates to usually, since proper nouns like names and places are less likely to be replicated in other texts, which probably have their own set of proper nouns that relates closest to this text. \n",
    "\n",
    "Taking a break to eat, at 4.4.4. Come back and finish this up and then call it a day. \n",
    "\n",
    "And I'm back. The next thing I want to look into term correlations, which is information that would tell me if terms are correlated. This means that a term appears usually in the same document as another term if they are positively correlated, and they don't appear in the same document if they are negatively correlated. Kind of like how the pointwise mutual information scores told me how related two tokens in a tuple are to each other. Instead of grouping words by whether or not they appear as bigrams as in PMI, here I will be grouping words by how similar their tf-idf scores are, which would give me words that appear in the same documents at similar tf-idfs, for example.  "
   ]
  },
  {
   "cell_type": "code",
   "execution_count": 134,
   "id": "97c01b0b-2a7d-4cd6-b13e-ac23ece86832",
   "metadata": {},
   "outputs": [
    {
     "data": {
      "text/plain": [
       "damrosch    damrosch      1.000000\n",
       "            morale       -0.006565\n",
       "            overweight   -0.002646\n",
       "            murdoch      -0.002646\n",
       "            wellspring   -0.004191\n",
       "morale      damrosch     -0.006565\n",
       "            morale        1.000000\n",
       "            overweight   -0.006565\n",
       "            murdoch      -0.006565\n",
       "            wellspring   -0.010401\n",
       "overweight  damrosch     -0.002646\n",
       "            morale       -0.006565\n",
       "            overweight    1.000000\n",
       "            murdoch      -0.002646\n",
       "            wellspring   -0.004191\n",
       "murdoch     damrosch     -0.002646\n",
       "            morale       -0.006565\n",
       "            overweight   -0.002646\n",
       "            murdoch       1.000000\n",
       "            wellspring   -0.004191\n",
       "wellspring  damrosch     -0.004191\n",
       "            morale       -0.010401\n",
       "            overweight   -0.004191\n",
       "            murdoch      -0.004191\n",
       "            wellspring    1.000000\n",
       "dtype: float64"
      ]
     },
     "execution_count": 134,
     "metadata": {},
     "output_type": "execute_result"
    }
   ],
   "source": [
    "five_random_tokens = tfidf_df.columns[np.random.choice(len(tfidf_df.columns), 5)]\n",
    "tfidf_df[five_random_tokens].corr().stack()"
   ]
  },
  {
   "cell_type": "code",
   "execution_count": 135,
   "id": "82447b6c-444c-4f63-b81c-ec419fa01089",
   "metadata": {},
   "outputs": [
    {
     "name": "stdout",
     "output_type": "stream",
     "text": [
      "Correlation between artist and paint is 0.6918207826061047\n",
      "Correlation between sword and ship is -0.009130230752989743\n"
     ]
    }
   ],
   "source": [
    "four_selected_terms = {\"artist\": \"paint\", \"sword\": \"ship\"}\n",
    "\n",
    "for term in four_selected_terms:\n",
    "    print(f\"Correlation between {term} and {four_selected_terms[term]} is {tfidf_df[term].corr(tfidf_df[four_selected_terms[term]])}\")"
   ]
  },
  {
   "cell_type": "code",
   "execution_count": 142,
   "id": "6ff17ff5-2f35-4183-91ef-1c965f8cd9ac",
   "metadata": {},
   "outputs": [
    {
     "name": "stdout",
     "output_type": "stream",
     "text": [
      "count    379.000000\n",
      "mean       0.005862\n",
      "std        0.020466\n",
      "min        0.000000\n",
      "25%        0.000000\n",
      "50%        0.000000\n",
      "75%        0.000000\n",
      "max        0.262750\n",
      "Name: artist, dtype: float64\n",
      "-\n",
      "count    379.000000\n",
      "mean       0.002990\n",
      "std        0.014718\n",
      "min        0.000000\n",
      "25%        0.000000\n",
      "50%        0.000000\n",
      "75%        0.000000\n",
      "max        0.143787\n",
      "Name: paint, dtype: float64\n"
     ]
    }
   ],
   "source": [
    "print(tfidf_df['artist'].describe())\n",
    "print('-')\n",
    "print(tfidf_df['paint'].describe())"
   ]
  },
  {
   "cell_type": "code",
   "execution_count": 143,
   "id": "948aaa82-2998-4cc2-85d7-19b9365b31ca",
   "metadata": {},
   "outputs": [
    {
     "name": "stdout",
     "output_type": "stream",
     "text": [
      "count    379.000000\n",
      "mean       0.000876\n",
      "std        0.006290\n",
      "min        0.000000\n",
      "25%        0.000000\n",
      "50%        0.000000\n",
      "75%        0.000000\n",
      "max        0.072401\n",
      "Name: sword, dtype: float64\n",
      "-\n",
      "count    379.000000\n",
      "mean       0.002469\n",
      "std        0.009251\n",
      "min        0.000000\n",
      "25%        0.000000\n",
      "50%        0.000000\n",
      "75%        0.000000\n",
      "max        0.066381\n",
      "Name: ship, dtype: float64\n"
     ]
    }
   ],
   "source": [
    "print(tfidf_df['sword'].describe())\n",
    "print('-')\n",
    "print(tfidf_df['ship'].describe())"
   ]
  },
  {
   "cell_type": "markdown",
   "id": "a41866e8-bfaf-48b5-b09f-738d6682855b",
   "metadata": {},
   "source": [
    "Yeah I know that's not necessarily the best check of similarity, but it seems to indicate that the list of tf-idf values for artist and paint are closer to each other than the list of tf-idf values for sword and ship are to each other. \n",
    "\n",
    "Okay I am going to call it for the day. Just going to save the tfidf dataframe, maybe do more of this tomorrow, but I'll probably finish up the last two chapters after the weekend. "
   ]
  },
  {
   "cell_type": "code",
   "execution_count": 145,
   "id": "0bc3d7fc-9a36-478f-998f-9a5a8546a2f8",
   "metadata": {},
   "outputs": [],
   "source": [
    "outdir = \"/Users/ankushbharadwaj/Desktop/GettingStartedwTextDatainPython/tm_workshop_data/session_two/output/\"\n",
    "tfidf_df.to_csv(outdir + \"tfidf_df.csv\")"
   ]
  },
  {
   "cell_type": "code",
   "execution_count": null,
   "id": "e35f5bc8-9343-4cf0-87a1-c4010dfc634b",
   "metadata": {},
   "outputs": [],
   "source": []
  }
 ],
 "metadata": {
  "kernelspec": {
   "display_name": "Python 3 (ipykernel)",
   "language": "python",
   "name": "python3"
  },
  "language_info": {
   "codemirror_mode": {
    "name": "ipython",
    "version": 3
   },
   "file_extension": ".py",
   "mimetype": "text/x-python",
   "name": "python",
   "nbconvert_exporter": "python",
   "pygments_lexer": "ipython3",
   "version": "3.9.12"
  }
 },
 "nbformat": 4,
 "nbformat_minor": 5
}
